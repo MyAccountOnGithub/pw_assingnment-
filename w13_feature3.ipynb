{
 "cells": [
  {
   "cell_type": "code",
   "execution_count": 1,
   "id": "7d8dc8ed-f96d-41ff-aedb-6146a569de29",
   "metadata": {},
   "outputs": [
    {
     "data": {
      "text/plain": [
       "'Data encoding refers to the process of converting data into a specific format that allows efficient storage, transmission, and\\nprocessing by machines. In data science, encoding is particularly useful for transforming categorical data into a numerical format that\\ncan be easily used by machine learning algorithms.'"
      ]
     },
     "execution_count": 1,
     "metadata": {},
     "output_type": "execute_result"
    }
   ],
   "source": [
    "# Q1. What is data encoding? How is it useful in data science?\n",
    "'''Data encoding refers to the process of converting data into a specific format that allows efficient storage, transmission, and\n",
    "processing by machines. In data science, encoding is particularly useful for transforming categorical data into a numerical format that\n",
    "can be easily used by machine learning algorithms.'''"
   ]
  },
  {
   "cell_type": "code",
   "execution_count": 2,
   "id": "553dfd1d-457f-4434-9d60-388123959714",
   "metadata": {},
   "outputs": [
    {
     "data": {
      "text/plain": [
       "'Nominal encoding, often referred to as One-Hot Encoding, is a method used to convert categorical data, particularly nominal \\n(non-ordinal) categorical variables, into a format that can be used by machine learning algorithms. Nominal variables are categories that \\ndo not have any inherent order or ranking among them.\\nIn real word scenario we can use Predicting Customer Churn in a Telecom Company'"
      ]
     },
     "execution_count": 2,
     "metadata": {},
     "output_type": "execute_result"
    }
   ],
   "source": [
    "#Q2. What is nominal encoding? Provide an example of how you would use it in a real-world scenario.\n",
    "'''Nominal encoding, often referred to as One-Hot Encoding, is a method used to convert categorical data, particularly nominal \n",
    "(non-ordinal) categorical variables, into a format that can be used by machine learning algorithms. Nominal variables are categories that \n",
    "do not have any inherent order or ranking among them.\n",
    "In real word scenario we can use Predicting Customer Churn in a Telecom Company'''"
   ]
  },
  {
   "cell_type": "code",
   "execution_count": 3,
   "id": "456388a5-99e2-4b12-979d-ededd3ba7c4e",
   "metadata": {},
   "outputs": [
    {
     "data": {
      "text/plain": [
       "'Nominal encoding and one-hot encoding are often used interchangeably, as nominal encoding typically refers to the process of \\ntransforming nominal categorical variables into a numerical format, often achieved through one-hot encoding. However, there are specific \\ninstances where other forms of encoding might be preferred over one-hot encoding, such as when dealing with high-cardinality categorical \\nvariables or when the model or situation benefits from a different representation.\\n\\nExample: Predicting House Prices\\nYou are developing a model to predict house prices. One of the features in your dataset is the \"Neighborhood\" of the house. There are 100 \\nunique neighborhoods in the dataset, making it a high-cardinality categorical variable.'"
      ]
     },
     "execution_count": 3,
     "metadata": {},
     "output_type": "execute_result"
    }
   ],
   "source": [
    "#Q3. In what situations is nominal encoding preferred over one-hot encoding? Provide a practical example.\n",
    "'''Nominal encoding and one-hot encoding are often used interchangeably, as nominal encoding typically refers to the process of \n",
    "transforming nominal categorical variables into a numerical format, often achieved through one-hot encoding. However, there are specific \n",
    "instances where other forms of encoding might be preferred over one-hot encoding, such as when dealing with high-cardinality categorical \n",
    "variables or when the model or situation benefits from a different representation.\n",
    "\n",
    "Example: Predicting House Prices\n",
    "You are developing a model to predict house prices. One of the features in your dataset is the \"Neighborhood\" of the house. There are 100 \n",
    "unique neighborhoods in the dataset, making it a high-cardinality categorical variable.'''"
   ]
  },
  {
   "cell_type": "code",
   "execution_count": 4,
   "id": "284e5640-d82a-46b3-8ce7-66a8d5847d1e",
   "metadata": {},
   "outputs": [
    {
     "data": {
      "text/plain": [
       "\"Are the 5 unique values ordinal or nominal?\\nOrdinal variables have a meaningful order (e.g., low, medium, high), whereas nominal variables do not (e.g., colors: red, green, blue).\\nIf the categorical variable is nominal (no inherent order):\\n\\nOne-Hot Encoding:\\nWhy: One-hot encoding is suitable because it transforms each category into a separate binary column. This approach prevents the model from assuming any ordinal relationship between categories and allows it to treat each category equally.\\nExample: If the categorical variable represents different types of fruits (apple, orange, banana, grape, kiwi), one-hot encoding would create 5 binary columns, each representing one of these fruits.\\nIf the categorical variable is ordinal (has a meaningful order):\\n\\nOrdinal Encoding:\\nWhy: Ordinal encoding assigns integers to each category based on their order. This encoding preserves the ordinal relationship between categories, which can be beneficial for models that can utilize this information (e.g., decision trees).\\nExample: If the categorical variable represents education levels (high school, some college, bachelor's degree, master's degree, PhD), ordinal encoding would assign increasing integers (e.g., 1, 2, 3, 4, 5) based on the level of education.\""
      ]
     },
     "execution_count": 4,
     "metadata": {},
     "output_type": "execute_result"
    }
   ],
   "source": [
    "#Q4. Suppose you have a dataset containing categorical data with 5 unique values. Which encoding technique would you use to transform this\n",
    "#data into a format suitable for machine learning algorithms?Explain why you made this choice.\n",
    "'''Are the 5 unique values ordinal or nominal?\n",
    "Ordinal variables have a meaningful order (e.g., low, medium, high), whereas nominal variables do not (e.g., colors: red, green, blue).\n",
    "If the categorical variable is nominal (no inherent order):\n",
    "\n",
    "One-Hot Encoding:\n",
    "Why: One-hot encoding is suitable because it transforms each category into a separate binary column. This approach prevents the model from assuming any ordinal relationship between categories and allows it to treat each category equally.\n",
    "Example: If the categorical variable represents different types of fruits (apple, orange, banana, grape, kiwi), one-hot encoding would create 5 binary columns, each representing one of these fruits.\n",
    "If the categorical variable is ordinal (has a meaningful order):\n",
    "\n",
    "Ordinal Encoding:\n",
    "Why: Ordinal encoding assigns integers to each category based on their order. This encoding preserves the ordinal relationship between categories, which can be beneficial for models that can utilize this information (e.g., decision trees).\n",
    "Example: If the categorical variable represents education levels (high school, some college, bachelor's degree, master's degree, PhD), ordinal encoding would assign increasing integers (e.g., 1, 2, 3, 4, 5) based on the level of education.'''"
   ]
  },
  {
   "cell_type": "code",
   "execution_count": 5,
   "id": "a99d3e9c-60bc-4d75-9127-8ff2349af9cf",
   "metadata": {},
   "outputs": [
    {
     "data": {
      "text/plain": [
       "'2 columns are categorical.\\nso\\nColumn 1: \"Color\" with 4 unique categories (red, green, blue, yellow).\\nColumn 2: \"Size\" with 3 unique categories (small, medium, large).\\n4*3=7\\nTotal 7 coloumn are new form'"
      ]
     },
     "execution_count": 5,
     "metadata": {},
     "output_type": "execute_result"
    }
   ],
   "source": [
    "#Q5. In a machine learning project, you have a dataset with 1000 rows and 5 columns. Two of the columns are categorical, and the remaining \n",
    "#three columns are numerical. If you were to use nominal encoding to transform the categorical data, how many new columns would be created?\n",
    "#Show your calculations.\n",
    "'''2 columns are categorical.\n",
    "so\n",
    "Column 1: \"Color\" with 4 unique categories (red, green, blue, yellow).\n",
    "Column 2: \"Size\" with 3 unique categories (small, medium, large).\n",
    "4*3=7\n",
    "Total 7 coloumn are new form'''"
   ]
  },
  {
   "cell_type": "code",
   "execution_count": 6,
   "id": "925b4cb6-57aa-48c6-9688-7d4ee3030d69",
   "metadata": {},
   "outputs": [
    {
     "data": {
      "text/plain": [
       "'One-Hot Encoding: This technique is particularly versatile and ensures that each category within a nominal variable is represented by \\nits own binary column. It prevents the model from assuming any ordinal relationships between categories and is widely supported by various \\nmachine learning algorithms.'"
      ]
     },
     "execution_count": 6,
     "metadata": {},
     "output_type": "execute_result"
    }
   ],
   "source": [
    "#Q6. You are working with a dataset containing information about different types of animals, including their species, habitat, and diet.\n",
    "#Which encoding technique would you use to transform the categorical data into a format suitable for machine learning algorithms? Justify\n",
    "#your answer\n",
    "'''One-Hot Encoding: This technique is particularly versatile and ensures that each category within a nominal variable is represented by \n",
    "its own binary column. It prevents the model from assuming any ordinal relationships between categories and is widely supported by various \n",
    "machine learning algorithms.'''"
   ]
  },
  {
   "cell_type": "code",
   "execution_count": 1,
   "id": "8359298f-60db-435f-b0d2-52e3a827e4f1",
   "metadata": {},
   "outputs": [
    {
     "data": {
      "text/plain": [
       "\" we can use encoding techniques such as Label Encoding or One-Hot Encoding. \\nImplementation\\n1.Import Necessary Libraries\\n\\nimport pandas as pd\\nfrom sklearn.preprocessing import LabelEncoder, OneHotEncoder\\nfrom sklearn.compose import ColumnTransformer\\n\\n2.Load the Dataset:\\n# Assuming the dataset is a CSV file\\ndf = pd.read_csv('customer_churn.csv')\\n\\n3.Identify Categorical Features:\\ncategorical_features = ['gender', 'contract_type']\\n\\n4.Choose Encoding Technique\\n5.Apply One-Hot Encoding:\\nfrom sklearn.compose import ColumnTransformer\\nfrom sklearn.preprocessing import OneHotEncoder\\n\\n# Define the ColumnTransformer\\nct = ColumnTransformer(\\n    transformers=[\\n        ('onehot', OneHotEncoder(), categorical_features)\\n    ],\\n    remainder='passthrough'  # Keep other columns unchanged\\n)\\n\\n# Apply the transformation\\ndf_transformed = ct.fit_transform(df)\\n\""
      ]
     },
     "execution_count": 1,
     "metadata": {},
     "output_type": "execute_result"
    }
   ],
   "source": [
    "#Q7.You are working on a project that involves predicting customer churn for a telecommunications company. You have a dataset with 5 \n",
    "#features, including the customer's gender, age, contract type,monthly charges, and tenure. Which encoding technique(s) would you use to \n",
    "#transform the categorical data into numerical data? Provide a step-by-step explanation of how you would implement the encoding.\n",
    "''' we can use encoding techniques such as Label Encoding or One-Hot Encoding. \n",
    "Implementation\n",
    "1.Import Necessary Libraries\n",
    "\n",
    "import pandas as pd\n",
    "from sklearn.preprocessing import LabelEncoder, OneHotEncoder\n",
    "from sklearn.compose import ColumnTransformer\n",
    "\n",
    "2.Load the Dataset:\n",
    "# Assuming the dataset is a CSV file\n",
    "df = pd.read_csv('customer_churn.csv')\n",
    "\n",
    "3.Identify Categorical Features:\n",
    "categorical_features = ['gender', 'contract_type']\n",
    "\n",
    "4.Choose Encoding Technique\n",
    "5.Apply One-Hot Encoding:\n",
    "from sklearn.compose import ColumnTransformer\n",
    "from sklearn.preprocessing import OneHotEncoder\n",
    "\n",
    "# Define the ColumnTransformer\n",
    "ct = ColumnTransformer(\n",
    "    transformers=[\n",
    "        ('onehot', OneHotEncoder(), categorical_features)\n",
    "    ],\n",
    "    remainder='passthrough'  # Keep other columns unchanged\n",
    ")\n",
    "\n",
    "# Apply the transformation\n",
    "df_transformed = ct.fit_transform(df)\n",
    "'''"
   ]
  },
  {
   "cell_type": "code",
   "execution_count": null,
   "id": "183518b5-0767-4336-94d1-b7bf131c967e",
   "metadata": {},
   "outputs": [],
   "source": []
  }
 ],
 "metadata": {
  "kernelspec": {
   "display_name": "Python 3 (ipykernel)",
   "language": "python",
   "name": "python3"
  },
  "language_info": {
   "codemirror_mode": {
    "name": "ipython",
    "version": 3
   },
   "file_extension": ".py",
   "mimetype": "text/x-python",
   "name": "python",
   "nbconvert_exporter": "python",
   "pygments_lexer": "ipython3",
   "version": "3.10.8"
  }
 },
 "nbformat": 4,
 "nbformat_minor": 5
}
