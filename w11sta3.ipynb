{
 "cells": [
  {
   "cell_type": "code",
   "execution_count": 1,
   "id": "247d5a1a-05d0-4895-b05d-4fd6ac2feb68",
   "metadata": {},
   "outputs": [
    {
     "data": {
      "text/plain": [
       "'Estimate:It is an observed numerical value used to estimate an unknow population parameter\\nPoint estimation:single numerical value used to estimate the unknown population parameter \\nex: mean of the population data \\nInterval estimation:Range of value is used to estimate the unknow population parameter is also called as a confidence intervals.'"
      ]
     },
     "execution_count": 1,
     "metadata": {},
     "output_type": "execute_result"
    }
   ],
   "source": [
    "# Q1: What is Estimation Statistics? Explain point estimate and interval estimate.\n",
    "'''Estimate:It is an observed numerical value used to estimate an unknow population parameter\n",
    "Point estimation:single numerical value used to estimate the unknown population parameter \n",
    "ex: mean of the population data \n",
    "Interval estimation:Range of value is used to estimate the unknow population parameter is also called as a confidence intervals.'''"
   ]
  },
  {
   "cell_type": "code",
   "execution_count": 2,
   "id": "f0e5347e-100f-4df5-ae44-9a3bb94abca2",
   "metadata": {},
   "outputs": [
    {
     "name": "stdout",
     "output_type": "stream",
     "text": [
      "46.285714285714285\n"
     ]
    }
   ],
   "source": [
    "# Q2. Write a Python function to estimate the population mean using a sample mean and standard deviation.\n",
    "def estimate(sample):\n",
    "    sample_mean=sum(sample)/len(sample)\n",
    "    print(sample_mean)\n",
    "    \n",
    "sample=[10,20,46,65,46,73,64]\n",
    "estimate(sample)"
   ]
  },
  {
   "cell_type": "code",
   "execution_count": null,
   "id": "d16d0020-12ea-478c-bbd3-bae1d145ae9c",
   "metadata": {},
   "outputs": [],
   "source": [
    "# Q3: What is Hypothesis testing? Why is it used? State the importance of Hypothesis testing.\n",
    "'''Hypothesis testing is a systematic procedure for deciding whether the results of a research study support a particular theory which applies to a\n",
    "population.Hypothesis testing uses sample data to evaluate a hypothesis about a population\n",
    "its importance to you want to prove if your data is statistically meaningful and unlikely to have occurred by chance only'''\n"
   ]
  },
  {
   "cell_type": "code",
   "execution_count": 14,
   "id": "415964b0-5899-4b92-b348-39cf7b174aaa",
   "metadata": {},
   "outputs": [],
   "source": [
    "# Q5. Write a Python script to conduct a hypothesis test on the difference between two population means, given a sample from each population.\n",
    "import numpy as np\n",
    "from scipy import stats\n",
    "\n",
    "def two_sample_ttest(sample1, sample2, alpha=0.05, two_tailed=True):\n",
    "    # Calculate t-statistic and p-value\n",
    "    t_stat, p_value = stats.ttest_ind(sample1, sample2)\n",
    "    \n",
    "    # For a one-tailed test, halve the p-value\n",
    "    if not two_tailed:\n",
    "        p_value /= 2\n",
    "\n",
    "    # Decision based on p-value\n",
    "    if p_value < alpha:\n",
    "        decision = 'Reject the null hypothesis.'\n",
    "    else:\n",
    "        decision = 'Fail to reject the null hypothesis.'\n",
    "\n",
    "    return t_stat, p_value, decision"
   ]
  },
  {
   "cell_type": "code",
   "execution_count": 15,
   "id": "2f2b63ac-edf9-47ae-b91d-60770dd302fb",
   "metadata": {},
   "outputs": [
    {
     "data": {
      "text/plain": [
       "(-2.0, 0.08051623795726257)"
      ]
     },
     "execution_count": 15,
     "metadata": {},
     "output_type": "execute_result"
    }
   ],
   "source": [
    "t_stat,p_value"
   ]
  },
  {
   "cell_type": "code",
   "execution_count": 16,
   "id": "0f39e2e0-f3d5-425e-8d42-9b6877230ac2",
   "metadata": {},
   "outputs": [
    {
     "name": "stdout",
     "output_type": "stream",
     "text": [
      "t-statistic: -2.0\n",
      "p-value: 0.08051623795726257\n",
      "Fail to reject the null hypothesis.\n"
     ]
    }
   ],
   "source": [
    "sample1 = [25, 30, 35, 40, 45]\n",
    "sample2 = [35, 40, 45, 50, 55]\n",
    "t_stat, p_value, decision = two_sample_ttest(sample1, sample2)\n",
    "print(f\"t-statistic: {t_stat}\")\n",
    "print(f\"p-value: {p_value}\")\n",
    "print(decision)"
   ]
  },
  {
   "cell_type": "code",
   "execution_count": 17,
   "id": "d81a7784-8aed-462a-85b9-cab7104f3b27",
   "metadata": {},
   "outputs": [
    {
     "data": {
      "text/plain": [
       "'Null hypothesis means the assumption your are beginning with \\nAlternative hypothesis is opposite of null hypothesis\\nexa:\\nImagine a pharmaceutical company has developed a new drug that it claims reduces blood pressure more effectively than the current leading drug in the\\nmarket. The company conducts an experiment where participants are divided into two groups: one group receives the new drug and the other receives the\\ncurrent leading drug. The goal is to determine if the new drug is indeed more effective.\\nThe null hypothesis is a statement of no effect\\nIn alternative hypothesis the pharmaceutical company wants to prove that the new drug is more effective than the current leading drug.'"
      ]
     },
     "execution_count": 17,
     "metadata": {},
     "output_type": "execute_result"
    }
   ],
   "source": [
    "# Q6: What is a null and alternative hypothesis? Give some examples.\n",
    "'''Null hypothesis means the assumption your are beginning with \n",
    "Alternative hypothesis is opposite of null hypothesis\n",
    "exa:\n",
    "Imagine a pharmaceutical company has developed a new drug that it claims reduces blood pressure more effectively than the current leading drug in the\n",
    "market. The company conducts an experiment where participants are divided into two groups: one group receives the new drug and the other receives the\n",
    "current leading drug. The goal is to determine if the new drug is indeed more effective.\n",
    "The null hypothesis is a statement of no effect\n",
    "In alternative hypothesis the pharmaceutical company wants to prove that the new drug is more effective than the current leading drug.'''\n"
   ]
  },
  {
   "cell_type": "code",
   "execution_count": 18,
   "id": "d98993aa-9139-439b-98e8-b0ee9e0bb935",
   "metadata": {},
   "outputs": [
    {
     "data": {
      "text/plain": [
       "'1.Define the null  hypothesis \\n2.Define the alternate hypothesis \\n3.Experiments and proof collection \\n4.Accept the null hypothesis or Reject the null hypothesis '"
      ]
     },
     "execution_count": 18,
     "metadata": {},
     "output_type": "execute_result"
    }
   ],
   "source": [
    "# Q7: Write down the steps involved in hypothesis testing.\n",
    "'''1.Define the null  hypothesis \n",
    "2.Define the alternate hypothesis \n",
    "3.Experiments and proof collection \n",
    "4.Accept the null hypothesis or Reject the null hypothesis '''"
   ]
  },
  {
   "cell_type": "code",
   "execution_count": 19,
   "id": "0a9b003e-a25c-4dbe-95ea-42006caea35a",
   "metadata": {},
   "outputs": [
    {
     "data": {
      "text/plain": [
       "'The p value is a number, calculated from a statistical test, that describes how likely you are to have found a particular set of observations if \\nthe null hypothesis were true.\\nP values are used in hypothesis testing to help decide whether to reject the null hypothesis. The smaller the p value, the more likely you are to \\nreject the null hypothesis.'"
      ]
     },
     "execution_count": 19,
     "metadata": {},
     "output_type": "execute_result"
    }
   ],
   "source": [
    "# Q8. Define p-value and explain its significance in hypothesis testing.\n",
    "'''The p value is a number, calculated from a statistical test, that describes how likely you are to have found a particular set of observations if \n",
    "the null hypothesis were true.\n",
    "P values are used in hypothesis testing to help decide whether to reject the null hypothesis. The smaller the p value, the more likely you are to \n",
    "reject the null hypothesis.'''"
   ]
  },
  {
   "cell_type": "code",
   "execution_count": 9,
   "id": "296b257d-5875-42eb-8d85-2ea9df7ae9e9",
   "metadata": {},
   "outputs": [
    {
     "data": {
      "text/plain": [
       "Text(0, 0.5, 'Probability Density')"
      ]
     },
     "execution_count": 9,
     "metadata": {},
     "output_type": "execute_result"
    },
    {
     "data": {
      "image/png": "[encoded data removed]",
      "text/plain": [
       "<Figure size 640x480 with 1 Axes>"
      ]
     },
     "metadata": {},
     "output_type": "display_data"
    }
   ],
   "source": [
    "# Q9. Generate a Student's t-distribution plot using Python's matplotlib library, with the degrees of freedom parameter set to 10.\n",
    "import numpy as np\n",
    "import matplotlib.pyplot as plt \n",
    "from scipy.stats import t\n",
    "df = 10  # degrees of freedom\n",
    "x = np.linspace(-5, 5, 1000)\n",
    "y = t.pdf(x, df)\n",
    "\n",
    "plt.plot(x,y)\n",
    "plt.xlabel('x')\n",
    "plt.ylabel('Probability Density')\n"
   ]
  },
  {
   "cell_type": "code",
   "execution_count": 15,
   "id": "2b9ba076-159e-4e30-bc51-2b7dddf72077",
   "metadata": {},
   "outputs": [
    {
     "name": "stdout",
     "output_type": "stream",
     "text": [
      "The pvalue is0.7149381069356553and the t statistic is-0.37398720154587206\n",
      "Fail to reject the null hypothesis:Insufficient evidence to say that population mean are different\n"
     ]
    }
   ],
   "source": [
    "# Q10. Write a Python program to calculate the two-sample t-test for independent samples, given two random samples of equal size and a null hypothesis\n",
    "# that the population means are equal.\n",
    "import numpy as np\n",
    "from scipy.stats import ttest_ind\n",
    "def t_test(samp1,samp2,alpha=0.5):\n",
    "    # perform t test\n",
    "    t_test,pvalue=ttest_ind(samp1,samp2)\n",
    "    # determine the decision base on pvalue \n",
    "    if pvalue<alpha:\n",
    "        decision=\"Reject the null hypothesis: population mean are different\"\n",
    "    else:\n",
    "        decision=\"Fail to reject the null hypothesis:Insufficient evidence to say that population mean are different\"\n",
    "    return t_test,pvalue,decision \n",
    "\n",
    "samp=[23,67,87,45,34,65,44]\n",
    "samp2=[78,89,43,22,34,56,76]\n",
    "t_test,pvalue,decision=t_test(samp,samp2)\n",
    "print(f\"The pvalue is{pvalue}and the t statistic is{t_test}\")\n",
    "print(decision)"
   ]
  },
  {
   "cell_type": "code",
   "execution_count": null,
   "id": "1ff15c70-47af-4b0d-9bd7-53120324cab1",
   "metadata": {},
   "outputs": [],
   "source": [
    "# Q11: What is Student’s t distribution? When to use the t-Distribution.\n",
    "'''Student’s t-distribution, often just referred to as the t-distribution, is a probability distribution that is used to estimate population parameters\n",
    "when the sample size is small and/or when the population variance is unknown. It is similar in shape to the normal distribution but tends to have \n",
    "heavier tails. This means it is more prone to producing values that fall far from its mean. The exact shape of the t-distribution depends on a\n",
    "parameter called \"degrees of freedom\", often denoted as df. The larger the degrees of freedom, the closer the t-distribution is to the normal\n",
    "distribution\n",
    "It use when\n",
    "Small Sample Size\n",
    "Unknown Population Variance\n",
    "Paired t-test: When comparing means from the same group at different times (for example, before and after a treatment).\n",
    "Regression Analysis: In regression, the t-distribution is used to test hypotheses about the coefficients'''"
   ]
  },
  {
   "cell_type": "code",
   "execution_count": 16,
   "id": "85963b24-edc5-497e-908a-f48061d733fc",
   "metadata": {},
   "outputs": [
    {
     "data": {
      "text/plain": [
       "'The t-statistic is a statistic that is used to compare the means of two samples or to compare a sample mean to a known value when the population \\nvariance is unknown. It is used in hypothesis testing to determine whether to reject the null hypothesis. The t-statistic takes into account the \\ndifference between the sample mean(s) and the hypothesized value or values, as well as the sample size and variability.\\nFormula:\\nt=xbar(sample mean)-population mean/sample_sta_deviation*sqroot(sample size)'"
      ]
     },
     "execution_count": 16,
     "metadata": {},
     "output_type": "execute_result"
    }
   ],
   "source": [
    "# Q12: What is t-statistic? State the formula for t-statistic.\n",
    "'''The t-statistic is a statistic that is used to compare the means of two samples or to compare a sample mean to a known value when the population \n",
    "variance is unknown. It is used in hypothesis testing to determine whether to reject the null hypothesis. The t-statistic takes into account the \n",
    "difference between the sample mean(s) and the hypothesized value or values, as well as the sample size and variability.\n",
    "Formula:\n",
    "t=xbar(sample mean)-population mean/sample_sta_deviation*sqroot(sample size)'''"
   ]
  },
  {
   "cell_type": "code",
   "execution_count": 17,
   "id": "41269e03-7763-4f73-9538-b295ddf574c5",
   "metadata": {},
   "outputs": [
    {
     "data": {
      "text/plain": [
       "'mean(x)=500\\nstandard_deviation(s)=50\\nsample size(n)=50 days\\nc.i=95%\\ndf=n-1=50-1=49\\n determine the t-value corresponding to the cumulative probability of (1 - 0.95)/2 in either tail.\\n Using statistical tables or software, the critical t-value for 49 degrees of freedom at a 0.025 tail (or 0.975 cumulative probability from the left)\\n is approximately 2.0096.\\n margin of error =t*(s/(n)sqroot)\\n   =2.0996*(50/(50)sqroot)\\n   ~14.29\\n   Calculate the confidence interval:\\nLower limit: \\x08ar{x} - MOE = $500 - $14.20 = $485.80\\nUpper limit: \\x08ar{x} + MOE = $500 + $14.20 = $514.20\\nSo, with 95% confidence, the population mean revenue for the coffee shop lies between $485.80 and $514.20.'"
      ]
     },
     "execution_count": 17,
     "metadata": {},
     "output_type": "execute_result"
    }
   ],
   "source": [
    "# Q13. A coffee shop owner wants to estimate the average daily revenue for their shop. They take a random sample of 50 days and find the sample mean\n",
    "# revenue to be $500 with a standard deviation of $50.Estimate the population mean revenue with a 95% confidence interval.\n",
    "'''mean(x)=500\n",
    "standard_deviation(s)=50\n",
    "sample size(n)=50 days\n",
    "c.i=95%\n",
    "df=n-1=50-1=49\n",
    " determine the t-value corresponding to the cumulative probability of (1 - 0.95)/2 in either tail.\n",
    " Using statistical tables or software, the critical t-value for 49 degrees of freedom at a 0.025 tail (or 0.975 cumulative probability from the left)\n",
    " is approximately 2.0096.\n",
    " margin of error =t*(s/(n)sqroot)\n",
    "   =2.0996*(50/(50)sqroot)\n",
    "   ~14.29\n",
    "   Calculate the confidence interval:\n",
    "Lower limit: \\bar{x} - MOE = $500 - $14.20 = $485.80\n",
    "Upper limit: \\bar{x} + MOE = $500 + $14.20 = $514.20\n",
    "So, with 95% confidence, the population mean revenue for the coffee shop lies between $485.80 and $514.20.'''\n"
   ]
  },
  {
   "cell_type": "code",
   "execution_count": 18,
   "id": "5a742984-ed37-4aaa-a2cf-d8b2b4efdf29",
   "metadata": {},
   "outputs": [
    {
     "data": {
      "text/plain": [
       "\" test the null hypothesis=10\\nThe alternative hypothesis not equal to 10\\nThis is a two-tailed test because the researcher is interested in deviations from the 10 mmHg claim in either direction.\\nsample mean=8,std=3,alpha=0.05,df=100-1=99\\nby formula t=-6.67\\nthe critical t-values for a two-tailed test can be found using statistical tables or software. Let's say they are approximately ±1.984\\nThe calculated t-statistic, -6.67, is to the left of the negative critical t-value, -1.984\\nDecision:\\nSince the calculated t-statistic falls in the rejection region, we reject the null hypothesis.\""
      ]
     },
     "execution_count": 18,
     "metadata": {},
     "output_type": "execute_result"
    }
   ],
   "source": [
    "# Q14. A researcher hypothesizes that a new drug will decrease blood pressure by 10 mmHg. They conduct a clinical trial with 100 patients and find \n",
    "# that the sample mean decrease in blood pressure is 8 mmHg with a standard deviation of 3 mmHg. Test the hypothesis with a significance level of 0.05.\n",
    "''' test the null hypothesis=10\n",
    "The alternative hypothesis not equal to 10\n",
    "This is a two-tailed test because the researcher is interested in deviations from the 10 mmHg claim in either direction.\n",
    "sample mean=8,std=3,alpha=0.05,df=100-1=99\n",
    "by formula t=-6.67\n",
    "the critical t-values for a two-tailed test can be found using statistical tables or software. Let's say they are approximately ±1.984\n",
    "The calculated t-statistic, -6.67, is to the left of the negative critical t-value, -1.984\n",
    "Decision:\n",
    "Since the calculated t-statistic falls in the rejection region, we reject the null hypothesis.'''\n"
   ]
  },
  {
   "cell_type": "code",
   "execution_count": null,
   "id": "4277bfb8-505d-40cc-940a-8ad4034756bf",
   "metadata": {},
   "outputs": [],
   "source": [
    "# Q15. An electronics company produces a certain type of product with a mean weight of 5 pounds and a standard deviation of 0.5 pounds. A random\n",
    "# sample of 25 products is taken, and the sample mean weight is found to be 4.8 pounds. Test the hypothesis that the true mean weight of the products\n",
    "# is less than 5 pounds with a significance level of 0.01.\n",
    "''' the null hypothesis:5\n",
    "alternate hypothesis:not equal to 5\n",
    "Calculate the z-statistic\n",
    "z=xbar(sample mean)-population mean/population_sta_deviation*sqroot(sample size)\n",
    "z=-2\n",
    "from z table approximately value is -2.33.\n",
    "Since the calculated z-statistic does not fall in the rejection region (it's greater than -2.33), we fail to reject the null hypothesis.'''"
   ]
  },
  {
   "cell_type": "code",
   "execution_count": 19,
   "id": "9ce764ac-1b12-4bcc-8841-4e098f4ab4fb",
   "metadata": {},
   "outputs": [
    {
     "data": {
      "text/plain": [
       "\"the null hypothesis H0:μ1=μ2\\nalternate opposite to null hypothesis\\nThis is a two-tailed test because we're interested in differences in either direction between the two groups.\\ncalculate t by 2 tail test formula then t=app2.448\\nUsing the t-table or software, for α/2=0.005 (two-tailed) and the calculated degrees of freedom, determine the critical t-value.\\nCompare the calculated t-statistic to the critical t-value.\\nDecision:\\n\\nIf the absolute value of our calculated t-statistic is greater than the critical t-value, then we reject the null hypothesis. Otherwise, we fail to \\nreject it.\\nGiven our calculated t-value and after comparing it to the critical t-value for the significance level and degrees of freedom, we can determine\\nwhether there's sufficient evidence to reject the null hypothesis that the population means for the two groups are equal at the 0.01 significance\\nlevel.\""
      ]
     },
     "execution_count": 19,
     "metadata": {},
     "output_type": "execute_result"
    }
   ],
   "source": [
    "# Q16. Two groups of students are given different study materials to prepare for a test. The first group (n1 =30) has a mean score of 80 with a \n",
    "# standard deviation of 10, and the second group (n2 = 40) has a mean score of 75 with a standard deviation of 8. Test the hypothesis that the \n",
    "# population means for the two groups are equal with a significance level of 0.01.\n",
    "'''the null hypothesis H0:μ1=μ2\n",
    "alternate opposite to null hypothesis\n",
    "This is a two-tailed test because we're interested in differences in either direction between the two groups.\n",
    "calculate t by 2 tail test formula then t=app2.448\n",
    "Using the t-table or software, for α/2=0.005 (two-tailed) and the calculated degrees of freedom, determine the critical t-value.\n",
    "Compare the calculated t-statistic to the critical t-value.\n",
    "Decision:\n",
    "\n",
    "If the absolute value of our calculated t-statistic is greater than the critical t-value, then we reject the null hypothesis. Otherwise, we fail to \n",
    "reject it.\n",
    "Given our calculated t-value and after comparing it to the critical t-value for the significance level and degrees of freedom, we can determine\n",
    "whether there's sufficient evidence to reject the null hypothesis that the population means for the two groups are equal at the 0.01 significance\n",
    "level.'''\n"
   ]
  },
  {
   "cell_type": "code",
   "execution_count": 20,
   "id": "474564b8-8289-4bca-ad08-985993795071",
   "metadata": {},
   "outputs": [
    {
     "data": {
      "text/plain": [
       "\"mean=4,sample std=1.5,sample size=50,df=49\\nFor a 99% confidence interval, you'd need to determine the t-value corresponding to the cumulative probability of (1 - 0.99)/2 in either tail. In\\nother words, you need the t-value for a cumulative probability of 0.005 with 49 degrees of freedom.\\nLet's assume the critical t-value for a 99% confidence interval and 49 degrees of freedom is approximately 2.68 (this might vary slightly depending on\\nthe source or software).\\nCompute the margin of error:\\nmoe=2.68*(1.5/sqrt(50))\\n=0.568\\nconfidential interval\\nlower limit =4-0.568=3.432\\nupper limit=4+0.568=4.568\\nConclusion:\\nWith 99% confidence, the average number of ads watched by viewers during a TV program lies between 3.432 and 4.568.\""
      ]
     },
     "execution_count": 20,
     "metadata": {},
     "output_type": "execute_result"
    }
   ],
   "source": [
    "# Q17. A marketing company wants to estimate the average number of ads watched by viewers during a TV program. They take a random sample of 50 viewers\n",
    "# and find that the sample mean is 4 with a standard deviation of 1.5. Estimate the population mean with a 99% confidence interval.\n",
    "'''mean=4,sample std=1.5,sample size=50,df=49\n",
    "For a 99% confidence interval, you'd need to determine the t-value corresponding to the cumulative probability of (1 - 0.99)/2 in either tail. In\n",
    "other words, you need the t-value for a cumulative probability of 0.005 with 49 degrees of freedom.\n",
    "Let's assume the critical t-value for a 99% confidence interval and 49 degrees of freedom is approximately 2.68 (this might vary slightly depending on\n",
    "the source or software).\n",
    "Compute the margin of error:\n",
    "moe=2.68*(1.5/sqrt(50))\n",
    "=0.568\n",
    "confidential interval\n",
    "lower limit =4-0.568=3.432\n",
    "upper limit=4+0.568=4.568\n",
    "Conclusion:\n",
    "With 99% confidence, the average number of ads watched by viewers during a TV program lies between 3.432 and 4.568.'''\n"
   ]
  },
  {
   "cell_type": "code",
   "execution_count": null,
   "id": "b923bc09-0e6f-4d02-b21b-00de64d8b43b",
   "metadata": {},
   "outputs": [],
   "source": []
  }
 ],
 "metadata": {
  "kernelspec": {
   "display_name": "Python 3 (ipykernel)",
   "language": "python",
   "name": "python3"
  },
  "language_info": {
   "codemirror_mode": {
    "name": "ipython",
    "version": 3
   },
   "file_extension": ".py",
   "mimetype": "text/x-python",
   "name": "python",
   "nbconvert_exporter": "python",
   "pygments_lexer": "ipython3",
   "version": "3.10.8"
  }
 },
 "nbformat": 4,
 "nbformat_minor": 5
}
