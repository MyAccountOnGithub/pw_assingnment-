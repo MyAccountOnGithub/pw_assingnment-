{
 "cells": [
  {
   "cell_type": "markdown",
   "id": "2f5121c1-dd8e-41a1-b919-190ca59370b8",
   "metadata": {},
   "source": [
    "1.Creating variable"
   ]
  },
  {
   "cell_type": "code",
   "execution_count": 12,
   "id": "9dfd3a72-6c32-4ef1-a93d-18a0a5fef641",
   "metadata": {},
   "outputs": [],
   "source": [
    "a=\"My name is Abc\"\n",
    "b=[1,3,4,6,7,9]\n",
    "c=14.67\n",
    "d=(4,8,6,5)"
   ]
  },
  {
   "cell_type": "code",
   "execution_count": 13,
   "id": "148a9c2f-56d4-4d77-84ba-3ae80a577954",
   "metadata": {},
   "outputs": [
    {
     "name": "stdout",
     "output_type": "stream",
     "text": [
      "My name is Abc\n",
      "[1, 3, 4, 6, 7, 9]\n",
      "14.67\n",
      "(4, 8, 6, 5)\n"
     ]
    }
   ],
   "source": [
    "print(a)\n",
    "print(b)\n",
    "print(c)\n",
    "print(d)"
   ]
  },
  {
   "cell_type": "code",
   "execution_count": 14,
   "id": "af579b4b-cdad-45bc-91ef-45183222003c",
   "metadata": {},
   "outputs": [],
   "source": [
    "var1 = \" \"\n",
    "var2 = '[ML,Python]'\n",
    "var3 = ['DS','ML','Python']\n",
    "var4 = 1"
   ]
  },
  {
   "cell_type": "code",
   "execution_count": 5,
   "id": "9050c493-fdc3-46a0-ba7a-21820f987016",
   "metadata": {},
   "outputs": [
    {
     "data": {
      "text/plain": [
       "str"
      ]
     },
     "execution_count": 5,
     "metadata": {},
     "output_type": "execute_result"
    }
   ],
   "source": [
    "type(var1)\n"
   ]
  },
  {
   "cell_type": "code",
   "execution_count": 6,
   "id": "9a4f83a2-9f04-4a73-8191-de16aca8a206",
   "metadata": {},
   "outputs": [
    {
     "data": {
      "text/plain": [
       "str"
      ]
     },
     "execution_count": 6,
     "metadata": {},
     "output_type": "execute_result"
    }
   ],
   "source": [
    "type(var2)"
   ]
  },
  {
   "cell_type": "code",
   "execution_count": 7,
   "id": "1972152f-13ff-4362-a614-503d4f17618f",
   "metadata": {},
   "outputs": [
    {
     "data": {
      "text/plain": [
       "list"
      ]
     },
     "execution_count": 7,
     "metadata": {},
     "output_type": "execute_result"
    }
   ],
   "source": [
    "type(var3)"
   ]
  },
  {
   "cell_type": "code",
   "execution_count": 8,
   "id": "2205ccd4-cf44-43d8-9b9d-9d5237f92c95",
   "metadata": {},
   "outputs": [
    {
     "data": {
      "text/plain": [
       "int"
      ]
     },
     "execution_count": 8,
     "metadata": {},
     "output_type": "execute_result"
    }
   ],
   "source": [
    "type(var4)"
   ]
  },
  {
   "cell_type": "code",
   "execution_count": 11,
   "id": "d887bad0-8f6a-4cbd-bdfb-191e331525a2",
   "metadata": {},
   "outputs": [
    {
     "name": "stdout",
     "output_type": "stream",
     "text": [
      "1.0\n",
      "0\n",
      "1\n",
      "4\n"
     ]
    }
   ],
   "source": [
    "# 3.explain the operator\n",
    "a=2\n",
    "b=2\n",
    "c=a/b\n",
    "d=a%b\n",
    "e=a//b\n",
    "f=a**b\n",
    "print(c)\n",
    "print(d)\n",
    "print(e)\n",
    "print(f)\n",
    "#.../ opreator give the float value output\n",
    "#...% opreator give the reminder of values\n",
    "#...// opreator give the int value output\n",
    "#...** operator is use for exponential"
   ]
  },
  {
   "cell_type": "code",
   "execution_count": 1,
   "id": "15b38482-8f67-46a8-87ca-9e294fe2af44",
   "metadata": {},
   "outputs": [
    {
     "name": "stdout",
     "output_type": "stream",
     "text": [
      "3\n",
      "54\n",
      "43\n",
      "25\n",
      "64\n",
      "52\n",
      "ads\n",
      "46\n",
      "72\n",
      "44\n"
     ]
    }
   ],
   "source": [
    "# 4.create list \n",
    "a=[3,54,43,25,64,52,\"ads\",46,72,44]\n",
    "for i in range(len(a)):\n",
    "    print(a[i])\n"
   ]
  },
  {
   "cell_type": "code",
   "execution_count": 7,
   "id": "fdfadd24-94c8-4696-a122-f496174bf6d6",
   "metadata": {},
   "outputs": [
    {
     "name": "stdout",
     "output_type": "stream",
     "text": [
      "2\n"
     ]
    }
   ],
   "source": [
    "# 5.using loop verify that a is divisible by b\n",
    "a=100\n",
    "b=5\n",
    "count=0\n",
    "while a%b==0:\n",
    "    a=a//b\n",
    "    count+=1\n",
    "print(count)    "
   ]
  },
  {
   "cell_type": "code",
   "execution_count": 11,
   "id": "1b84cee9-f282-4ba7-9e15-6fe287fc65d9",
   "metadata": {},
   "outputs": [
    {
     "name": "stdout",
     "output_type": "stream",
     "text": [
      "1 Num not divisible by 3\n",
      "2 Num not divisible by 3\n",
      "3 Divisible by 3\n",
      "4 Num not divisible by 3\n",
      "5 Num not divisible by 3\n",
      "6 Divisible by 3\n",
      "7 Num not divisible by 3\n",
      "8 Num not divisible by 3\n",
      "9 Divisible by 3\n",
      "10 Num not divisible by 3\n",
      "11 Num not divisible by 3\n",
      "12 Divisible by 3\n",
      "13 Num not divisible by 3\n",
      "14 Num not divisible by 3\n",
      "15 Divisible by 3\n",
      "16 Num not divisible by 3\n",
      "17 Num not divisible by 3\n",
      "18 Divisible by 3\n",
      "19 Num not divisible by 3\n",
      "20 Num not divisible by 3\n",
      "21 Divisible by 3\n",
      "22 Num not divisible by 3\n",
      "23 Num not divisible by 3\n",
      "24 Divisible by 3\n",
      "25 Num not divisible by 3\n"
     ]
    }
   ],
   "source": [
    "# 6 Create a list containing 25 int type data. Using for loop and if-else condition print if the element is\n",
    "#divisible by 3 or not.\n",
    "l=[1,2,3,4,5,6,7,8,9,10,11,12,13,14,15,16,17,18,19,20,21,22,23,24,25]\n",
    "for num in l:\n",
    "    if (num%3==0):\n",
    "        print(num,\"Divisible by 3\")\n",
    "    else:\n",
    "        print(num,\"Num not divisible by 3\")      "
   ]
  },
  {
   "cell_type": "code",
   "execution_count": null,
   "id": "95a8d11f-1727-4c28-8b03-0ec7491d47af",
   "metadata": {},
   "outputs": [],
   "source": [
    "# 7.what will be understood that mutable and unmutable data type and example of both showing the property \n",
    "'''Mutable: Mutable means it can be changeable.List is a mutable data type in python \n",
    "Unmutable: Unmutable means it does not change once will create it does not change. Tuple is a unmuttable data type in python '''  \n"
   ]
  },
  {
   "cell_type": "code",
   "execution_count": null,
   "id": "4b70ed6c-299a-49b9-8350-a7de81870d49",
   "metadata": {},
   "outputs": [],
   "source": []
  }
 ],
 "metadata": {
  "kernelspec": {
   "display_name": "Python 3 (ipykernel)",
   "language": "python",
   "name": "python3"
  },
  "language_info": {
   "codemirror_mode": {
    "name": "ipython",
    "version": 3
   },
   "file_extension": ".py",
   "mimetype": "text/x-python",
   "name": "python",
   "nbconvert_exporter": "python",
   "pygments_lexer": "ipython3",
   "version": "3.10.8"
  }
 },
 "nbformat": 4,
 "nbformat_minor": 5
}
