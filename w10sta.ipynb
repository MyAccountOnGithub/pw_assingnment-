{
 "cells": [
  {
   "cell_type": "code",
   "execution_count": 1,
   "id": "84656993-e8b2-4376-b17a-ceaf24532ee1",
   "metadata": {},
   "outputs": [
    {
     "data": {
      "text/plain": [
       "'statics is the colection and organizing the data in proper manner '"
      ]
     },
     "execution_count": 1,
     "metadata": {},
     "output_type": "execute_result"
    }
   ],
   "source": [
    "# Q1. What is Statistics?\n",
    "'''statics is the colection and organizing the data in proper manner '''"
   ]
  },
  {
   "cell_type": "code",
   "execution_count": 2,
   "id": "92d4d36d-1118-42e1-ab54-7e503495f814",
   "metadata": {},
   "outputs": [
    {
     "data": {
      "text/plain": [
       "'Statistics have 2 type 1.Discriptive in these the data organizing and summarizing \\nex:measure of central tendancy i.e mean,median,mode\\n2.Inferential in thes using the data we have measure \\nex:z-test,t-test '"
      ]
     },
     "execution_count": 2,
     "metadata": {},
     "output_type": "execute_result"
    }
   ],
   "source": [
    "# Q2. Define the different types of statistics and give an example of when each type might be used.\n",
    "'''Statistics have 2 type 1.Discriptive in these the data organizing and summarizing \n",
    "ex:measure of central tendancy i.e mean,median,mode\n",
    "2.Inferential in thes using the data we have measure \n",
    "ex:z-test,t-test '''"
   ]
  },
  {
   "cell_type": "code",
   "execution_count": 1,
   "id": "ee9fabb0-a9f1-429f-bf7b-dcf092f5255f",
   "metadata": {},
   "outputs": [
    {
     "data": {
      "text/plain": [
       "\"Data has 2 type 1.Quantative :It has numerical value\\n1.Discrite: whole no is their      2.Continous:any no ex:weight,height \\n2.Qualitative:It has include the categorical data \\n1.Norminal:don't rank eg:gender,blood grp     2.Ordinal:rank assing ex:customer feedback\""
      ]
     },
     "execution_count": 1,
     "metadata": {},
     "output_type": "execute_result"
    }
   ],
   "source": [
    "# Q3. What are the different types of data and how do they differ from each other? Provide an example of each type of data.\n",
    "'''Data has 2 type 1.Quantative :It has numerical value\n",
    "1.Discrite: whole no is their      2.Continous:any no ex:weight,height \n",
    "2.Qualitative:It has include the categorical data \n",
    "1.Norminal:don't rank eg:gender,blood grp     2.Ordinal:rank assing ex:customer feedback'''  "
   ]
  },
  {
   "cell_type": "code",
   "execution_count": 2,
   "id": "bf66cf9b-1692-4c5d-931c-8ba9ba62b3fd",
   "metadata": {},
   "outputs": [
    {
     "data": {
      "text/plain": [
       "'(i)qualitative \\n(ii)qualitative \\n(iii)quantitativ\\n(iv)quantitativ'"
      ]
     },
     "execution_count": 2,
     "metadata": {},
     "output_type": "execute_result"
    }
   ],
   "source": [
    "# Q4. Categorise the following datasets with respect to quantitative and qualitative data types:\n",
    "# (i) Grading in exam: A+, A, B+, B, C+, C, D, E\n",
    "# (ii) Colour of mangoes: yellow, green, orange, red\n",
    "# (iii) Height data of a class: [178.9, 179, 179.5, 176, 177.2, 178.3, 175.8,...]\n",
    "# (iv) Number of mangoes exported by a farm: [500, 600, 478, 672, ...]\n",
    "'''(i)qualitative \n",
    "(ii)qualitative \n",
    "(iii)quantitativ\n",
    "(iv)quantitativ'''"
   ]
  },
  {
   "cell_type": "code",
   "execution_count": 3,
   "id": "8496a539-812b-4525-b9e7-951537e6529c",
   "metadata": {},
   "outputs": [
    {
     "data": {
      "text/plain": [
       "'Levels of measurement, also called scales of measurement, tell you how precisely variables are recorded. In scientific research, a variable is \\nanything that can take on different values across your data set (e.g., height or test scores).\\nit has 4 level\\n1.Nominal:City of birth\\nGender\\n2.Ordinal:Top 5 Olympic medallists\\n3.Interval:Test scores\\n4.Ratio:Height,Age,Weight\\n'"
      ]
     },
     "execution_count": 3,
     "metadata": {},
     "output_type": "execute_result"
    }
   ],
   "source": [
    "# Q5. Explain the concept of levels of measurement and give an example of a variable for each level.\n",
    "'''Levels of measurement, also called scales of measurement, tell you how precisely variables are recorded. In scientific research, a variable is \n",
    "anything that can take on different values across your data set (e.g., height or test scores).\n",
    "it has 4 level\n",
    "1.Nominal:City of birth\n",
    "Gender\n",
    "2.Ordinal:Top 5 Olympic medallists\n",
    "3.Interval:Test scores\n",
    "4.Ratio:Height,Age,Weight\n",
    "'''"
   ]
  },
  {
   "cell_type": "code",
   "execution_count": 4,
   "id": "01c0e1f6-8ba3-4d62-83d4-52058d0f51cb",
   "metadata": {},
   "outputs": [
    {
     "data": {
      "text/plain": [
       "'It is important to understand the level of measurement of variables in research, because the level of measurement determines the type of \\nstatistical analysis that can be conducted, and, therefore, the type of conclusions that can be drawn from the research.'"
      ]
     },
     "execution_count": 4,
     "metadata": {},
     "output_type": "execute_result"
    }
   ],
   "source": [
    "# Q6. Why is it important to understand the level of measurement when analyzing data? Provide an example to illustrate your answer.\n",
    "'''It is important to understand the level of measurement of variables in research, because the level of measurement determines the type of \n",
    "statistical analysis that can be conducted, and, therefore, the type of conclusions that can be drawn from the research.'''\n"
   ]
  },
  {
   "cell_type": "code",
   "execution_count": 5,
   "id": "215fb455-e227-423f-9d38-a37e833bbe52",
   "metadata": {},
   "outputs": [
    {
     "data": {
      "text/plain": [
       "'In nominal datatype the data is not categorious on the rank ex: Gender but, in ordinal it is on decide the rank ex:customer feedback[good,bad] '"
      ]
     },
     "execution_count": 5,
     "metadata": {},
     "output_type": "execute_result"
    }
   ],
   "source": [
    "# Q7. How nominal data type is different from ordinal data type.\n",
    "'''In nominal datatype the data is not categorious on the rank ex: Gender but, in ordinal it is on decide the rank ex:customer feedback[good,bad] '''"
   ]
  },
  {
   "cell_type": "code",
   "execution_count": 6,
   "id": "b593e6a9-344e-4cf6-be2c-6bea73f686fc",
   "metadata": {},
   "outputs": [
    {
     "data": {
      "text/plain": [
       "'Histogram. If the groups depicted in a bar chart are actually continuous numeric ranges, we can push the bars together to generate a histogram. \\nBar lengths in histograms typically correspond to counts of data points, and their patterns demonstrate the distribution of variables in your data.'"
      ]
     },
     "execution_count": 6,
     "metadata": {},
     "output_type": "execute_result"
    }
   ],
   "source": [
    "# Q8. Which type of plot can be used to display data in terms of range?\n",
    "'''Histogram. If the groups depicted in a bar chart are actually continuous numeric ranges, we can push the bars together to generate a histogram. \n",
    "Bar lengths in histograms typically correspond to counts of data points, and their patterns demonstrate the distribution of variables in your data.'''"
   ]
  },
  {
   "cell_type": "code",
   "execution_count": 7,
   "id": "d4a14c62-f47a-4fc5-8e5c-49a0198fd058",
   "metadata": {},
   "outputs": [
    {
     "data": {
      "text/plain": [
       "'Descriptive: It consist of organizing and summarizing the data \\nInferential: It consist of data you have measured\\n\\nsuppose in class the data of height of student is there \\nwhen we calculate the average height of data it is a descriptive statistics \\nor we calculate the data of intire  college height data the of the 1 class data it is sub data part of the whole data'"
      ]
     },
     "execution_count": 7,
     "metadata": {},
     "output_type": "execute_result"
    }
   ],
   "source": [
    "# Q9. Describe the difference between descriptive and inferential statistics. Give an example of each type of statistics and explain how they are used.\n",
    "'''Descriptive: It consist of organizing and summarizing the data \n",
    "Inferential: It consist of data you have measured\n",
    "\n",
    "suppose in class the data of height of student is there \n",
    "when we calculate the average height of data it is a descriptive statistics \n",
    "or we calculate the data of intire  college height data the of the 1 class data it is sub data part of the whole data'''"
   ]
  },
  {
   "cell_type": "code",
   "execution_count": 9,
   "id": "ba14dcc0-ac62-4c4b-aee6-02944c70c8b1",
   "metadata": {},
   "outputs": [
    {
     "data": {
      "text/plain": [
       "'In statistics, the central tendency is the descriptive summary of a data set.The central tendency is stated as the statistical measure that \\nrepresents the single value of the entire distribution or a dataset. It aims to provide an accurate description of the entire data in the distribution.\\nMeasures of Central Tendency:it can be found by using the mean,median,mode mean used to average in the dataset ,median is ued to find the middle most\\nelement and mode is used to find the element that is most frequently occur in the dataset'"
      ]
     },
     "execution_count": 9,
     "metadata": {},
     "output_type": "execute_result"
    }
   ],
   "source": [
    "# Q10. What are some common measures of central tendency and variability used in statistics? Explain how each measure can be used to describe a \n",
    "# dataset.\n",
    "'''In statistics, the central tendency is the descriptive summary of a data set.The central tendency is stated as the statistical measure that \n",
    "represents the single value of the entire distribution or a dataset. It aims to provide an accurate description of the entire data in the distribution.\n",
    "Measures of Central Tendency:it can be found by using the mean,median,mode mean used to average in the dataset ,median is ued to find the middle most\n",
    "element and mode is used to find the element that is most frequently occur in the dataset''' \n"
   ]
  },
  {
   "cell_type": "code",
   "execution_count": null,
   "id": "aa4997f1-e0a7-475a-bce5-0f8308ba03f8",
   "metadata": {},
   "outputs": [],
   "source": []
  }
 ],
 "metadata": {
  "kernelspec": {
   "display_name": "Python 3 (ipykernel)",
   "language": "python",
   "name": "python3"
  },
  "language_info": {
   "codemirror_mode": {
    "name": "ipython",
    "version": 3
   },
   "file_extension": ".py",
   "mimetype": "text/x-python",
   "name": "python",
   "nbconvert_exporter": "python",
   "pygments_lexer": "ipython3",
   "version": "3.10.8"
  }
 },
 "nbformat": 4,
 "nbformat_minor": 5
}
