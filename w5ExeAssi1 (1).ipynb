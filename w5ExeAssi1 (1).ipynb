{
 "cells": [
  {
   "cell_type": "code",
   "execution_count": 1,
   "id": "3e52cd4c-a632-4b00-8396-400ee27af726",
   "metadata": {},
   "outputs": [
    {
     "data": {
      "text/plain": [
       "'An \"exception\" is an event that occurs during the execution of a program that disrupts the normal flow \\nof the program\\'s instructions.Common types of exceptions in Python include TypeError, ValueError, IndexError,\\nKeyError, and many others.\\n A \"syntax error\" is a problem in the grammar of your code which makes it impossible for the code to be \\n parsed and interpreted correctly. Syntax errors are not exceptions because they prevent the script from \\n running in the first place.'"
      ]
     },
     "execution_count": 1,
     "metadata": {},
     "output_type": "execute_result"
    }
   ],
   "source": [
    "# Q1. What is an exception in python?write the difference between exception and syntax error\n",
    "\n",
    "\"\"\"An \"exception\" is an event that occurs during the execution of a program that disrupts the normal flow \n",
    "of the program's instructions.Common types of exceptions in Python include TypeError, ValueError, IndexError,\n",
    "KeyError, and many others.\n",
    " A \"syntax error\" is a problem in the grammar of your code which makes it impossible for the code to be \n",
    " parsed and interpreted correctly. Syntax errors are not exceptions because they prevent the script from \n",
    " running in the first place.\"\"\""
   ]
  },
  {
   "cell_type": "code",
   "execution_count": 2,
   "id": "5bdeec3b-9e47-4c07-a84c-1eacd6a6ad31",
   "metadata": {},
   "outputs": [
    {
     "data": {
      "text/plain": [
       "' When an exception is not handled in a Python program, it causes the program to stop executing and an \\nerror message is printed to the console.\\n\\nThe error message includes the type of the exception that was raised and a traceback that shows the point \\nin the program where the exception occurred. If the exception was raised directly by a command you executed\\n, the traceback will show this command. If the exception was raised by a function or method that was called\\nby your command, the traceback will show the chain of function calls that lead to the error.'"
      ]
     },
     "execution_count": 2,
     "metadata": {},
     "output_type": "execute_result"
    }
   ],
   "source": [
    "#Q2. What happens when an exception is not handled? Explain with an example\n",
    "\"\"\" When an exception is not handled in a Python program, it causes the program to stop executing and an \n",
    "error message is printed to the console.\n",
    "\n",
    "The error message includes the type of the exception that was raised and a traceback that shows the point \n",
    "in the program where the exception occurred. If the exception was raised directly by a command you executed\n",
    ", the traceback will show this command. If the exception was raised by a function or method that was called\n",
    "by your command, the traceback will show the chain of function calls that lead to the error.\"\"\"\n"
   ]
  },
  {
   "cell_type": "code",
   "execution_count": 5,
   "id": "de1c27a2-b4eb-4952-bad5-cb222f21543f",
   "metadata": {},
   "outputs": [
    {
     "name": "stdout",
     "output_type": "stream",
     "text": [
      "division by zero\n"
     ]
    }
   ],
   "source": [
    "# Q3.Which python statement is are used to catch and handle exception? Explain with an example\n",
    "# to catch the error we use the except keyword \n",
    "try:\n",
    "    a=10/0\n",
    "except Exception as e:\n",
    "    print(e)"
   ]
  },
  {
   "cell_type": "code",
   "execution_count": 6,
   "id": "92d5842c-c01d-469e-9e48-80053a796285",
   "metadata": {},
   "outputs": [
    {
     "name": "stdin",
     "output_type": "stream",
     "text": [
      "Enter a number:  4\n",
      "Enter another number:  0\n"
     ]
    },
    {
     "name": "stdout",
     "output_type": "stream",
     "text": [
      "You can't divide by zero!\n",
      "This code will run no matter what!\n"
     ]
    }
   ],
   "source": [
    "# Q4.Explain with example try,else,finally,raise\n",
    "\"\"\"else: This block of code is executed after the try block code is executed without any exceptions.\n",
    "finally:This block of code is always executed regardless of whether an exception is thrown or not\n",
    "raise: This keyword is used to explicitly throw an exception.\"\"\"\n",
    "try:\n",
    "    # try block\n",
    "    x = int(input(\"Enter a number: \"))\n",
    "    y = int(input(\"Enter another number: \"))\n",
    "    z = x / y\n",
    "except ZeroDivisionError:\n",
    "    # except block\n",
    "    print(\"You can't divide by zero!\")\n",
    "else:\n",
    "    # else block\n",
    "    print(\"The division was successful!\")\n",
    "finally:\n",
    "    # finally block\n",
    "    print(\"This code will run no matter what!\")\n",
    "\n",
    "# Raise an exception\n",
    "if x < 0 or y < 0:\n",
    "    raise ValueError(\"Input values should be greater than 0.\")\n",
    "\n"
   ]
  },
  {
   "cell_type": "code",
   "execution_count": 1,
   "id": "a05342f2-e930-4812-b87b-a7691aee0e32",
   "metadata": {},
   "outputs": [
    {
     "name": "stdout",
     "output_type": "stream",
     "text": [
      "It is a zero error \n"
     ]
    }
   ],
   "source": [
    "#Q5. What are Custom Exceptions in python? Why do we need Custom Exceptions? Explain with an example\n",
    "\n",
    "\"\"\"Custom Exception means exception that define by user.In this whatever we want we write in ex \"\"\"\n",
    "try:\n",
    "    a=10/0\n",
    "except:\n",
    "    print(\"It is a zero error \")\n"
   ]
  },
  {
   "cell_type": "code",
   "execution_count": 2,
   "id": "f5323630-7d4c-444b-bf5a-b5a40933b734",
   "metadata": {},
   "outputs": [
    {
     "name": "stdout",
     "output_type": "stream",
     "text": [
      "Caught an exception: The value is too high!\n"
     ]
    }
   ],
   "source": [
    "#Q6. Create custom exception class. Use this class to handle an exception.\n",
    "# Define custom exception class\n",
    "class CustomError(Exception):\n",
    "    def __init__(self, message):\n",
    "        self.message = message\n",
    "    def __str__(self):\n",
    "        return self.message\n",
    "\n",
    "# Function that can raise the custom exception\n",
    "def test_value(x):\n",
    "    if x > 100:\n",
    "        raise CustomError('The value is too high!')\n",
    "    elif x < 0:\n",
    "        raise CustomError('The value is too low!')\n",
    "    else:\n",
    "        return x\n",
    "\n",
    "# Use the custom exception\n",
    "try:\n",
    "    print(test_value(150))  # This will raise the exception\n",
    "except CustomError as e:  # Catch the custom exception\n",
    "    print('Caught an exception:', e)\n",
    "\n"
   ]
  },
  {
   "cell_type": "code",
   "execution_count": null,
   "id": "29abbd93-2f5d-442c-85ff-b2c12108bcb1",
   "metadata": {},
   "outputs": [],
   "source": []
  }
 ],
 "metadata": {
  "kernelspec": {
   "display_name": "Python 3 (ipykernel)",
   "language": "python",
   "name": "python3"
  },
  "language_info": {
   "codemirror_mode": {
    "name": "ipython",
    "version": 3
   },
   "file_extension": ".py",
   "mimetype": "text/x-python",
   "name": "python",
   "nbconvert_exporter": "python",
   "pygments_lexer": "ipython3",
   "version": "3.10.8"
  }
 },
 "nbformat": 4,
 "nbformat_minor": 5
}
