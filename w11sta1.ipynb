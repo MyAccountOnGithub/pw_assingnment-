{
 "cells": [
  {
   "cell_type": "code",
   "execution_count": 1,
   "id": "c1a4dfce-6103-4e54-a28c-b76bf8d05a93",
   "metadata": {},
   "outputs": [
    {
     "data": {
      "text/plain": [
       "'PDF is the probability that a random variable will take a value exactly equal to the random variable The probability density function (pdf) f(x)\\nof a continuous random variable X is defined as the derivative of the cdf F(x): f(x)=ddxF(x). The pdf f(x) has two important properties: f(x)≥0, for\\nall x.'"
      ]
     },
     "execution_count": 1,
     "metadata": {},
     "output_type": "execute_result"
    }
   ],
   "source": [
    "# Q1. What is the Probability density function?\n",
    "'''PDF is the probability that a random variable will take a value exactly equal to the random variable The probability density function (pdf) f(x)\n",
    "of a continuous random variable X is defined as the derivative of the cdf F(x): f(x)=ddxF(x). The pdf f(x) has two important properties: f(x)≥0, for\n",
    "all x.'''"
   ]
  },
  {
   "cell_type": "code",
   "execution_count": 2,
   "id": "612b15c5-fda7-409d-9868-6b399b7d935a",
   "metadata": {},
   "outputs": [
    {
     "data": {
      "text/plain": [
       "'1.Normal/Gaussian Distribution \\n2.Bernoulli Distribution \\n3.Uniform Distribution \\n4.Poission Distribution \\n5.Binomial Distribution '"
      ]
     },
     "execution_count": 2,
     "metadata": {},
     "output_type": "execute_result"
    }
   ],
   "source": [
    "# Q2. What are the types of Probability distribution?\n",
    "'''1.Normal/Gaussian Distribution \n",
    "2.Bernoulli Distribution \n",
    "3.Uniform Distribution \n",
    "4.Poission Distribution \n",
    "5.Binomial Distribution '''"
   ]
  },
  {
   "cell_type": "code",
   "execution_count": 8,
   "id": "1268bf94-2448-407c-8803-5167f54dbbd7",
   "metadata": {},
   "outputs": [
    {
     "data": {
      "text/plain": [
       "0.057938310552296556"
      ]
     },
     "execution_count": 8,
     "metadata": {},
     "output_type": "execute_result"
    }
   ],
   "source": [
    "# Q3. Write a Python function to calculate the probability density function of a normal distribution with given mean and standard deviation at a given \n",
    "# point.\n",
    "import math \n",
    "def pdf(std,x,point):\n",
    "    coefficient=1/(std*math.sqrt(2*math.pi))\n",
    "    expo=math.exp(-(point-x)**2/(2*std**2))\n",
    "    return coefficient*expo\n",
    "pdf(5,3,7)    "
   ]
  },
  {
   "cell_type": "code",
   "execution_count": 9,
   "id": "8d481905-945c-4213-bfc1-f10ce97ade13",
   "metadata": {},
   "outputs": [
    {
     "data": {
      "text/plain": [
       "'properties \\n1.Every experiment outcome is binary \\n2.These experiment performed for n trials \\nEx:\\n1.Tossing a coin 10 time \\n2.no of student in class is pass or fail in insem exam '"
      ]
     },
     "execution_count": 9,
     "metadata": {},
     "output_type": "execute_result"
    }
   ],
   "source": [
    "# Q4. What are the properties of Binomial distribution? Give two examples of events where binomial distribution can be applied.\n",
    "'''properties \n",
    "1.Every experiment outcome is binary \n",
    "2.These experiment performed for n trials \n",
    "Ex:\n",
    "1.Tossing a coin 10 time \n",
    "2.no of student in class is pass or fail in insem exam '''"
   ]
  },
  {
   "cell_type": "code",
   "execution_count": 13,
   "id": "95a42f64-8a4a-4686-9f99-6e9e8cd74065",
   "metadata": {},
   "outputs": [
    {
     "data": {
      "image/png": "[encoded data removed]",
      "text/plain": [
       "<Figure size 640x480 with 1 Axes>"
      ]
     },
     "metadata": {},
     "output_type": "display_data"
    }
   ],
   "source": [
    "# Q5. Generate a random sample of size 1000 from a binomial distribution with probability of success 0.4 and plot a histogram of the results using \n",
    "# matplotlib.\n",
    "import numpy as np \n",
    "import matplotlib.pyplot as plt\n",
    "n=1\n",
    "p=0.4\n",
    "size=1000\n",
    "sample = np.random.binomial(n, p, size)\n",
    "plt.hist(sample)\n",
    "plt.xlabel='Value'\n",
    "plt.ylabel='Frequency'\n",
    "plt.title='Histogram of Binomial Distribution with p=0.4'\n",
    "plt.show()"
   ]
  },
  {
   "cell_type": "code",
   "execution_count": 16,
   "id": "26a8a0bb-5ee0-46aa-8f3b-9a034406ae41",
   "metadata": {},
   "outputs": [
    {
     "data": {
      "text/plain": [
       "148.4131591025766"
      ]
     },
     "execution_count": 16,
     "metadata": {},
     "output_type": "execute_result"
    }
   ],
   "source": [
    "# Q6. Write a Python function to calculate the cumulative distribution function of a Poisson distribution with given mean at a given point.\n",
    "import math \n",
    "def cul(k,lam):\n",
    "    for i in range(k+1):\n",
    "        culdistribution=sum([math.exp(lam)*(lam**i) / math.factorial(i)])\n",
    "        return culdistribution\n",
    "    \n",
    "cul(3,5)    "
   ]
  },
  {
   "cell_type": "code",
   "execution_count": 17,
   "id": "bdbbf3d7-81ae-4f62-a838-5c5d22646251",
   "metadata": {},
   "outputs": [
    {
     "data": {
      "text/plain": [
       "'Both the binomial and Poisson distributions are discrete probability distributions, but they have different applications \\nBinomial Distribution:Describes the number of successes in a fixed number of independent Bernoulli trials.\\nUseful when considering a finite number of trials.\\nPoisson Distribution:Describes the number of events occurring in a fixed interval of time or space.\\nUseful for describing rare events over a continuous interval (like the number of phone calls to a call center in an hour).'"
      ]
     },
     "execution_count": 17,
     "metadata": {},
     "output_type": "execute_result"
    }
   ],
   "source": [
    "# Q7. How Binomial distribution different from Poisson distribution?\n",
    "'''Both the binomial and Poisson distributions are discrete probability distributions, but they have different applications \n",
    "Binomial Distribution:Describes the number of successes in a fixed number of independent Bernoulli trials.\n",
    "Useful when considering a finite number of trials.\n",
    "Poisson Distribution:Describes the number of events occurring in a fixed interval of time or space.\n",
    "Useful for describing rare events over a continuous interval (like the number of phone calls to a call center in an hour).'''"
   ]
  },
  {
   "cell_type": "code",
   "execution_count": 22,
   "id": "8900eaab-bca8-4db4-94c6-520dfbd32864",
   "metadata": {},
   "outputs": [
    {
     "name": "stdout",
     "output_type": "stream",
     "text": [
      "Sample Mean: 5.085\n",
      "Sample Variance: 4.9917750000000005\n"
     ]
    }
   ],
   "source": [
    "# Q8. Generate a random sample of size 1000 from a Poisson distribution with mean 5 and calculate the sample mean and variance.\n",
    "import numpy as np\n",
    "lambda_value = 5\n",
    "size = 1000\n",
    "sample = np.random.poisson(lambda_value, size)\n",
    "sample_mean = np.mean(sample)\n",
    "sample_variance = np.var(sample)\n",
    "\n",
    "print(f\"Sample Mean: {sample_mean}\")\n",
    "print(f\"Sample Variance: {sample_variance}\")"
   ]
  },
  {
   "cell_type": "code",
   "execution_count": 23,
   "id": "a9cc5d5d-569f-4bd0-b672-876255ce8525",
   "metadata": {},
   "outputs": [
    {
     "data": {
      "text/plain": [
       "'In Binomial distribution the mean is  μ=np and variance is =np(1−p).\\nand in Poisson distributionthe mean and variance both are λ.'"
      ]
     },
     "execution_count": 23,
     "metadata": {},
     "output_type": "execute_result"
    }
   ],
   "source": [
    "# Q9. How mean and variance are related in Binomial distribution and Poisson distribution?\n",
    "'''In Binomial distribution the mean is  μ=np and variance is =np(1−p).\n",
    "and in Poisson distributionthe mean and variance both are λ.'''"
   ]
  },
  {
   "cell_type": "code",
   "execution_count": 24,
   "id": "e6fbed3a-e995-47ee-a832-e2d3359c4ecb",
   "metadata": {},
   "outputs": [
    {
     "data": {
      "text/plain": [
       "'In a normal distribution with respect to the mean position, the least frequent data appear in the extreme tails of the distribution,both the \\nleft and right side'"
      ]
     },
     "execution_count": 24,
     "metadata": {},
     "output_type": "execute_result"
    }
   ],
   "source": [
    "# Q10. In normal distribution with respect to mean position, where does the least frequent data appear?\n",
    "'''In a normal distribution with respect to the mean position, the least frequent data appear in the extreme tails of the distribution,both the \n",
    "left and right side''' "
   ]
  },
  {
   "cell_type": "code",
   "execution_count": null,
   "id": "393ebaee-7e46-4a41-9aa4-4627d7bb0c25",
   "metadata": {},
   "outputs": [],
   "source": []
  }
 ],
 "metadata": {
  "kernelspec": {
   "display_name": "Python 3 (ipykernel)",
   "language": "python",
   "name": "python3"
  },
  "language_info": {
   "codemirror_mode": {
    "name": "ipython",
    "version": 3
   },
   "file_extension": ".py",
   "mimetype": "text/x-python",
   "name": "python",
   "nbconvert_exporter": "python",
   "pygments_lexer": "ipython3",
   "version": "3.10.8"
  }
 },
 "nbformat": 4,
 "nbformat_minor": 5
}
