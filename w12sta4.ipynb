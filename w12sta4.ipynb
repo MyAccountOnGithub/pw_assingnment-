{
 "cells": [
  {
   "cell_type": "code",
   "execution_count": 2,
   "id": "3f7f83aa-b9a3-4235-b08a-c0ae8034ad03",
   "metadata": {},
   "outputs": [
    {
     "data": {
      "text/plain": [
       "\"t test used when the population variance (or standard deviation) is unknown and has to be estimated from the sample and it distribution  Based on \\nthe Student's t-distribution, which is similar to the normal distribution but has heavier tails. This makes it more accommodating of variability and \\nuncertainty.\\nwhere as in z test used when the population variance (or standard deviation) is known , it distribution Based on the standard normal distribution and\\nit requires known population variance.\""
      ]
     },
     "execution_count": 2,
     "metadata": {},
     "output_type": "execute_result"
    }
   ],
   "source": [
    "# Q1: What is the difference between a t-test and a z-test? Provide an example scenario where you would use each type of test.\n",
    "'''t test used when the population variance (or standard deviation) is unknown and has to be estimated from the sample and it distribution  Based on \n",
    "the Student's t-distribution, which is similar to the normal distribution but has heavier tails. This makes it more accommodating of variability and \n",
    "uncertainty.\n",
    "where as in z test used when the population variance (or standard deviation) is known , it distribution Based on the standard normal distribution and\n",
    "it requires known population variance.'''"
   ]
  },
  {
   "cell_type": "code",
   "execution_count": 1,
   "id": "caa7a4ad-5e2c-433f-889f-a49102cbb1f8",
   "metadata": {},
   "outputs": [
    {
     "data": {
      "text/plain": [
       "\"A one-tailed tests for the possibility of the relationship in one direction and completely disregards the possibility of a relationship in the\\nother direction.There's only one rejection region, either in the left tail (for a left-tailed test) or in the right tail (for a right-tailed test) of \\nthe distribution.\\nExample:\\nSuppose a teacher believes that a new teaching method will increase students' test scores. The hypothesis might be set up to test if the mean score of\\nstudents using the new method is greater than the mean score of all students in the school district. This would be a right-tailed test.\\n\\nThere are two rejection regions in a two-tailed test: one in each tail of the distribution.\\nExample:\\nSuppose a pharmaceutical company wants to check if a new drug has a different effect (either increased or decreased) on blood pressure compared to a \\nplacebo. The hypothesis might be set up to test if the mean blood pressure of patients using the drug is different (not specifically higher or lower) \\nfrom those using the placebo. This would be a two-tailed test.\""
      ]
     },
     "execution_count": 1,
     "metadata": {},
     "output_type": "execute_result"
    }
   ],
   "source": [
    "# Q2: Differentiate between one-tailed and two-tailed tests.\n",
    "'''A one-tailed tests for the possibility of the relationship in one direction and completely disregards the possibility of a relationship in the\n",
    "other direction.There's only one rejection region, either in the left tail (for a left-tailed test) or in the right tail (for a right-tailed test) of \n",
    "the distribution.\n",
    "Example:\n",
    "Suppose a teacher believes that a new teaching method will increase students' test scores. The hypothesis might be set up to test if the mean score of\n",
    "students using the new method is greater than the mean score of all students in the school district. This would be a right-tailed test.\n",
    "\n",
    "There are two rejection regions in a two-tailed test: one in each tail of the distribution.\n",
    "Example:\n",
    "Suppose a pharmaceutical company wants to check if a new drug has a different effect (either increased or decreased) on blood pressure compared to a \n",
    "placebo. The hypothesis might be set up to test if the mean blood pressure of patients using the drug is different (not specifically higher or lower) \n",
    "from those using the placebo. This would be a two-tailed test.'''"
   ]
  },
  {
   "cell_type": "code",
   "execution_count": 2,
   "id": "f3214a0e-0982-4af7-8cca-9ef56296d575",
   "metadata": {},
   "outputs": [
    {
     "data": {
      "text/plain": [
       "'Type 1 error is a false positive value the model predict the positive but actually is the negative value it is .\\nex:suppose the patient has infected to disease but the model says that it is not inflected.\\nType 2 error is a false negative value in these the model predict the negative value has positive value \\nex:suppose the patient has not infected to the disease and model says that it is infected.'"
      ]
     },
     "execution_count": 2,
     "metadata": {},
     "output_type": "execute_result"
    }
   ],
   "source": [
    "# Q3: Explain the concept of Type 1 and Type 2 errors in hypothesis testing. Provide an example scenario for each type of error.\n",
    "'''Type 1 error is a false positive value the model predict the positive but actually is the negative value it is .\n",
    "ex:suppose the patient has infected to disease but the model says that it is not inflected.\n",
    "Type 2 error is a false negative value in these the model predict the negative value has positive value \n",
    "ex:suppose the patient has not infected to the disease and model says that it is infected.'''"
   ]
  },
  {
   "cell_type": "code",
   "execution_count": 3,
   "id": "301f5cf5-4934-48a5-bd24-a4cb60bc499d",
   "metadata": {},
   "outputs": [
    {
     "data": {
      "text/plain": [
       "\"Baye's theorem is used to determine the conditional probability of the event \\nP(A|B) = P(B|A)P(A) / P(B) its formula \\nif we want to find the probability that a white marble drawn at random came from the first bag, given that a white marble has already been\\ndrawn, and there are three bags each containing some white and black marbles, then we can use Bayes’ Theorem.\""
      ]
     },
     "execution_count": 3,
     "metadata": {},
     "output_type": "execute_result"
    }
   ],
   "source": [
    "#Q4: Explain Bayes's theorem with an example.\n",
    "'''Baye's theorem is used to determine the conditional probability of the event \n",
    "P(A|B) = P(B|A)P(A) / P(B) its formula \n",
    "if we want to find the probability that a white marble drawn at random came from the first bag, given that a white marble has already been\n",
    "drawn, and there are three bags each containing some white and black marbles, then we can use Bayes’ Theorem.'''"
   ]
  },
  {
   "cell_type": "code",
   "execution_count": 4,
   "id": "1135f726-dff3-49c3-b6e8-e99a33e1cd4d",
   "metadata": {},
   "outputs": [
    {
     "data": {
      "text/plain": [
       "\"A confidence interval, in statistics, refers to the probability that a population parameter will fall between a set of values for a\\ncertain proportion of times.\\nConfidence intervals provide more information than point estimates. By establishing a 95% confidence interval using the sample's mean and \\nstandard deviation, and assuming a normal distribution as represented by the bell curve, the researchers arrive at an upper and lower bound\\nthat contains the true mean 95% of the time.\""
      ]
     },
     "execution_count": 4,
     "metadata": {},
     "output_type": "execute_result"
    }
   ],
   "source": [
    "# Q5: What is a confidence interval? How to calculate the confidence interval, explain with an example.\n",
    "'''A confidence interval, in statistics, refers to the probability that a population parameter will fall between a set of values for a\n",
    "certain proportion of times.\n",
    "Confidence intervals provide more information than point estimates. By establishing a 95% confidence interval using the sample's mean and \n",
    "standard deviation, and assuming a normal distribution as represented by the bell curve, the researchers arrive at an upper and lower bound\n",
    "that contains the true mean 95% of the time.'''"
   ]
  },
  {
   "cell_type": "code",
   "execution_count": 6,
   "id": "2a59fc46-f0aa-451f-8120-fd8f73815740",
   "metadata": {},
   "outputs": [
    {
     "data": {
      "text/plain": [
       "\"Suppose a certain disease affects 1% of the population. A test for the disease is 99% accurate, meaning:\\n\\nThe test correctly identifies 99% of those with the disease (true positive rate).\\nThe test correctly identifies 99% of those without the disease (true negative rate).\\nIf a person tests positive, what is the probability that they actually have the disease?\\nsolution:\\nA: The event that a person has the disease.\\n𝐵\\nB: The event that a person tests positive for the disease.\\nWe need to find 𝑃(𝐴∣𝐵)\\nP(A∣B), the probability that a person has the disease given that they tested positive.\\nBy applying the bay's theorem\\nP(A∣B)=0.5\\nSo, the probability that a person actually has the disease given that they tested positive is 0.5, or 50%\""
      ]
     },
     "execution_count": 6,
     "metadata": {},
     "output_type": "execute_result"
    }
   ],
   "source": [
    "#Q6. Use Bayes' Theorem to calculate the probability of an event occurring given prior knowledge of the event's probability and new evidence. Provide a sample problem and solution.\n",
    "'''Suppose a certain disease affects 1% of the population. A test for the disease is 99% accurate, meaning:\n",
    "\n",
    "The test correctly identifies 99% of those with the disease (true positive rate).\n",
    "The test correctly identifies 99% of those without the disease (true negative rate).\n",
    "If a person tests positive, what is the probability that they actually have the disease?\n",
    "solution:\n",
    "A: The event that a person has the disease.\n",
    "𝐵\n",
    "B: The event that a person tests positive for the disease.\n",
    "We need to find 𝑃(𝐴∣𝐵)\n",
    "P(A∣B), the probability that a person has the disease given that they tested positive.\n",
    "By applying the bay's theorem\n",
    "P(A∣B)=0.5\n",
    "So, the probability that a person actually has the disease given that they tested positive is 0.5, or 50%'''"
   ]
  },
  {
   "cell_type": "code",
   "execution_count": 8,
   "id": "256daa55-48d7-483c-9096-bf0f5598d52e",
   "metadata": {},
   "outputs": [
    {
     "data": {
      "text/plain": [
       "'Sample Mean 50\\nStandard Deviation 5\\nConfidence Level (CL): 95%\\nCritical Value (z*): For a 95% confidence level, \\nz\\\\*≈1.96\\nSample Size (n): 30 (assuming for this example)\\nStandard Error (SE): \\nSE= n\\u200bs\\u200b=30\\u200b5\\u200b≈0.9129\\nMargin of Error (MOE): 𝑀𝑂𝐸=𝑧\\\\*×𝑆𝐸=1.96×0.9129≈1.788\\nMOE=z\\\\*×SE=1.96×0.9129≈1.788\\nConfidence Interval\\nLower Bound: 𝑥ˉ−𝑀𝑂𝐸=50−1.788≈48.212xˉ−MOE=50−1.788≈48.212\\nUpper Bound: 𝑥ˉ+𝑀𝑂𝐸=50+1.788≈51.788\\nxˉ+MOE=50+1.788≈51.788\\nTherefore, the 95% confidence interval for the sample mean is approximately (48.212, 51.788).\\nThis means that we are 95% confident that the true population mean lies within the interval from 48.212 to 51.788. '"
      ]
     },
     "execution_count": 8,
     "metadata": {},
     "output_type": "execute_result"
    }
   ],
   "source": [
    "# Q7. Calculate the 95% confidence interval for a sample of data with a mean of 50 and a standard deviation of 5. Interpret the results\n",
    "'''Sample Mean 50\n",
    "Standard Deviation 5\n",
    "Confidence Level (CL): 95%\n",
    "Critical Value (z*): For a 95% confidence level, \n",
    "z\\*≈1.96\n",
    "Sample Size (n): 30 (assuming for this example)\n",
    "Standard Error (SE): \n",
    "SE= n​s​=30​5​≈0.9129\n",
    "Margin of Error (MOE): 𝑀𝑂𝐸=𝑧\\*×𝑆𝐸=1.96×0.9129≈1.788\n",
    "MOE=z\\*×SE=1.96×0.9129≈1.788\n",
    "Confidence Interval\n",
    "Lower Bound: 𝑥ˉ−𝑀𝑂𝐸=50−1.788≈48.212xˉ−MOE=50−1.788≈48.212\n",
    "Upper Bound: 𝑥ˉ+𝑀𝑂𝐸=50+1.788≈51.788\n",
    "xˉ+MOE=50+1.788≈51.788\n",
    "Therefore, the 95% confidence interval for the sample mean is approximately (48.212, 51.788).\n",
    "This means that we are 95% confident that the true population mean lies within the interval from 48.212 to 51.788. '''"
   ]
  },
  {
   "cell_type": "code",
   "execution_count": 9,
   "id": "5c8c571b-de61-46ae-8ec7-c02ee6feac48",
   "metadata": {},
   "outputs": [
    {
     "data": {
      "text/plain": [
       "'The margin of error (MOE) in a confidence interval is a measure of the range within which the true population parameter is expected to \\nlie, based on a sample statistic. It is the maximum amount by which the sample estimate may differ from the true population parameter. The\\nmargin of error is calculated as the product of the critical value and the standard error of the sample statistic.\\nif the sample size is smaller then the se value should be greater and error should also be greater and if the sample is large the the se \\nvalue be a small then the error is also small'"
      ]
     },
     "execution_count": 9,
     "metadata": {},
     "output_type": "execute_result"
    }
   ],
   "source": [
    "#Q8. What is the margin of error in a confidence interval? How does sample size affect the margin of error?\n",
    "# Provide an example of a scenario where a larger sample size would result in a smaller margin of error.\n",
    "'''The margin of error (MOE) in a confidence interval is a measure of the range within which the true population parameter is expected to \n",
    "lie, based on a sample statistic. It is the maximum amount by which the sample estimate may differ from the true population parameter. The\n",
    "margin of error is calculated as the product of the critical value and the standard error of the sample statistic.\n",
    "if the sample size is smaller then the se value should be greater and error should also be greater and if the sample is large the the se \n",
    "value be a small then the error is also small'''"
   ]
  },
  {
   "cell_type": "code",
   "execution_count": 10,
   "id": "df288710-a50e-40ed-9f31-da8d4b4dc614",
   "metadata": {},
   "outputs": [
    {
     "data": {
      "text/plain": [
       "'formula \\nz=X−μ/σ\\nz=75-70/5\\nz=1\\nvalue 1 indicated that the value of 75 is above the average'"
      ]
     },
     "execution_count": 10,
     "metadata": {},
     "output_type": "execute_result"
    }
   ],
   "source": [
    "#Q9. Calculate the z-score for a data point with a value of 75, a population mean of 70, and a population standard deviation of 5. Interpret the results.\n",
    "'''formula \n",
    "z=X−μ/σ\n",
    "z=75-70/5\n",
    "z=1\n",
    "value 1 indicated that the value of 75 is above the average'''"
   ]
  },
  {
   "cell_type": "code",
   "execution_count": 1,
   "id": "5d35922e-e712-4e1e-9dcd-0092d60cca42",
   "metadata": {},
   "outputs": [
    {
     "data": {
      "text/plain": [
       "\"To determine if the new weight loss drug is significantly effective, we will conduct a one-sample t-test. We'll test the null hypothesis\\nthat the true mean weight loss is equal to 0 pounds (i.e., the drug is not effective) against the alternative hypothesis that the true mean\\nweight loss is greater than 0 pounds (i.e., the drug is effective).\\nt= (xˉ−μ0)/s/sqrt(n)\\nt=16.98\\ndegree of freedom=df=50-1=49\\nFor a one-tailed test at the 95% confidence level with 49 degrees of freedom, we find the critical t-value (t critical) from the \\nt-distribution table or using statistical software.\\nt critical≈1.677\\nIf \\nt≥tcritical, we reject the null hypothesis.\\nIf\\nt<tcritical, we fail to reject the null hypothesis\\nSince the calculated t-statistic (16.98) is much greater than the critical t-value (1.677), we reject the null hypothesis.\""
      ]
     },
     "execution_count": 1,
     "metadata": {},
     "output_type": "execute_result"
    }
   ],
   "source": [
    "#Q10. In a study of the effectiveness of a new weight loss drug, a sample of 50 participants lost an average of 6 pounds with a standard \n",
    "#deviation of 2.5 pounds. Conduct a hypothesis test to determine if the drug is significantly effective at a 95% confidence level using a\n",
    "#t-test.\n",
    "'''To determine if the new weight loss drug is significantly effective, we will conduct a one-sample t-test. We'll test the null hypothesis\n",
    "that the true mean weight loss is equal to 0 pounds (i.e., the drug is not effective) against the alternative hypothesis that the true mean\n",
    "weight loss is greater than 0 pounds (i.e., the drug is effective).\n",
    "t= (xˉ−μ0)/s/sqrt(n)\n",
    "t=16.98\n",
    "degree of freedom=df=50-1=49\n",
    "For a one-tailed test at the 95% confidence level with 49 degrees of freedom, we find the critical t-value (t critical) from the \n",
    "t-distribution table or using statistical software.\n",
    "t critical≈1.677\n",
    "If \n",
    "t≥tcritical, we reject the null hypothesis.\n",
    "If\n",
    "t<tcritical, we fail to reject the null hypothesis\n",
    "Since the calculated t-statistic (16.98) is much greater than the critical t-value (1.677), we reject the null hypothesis.'''"
   ]
  },
  {
   "cell_type": "code",
   "execution_count": 2,
   "id": "6aed9df9-1c21-4449-a100-5172cc837001",
   "metadata": {},
   "outputs": [
    {
     "data": {
      "text/plain": [
       "'we calculate the confidence interval for the population portion\\nCI=p^±z∗ sqrt(p^(1−p^)/n)\\n\\np is the sample population is 0.65\\n\\nSE=sqrt(p^(1−p^)/n)\\n   sqrt(0.65*(1-0.65)/500)\\n   =0.0213\\n   \\nMOE=z* SE \\n   1.96*0.0213\\n   =0.0418\\n   \\n   Lower bound=0.65−0.0418=0.6082\\n   Upper bound=0.65+0.0418=0.6918\\n   This means that we are 95% confident that the true proportion of people who are satisfied with their current job lies between 60.82% \\n   and 69.18%.'"
      ]
     },
     "execution_count": 2,
     "metadata": {},
     "output_type": "execute_result"
    }
   ],
   "source": [
    "#Q11. In a survey of 500 people, 65% reported being satisfied with their current job. Calculate the 95% confidence interval for the true\n",
    "#proportion of people who are satisfied with their job.\n",
    "'''we calculate the confidence interval for the population portion\n",
    "CI=p^±z∗ sqrt(p^(1−p^)/n)\n",
    "\n",
    "p is the sample population is 0.65\n",
    "\n",
    "SE=sqrt(p^(1−p^)/n)\n",
    "   sqrt(0.65*(1-0.65)/500)\n",
    "   =0.0213\n",
    "   \n",
    "MOE=z* SE \n",
    "   1.96*0.0213\n",
    "   =0.0418\n",
    "   \n",
    "   Lower bound=0.65−0.0418=0.6082\n",
    "   Upper bound=0.65+0.0418=0.6918\n",
    "   This means that we are 95% confident that the true proportion of people who are satisfied with their current job lies between 60.82% \n",
    "   and 69.18%.'''"
   ]
  },
  {
   "cell_type": "code",
   "execution_count": 3,
   "id": "0c51f0a3-60ce-49a5-9efb-140940d66eba",
   "metadata": {},
   "outputs": [
    {
     "data": {
      "text/plain": [
       "'Null hypothesis 𝜇𝐴=𝜇𝐵(There is no significant difference in student performance between the two teaching methods)\\nAlternative hypothesis  𝜇𝐴≠𝜇𝐵(There is a significant difference in student performance between the two teaching methods)\\nt=a mean-bmean/sqrt((std a/sample size a)+(std b/sample size b))\\nt=2.103\\ndegree of fredom=df≈nA+nB−2\\n=30+30−2=58\\nFor a two-tailed test at the 0.01 significance level with 58 degrees of freedom, we find the critical t-value (t critical) from the\\nt-distribution table or using statistical software\\nt critical ≈±2.660\\nDecision Rule\\nIf ∣t∣≥t critical, we reject the null hypothesis.\\nIf ∣t∣<t critial, we fail to reject the null hypothesis.\\nSince the calculated t-statistic (2.103) is less than the critical t-value (2.660), we fail to reject the null hypothesis.'"
      ]
     },
     "execution_count": 3,
     "metadata": {},
     "output_type": "execute_result"
    }
   ],
   "source": [
    "#Q12. A researcher is testing the effectiveness of two different teaching methods on student performance.Sample A has a mean score of 85 \n",
    "#with a standard deviation of 6, while sample B has a mean score of 82 with a standard deviation of 5. Conduct a hypothesis test to determi\n",
    "# ne if the two teaching methods have a significant difference in student performance using a t-test with a significance level of 0.01.\n",
    "'''Null hypothesis 𝜇𝐴=𝜇𝐵(There is no significant difference in student performance between the two teaching methods)\n",
    "Alternative hypothesis  𝜇𝐴≠𝜇𝐵(There is a significant difference in student performance between the two teaching methods)\n",
    "t=a mean-bmean/sqrt((std a/sample size a)+(std b/sample size b))\n",
    "t=2.103\n",
    "degree of fredom=df≈nA+nB−2\n",
    "=30+30−2=58\n",
    "For a two-tailed test at the 0.01 significance level with 58 degrees of freedom, we find the critical t-value (t critical) from the\n",
    "t-distribution table or using statistical software\n",
    "t critical ≈±2.660\n",
    "Decision Rule\n",
    "If ∣t∣≥t critical, we reject the null hypothesis.\n",
    "If ∣t∣<t critial, we fail to reject the null hypothesis.\n",
    "Since the calculated t-statistic (2.103) is less than the critical t-value (2.660), we fail to reject the null hypothesis.'''"
   ]
  },
  {
   "cell_type": "code",
   "execution_count": 4,
   "id": "ac27e80c-e7e1-4335-820c-6545d170e92d",
   "metadata": {},
   "outputs": [
    {
     "data": {
      "text/plain": [
       "'For a 90% confidence level, the critical value (z∗) from the z-distribution is approximately 1.645.\\nSE=1.131\\nMOE=1.645*1.131=1.860\\nUpper bound=65-1.860=63.140\\nLower bound=65+1.860=66.860\\nThis means that we are 90% confident that the true population mean lies between 63.140 and 66.860. This interval gives us an estimate of\\nthe range within which the true population mean is likely to fall based on the sample data.'"
      ]
     },
     "execution_count": 4,
     "metadata": {},
     "output_type": "execute_result"
    }
   ],
   "source": [
    "# Q13. A population has a mean of 60 and a standard deviation of 8. A sample of 50 observations has a mean of 65. Calculate the 90%\n",
    "# confidence interval for the true population mean.\n",
    "'''For a 90% confidence level, the critical value (z∗) from the z-distribution is approximately 1.645.\n",
    "SE=1.131\n",
    "MOE=1.645*1.131=1.860\n",
    "Upper bound=65-1.860=63.140\n",
    "Lower bound=65+1.860=66.860\n",
    "This means that we are 90% confident that the true population mean lies between 63.140 and 66.860. This interval gives us an estimate of\n",
    "the range within which the true population mean is likely to fall based on the sample data.'''"
   ]
  },
  {
   "cell_type": "code",
   "execution_count": 5,
   "id": "592b4797-fb5d-44d1-9173-dad8b905c63e",
   "metadata": {},
   "outputs": [
    {
     "data": {
      "text/plain": [
       "'Null hypothesis \\nμ=0.30 seconds (Caffeine has no effect on reaction time)\\nAlternative hypothesis \\n𝜇≠=0.30 seconds (Caffeine has an effect on reaction time)\\ncalculate t =mean-population/SE\\nSE=sample population/sqrt sample size\\nSE=0.05/sqrt 30\\nSE=0.00913\\nt=-5.1476\\n\\ndegree of fredom=df=n−1=30−1=29\\nFor a two-tailed test at the 90% confidence level with 29 degrees of freedom, we find the critical t-value (t critical) from the \\nt-distribution table or using statistical software.≈±1.699\\n\\ndecision \\nIf ∣t∣≥t critical, we reject the null hypothesis.\\nIf ∣t∣<t critical, we fail to reject the null hypothesis.\\nSince the calculated t-statistic (−5.476) is much less than the critical t-value (−1.699), we reject the null hypothesis.'"
      ]
     },
     "execution_count": 5,
     "metadata": {},
     "output_type": "execute_result"
    }
   ],
   "source": [
    "#Q14. In a study of the effects of caffeine on reaction time, a sample of 30 participants had an average reaction time of 0.25 seconds with\n",
    "#a standard deviation of 0.05 seconds. Conduct a hypothesis test to determine if the caffeine has a significant effect on reaction time at \n",
    "#a 90% confidence level using a t-test.\n",
    "'''Null hypothesis \n",
    "μ=0.30 seconds (Caffeine has no effect on reaction time)\n",
    "Alternative hypothesis \n",
    "𝜇≠=0.30 seconds (Caffeine has an effect on reaction time)\n",
    "calculate t =mean-population/SE\n",
    "SE=sample population/sqrt sample size\n",
    "SE=0.05/sqrt 30\n",
    "SE=0.00913\n",
    "t=-5.1476\n",
    "\n",
    "degree of fredom=df=n−1=30−1=29\n",
    "For a two-tailed test at the 90% confidence level with 29 degrees of freedom, we find the critical t-value (t critical) from the \n",
    "t-distribution table or using statistical software.≈±1.699\n",
    "\n",
    "decision \n",
    "If ∣t∣≥t critical, we reject the null hypothesis.\n",
    "If ∣t∣<t critical, we fail to reject the null hypothesis.\n",
    "Since the calculated t-statistic (−5.476) is much less than the critical t-value (−1.699), we reject the null hypothesis.'''"
   ]
  },
  {
   "cell_type": "code",
   "execution_count": null,
   "id": "6c26f440-043a-4aeb-bf71-e3034034985a",
   "metadata": {},
   "outputs": [],
   "source": []
  }
 ],
 "metadata": {
  "kernelspec": {
   "display_name": "Python 3 (ipykernel)",
   "language": "python",
   "name": "python3"
  },
  "language_info": {
   "codemirror_mode": {
    "name": "ipython",
    "version": 3
   },
   "file_extension": ".py",
   "mimetype": "text/x-python",
   "name": "python",
   "nbconvert_exporter": "python",
   "pygments_lexer": "ipython3",
   "version": "3.10.8"
  }
 },
 "nbformat": 4,
 "nbformat_minor": 5
}
