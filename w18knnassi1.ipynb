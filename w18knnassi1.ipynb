{
 "cells": [
  {
   "cell_type": "code",
   "execution_count": 1,
   "id": "d1b5bacf-e6e0-4498-b2a0-024d4e8e2f20",
   "metadata": {},
   "outputs": [
    {
     "data": {
      "text/plain": [
       "'KNN means the k nearest algorithm in these the new data point is occur then we find the the neagibourest element of it then the maximum element\\nthat goes to which range that range belong the new data point that the algorithm is.'"
      ]
     },
     "execution_count": 1,
     "metadata": {},
     "output_type": "execute_result"
    }
   ],
   "source": [
    "# Q1. What is the KNN algorithm?\n",
    "'''KNN means the k nearest algorithm in these the new data point is occur then we find the the neagibourest element of it then the maximum element\n",
    "that goes to which range that range belong the new data point that the algorithm is.'''"
   ]
  },
  {
   "cell_type": "code",
   "execution_count": 2,
   "id": "5798ff4f-218b-4129-8aba-fe4d004d9147",
   "metadata": {},
   "outputs": [
    {
     "data": {
      "text/plain": [
       "'we can choose the value by which the two method that is the eucledian distance and manhattan distance'"
      ]
     },
     "execution_count": 2,
     "metadata": {},
     "output_type": "execute_result"
    }
   ],
   "source": [
    "# Q2. How do you choose the value of K in KNN?\n",
    "'''we can choose the value by which the two method that is the eucledian distance and manhattan distance'''"
   ]
  },
  {
   "cell_type": "code",
   "execution_count": 3,
   "id": "eb19b0b7-bb44-4a2f-ade4-f1cd13fe49ad",
   "metadata": {},
   "outputs": [
    {
     "data": {
      "text/plain": [
       "'Knn Classifier: Predicts a class by using the highest majority category among its k nearest neighbors.\\n Knn Regression: Predicts a value by using the mean of the k nearest neighbors.'"
      ]
     },
     "execution_count": 3,
     "metadata": {},
     "output_type": "execute_result"
    }
   ],
   "source": [
    "# Q3. What is the difference between KNN classifier and KNN regressor?\n",
    "'''Knn Classifier: Predicts a class by using the highest majority category among its k nearest neighbors.\n",
    " Knn Regression: Predicts a value by using the mean of the k nearest neighbors.'''"
   ]
  },
  {
   "cell_type": "code",
   "execution_count": 4,
   "id": "66eee78e-3c74-4bb4-be3c-515a60918cfb",
   "metadata": {},
   "outputs": [
    {
     "data": {
      "text/plain": [
       "'we can increasing or decreasing the value of k and check the accuracy of model which model has large accuracy it is we can choose'"
      ]
     },
     "execution_count": 4,
     "metadata": {},
     "output_type": "execute_result"
    }
   ],
   "source": [
    "# Q4. How do you measure the performance of KNN?\n",
    "'''we can increasing or decreasing the value of k and check the accuracy of model which model has large accuracy it is we can choose'''"
   ]
  },
  {
   "cell_type": "code",
   "execution_count": 1,
   "id": "6889e233-2c59-410f-a510-a40065417af1",
   "metadata": {},
   "outputs": [
    {
     "data": {
      "text/plain": [
       "'The dimensionality curse phenomenon states that in high dimensional spaces distances between nearest and farthest points from query \\npoints become almost equal.'"
      ]
     },
     "execution_count": 1,
     "metadata": {},
     "output_type": "execute_result"
    }
   ],
   "source": [
    "#Q5. What is the curse of dimensionality in KNN?\n",
    "'''The dimensionality curse phenomenon states that in high dimensional spaces distances between nearest and farthest points from query \n",
    "points become almost equal.'''"
   ]
  },
  {
   "cell_type": "code",
   "execution_count": 2,
   "id": "cd8fe1e6-cf79-48aa-b76b-02ab30a7c291",
   "metadata": {},
   "outputs": [
    {
     "data": {
      "text/plain": [
       "'The KNN Imputer is applied to fill in the missing values in the selected data. The n_neighbors parameter is set to 5, meaning the \\nimputer will use the mean value of the 5 nearest neighbors to impute the missing values.'"
      ]
     },
     "execution_count": 2,
     "metadata": {},
     "output_type": "execute_result"
    }
   ],
   "source": [
    "# Q6. How do you handle missing values in KNN?\n",
    "'''The KNN Imputer is applied to fill in the missing values in the selected data. The n_neighbors parameter is set to 5, meaning the \n",
    "imputer will use the mean value of the 5 nearest neighbors to impute the missing values.'''"
   ]
  },
  {
   "cell_type": "code",
   "execution_count": 13,
   "id": "e4d9d9c8-0bf1-4227-b2d7-38fe8fd00775",
   "metadata": {},
   "outputs": [
    {
     "data": {
      "text/plain": [
       "'KNN Classifier: Use KNN classifier for classification tasks where the data is not linearly separable and the decision boundary is complex\\n\\nKNN Regressor: Use KNN regressor for regression tasks where the data has a smooth and continuous relationship, and the output can be \\nestimated by averaging the values of nearby points.\\nthe choice between KNN classifier and regressor depends on the nature of the problem, the complexity of the decision boundary, and the characteristics of the\\ndataset.'"
      ]
     },
     "execution_count": 13,
     "metadata": {},
     "output_type": "execute_result"
    }
   ],
   "source": [
    "# Q7. Compare and contrast the performance of the KNN classifier and regressor. Which one is better for which type of problem?\n",
    "'''KNN Classifier: Use KNN classifier for classification tasks where the data is not linearly separable and the decision boundary is complex\n",
    "\n",
    "KNN Regressor: Use KNN regressor for regression tasks where the data has a smooth and continuous relationship, and the output can be \n",
    "estimated by averaging the values of nearby points.\n",
    "the choice between KNN classifier and regressor depends on the nature of the problem, the complexity of the decision boundary, and the \n",
    "characteristics of the dataset.'''"
   ]
  },
  {
   "cell_type": "code",
   "execution_count": 11,
   "id": "aae6637f-e917-4a18-89ff-67e01e465f66",
   "metadata": {},
   "outputs": [
    {
     "data": {
      "text/plain": [
       "\"It's main disadvantages are that it is quite computationally inefficient and its difficult to pick the “correct” value of K. However, \\nthe advantages of this algorithm is that it is versatile to different calculations of proximity, it's very intuitive and that it's a memory\\nbased approach.\""
      ]
     },
     "execution_count": 11,
     "metadata": {},
     "output_type": "execute_result"
    }
   ],
   "source": [
    "# Q8. What are the strengths and weaknesses of the KNN algorithm for classification and regression tasks, and how can these be addressed?\n",
    "'''It's main disadvantages are that it is quite computationally inefficient and its difficult to pick the “correct” value of K. However, \n",
    "the advantages of this algorithm is that it is versatile to different calculations of proximity, it's very intuitive and that it's a memory\n",
    "based approach.'''"
   ]
  },
  {
   "cell_type": "code",
   "execution_count": 8,
   "id": "6f5302c6-e39e-43bc-9af9-631600a29bcb",
   "metadata": {},
   "outputs": [
    {
     "data": {
      "text/plain": [
       "'euclidean distance that fing the distance dirstly the straight line of the two point the formula is that (x2-x1)^2+(y2-y1)^2 whole in \\nsquare root\\nManhattan distance is a absoulte distance between the x co-ordinate i.e|x2-x1| plus absoulte distane between the y co-ordinete '"
      ]
     },
     "execution_count": 8,
     "metadata": {},
     "output_type": "execute_result"
    }
   ],
   "source": [
    "# Q9. What is the difference between Euclidean distance and Manhattan distance in KNN?\n",
    "'''euclidean distance that fing the distance dirstly the straight line of the two point the formula is that (x2-x1)^2+(y2-y1)^2 whole in \n",
    "square root\n",
    "Manhattan distance is a absoulte distance between the x co-ordinate i.e|x2-x1| plus absoulte distane between the y co-ordinete ''' "
   ]
  },
  {
   "cell_type": "code",
   "execution_count": 10,
   "id": "99c7dad4-9254-4479-99b9-0dd79957a942",
   "metadata": {},
   "outputs": [
    {
     "data": {
      "text/plain": [
       "'feature scaling is crucial for the KNN algorithm, as it helps in preventing features with larger magnitudes from dominating the distance\\ncalculations. Feature scaling is an essential step in the data preprocessing pipeline, especially for distance-based algorithms like the \\nKNN'"
      ]
     },
     "execution_count": 10,
     "metadata": {},
     "output_type": "execute_result"
    }
   ],
   "source": [
    "# Q10. What is the role of feature scaling in KNN?\n",
    "'''feature scaling is crucial for the KNN algorithm, as it helps in preventing features with larger magnitudes from dominating the distance\n",
    "calculations. Feature scaling is an essential step in the data preprocessing pipeline, especially for distance-based algorithms like the \n",
    "KNN'''"
   ]
  },
  {
   "cell_type": "code",
   "execution_count": null,
   "id": "58c1b43b-2556-4d0e-979a-7b6acb90a886",
   "metadata": {},
   "outputs": [],
   "source": []
  }
 ],
 "metadata": {
  "kernelspec": {
   "display_name": "Python 3 (ipykernel)",
   "language": "python",
   "name": "python3"
  },
  "language_info": {
   "codemirror_mode": {
    "name": "ipython",
    "version": 3
   },
   "file_extension": ".py",
   "mimetype": "text/x-python",
   "name": "python",
   "nbconvert_exporter": "python",
   "pygments_lexer": "ipython3",
   "version": "3.10.8"
  }
 },
 "nbformat": 4,
 "nbformat_minor": 5
}
