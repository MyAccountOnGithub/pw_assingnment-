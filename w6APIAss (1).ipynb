{
 "cells": [
  {
   "cell_type": "code",
   "execution_count": 2,
   "id": "a4c87707-eb91-471f-8d8c-cc288d0906ec",
   "metadata": {},
   "outputs": [
    {
     "data": {
      "text/plain": [
       "'An API, or Application Programming Interface, is a set of rules and protocols that allows one \\n   software application to interact with another. It defines the methods and data structures that \\n   developers can use to communicate with the software component, be it operating systems, libraries,\\n   or different services. APIs are used to enable the integration between different software systems.\\n   ex:One of the most common real-life examples of API usage is in the interaction between a mobile \\n   application and a web server'"
      ]
     },
     "execution_count": 2,
     "metadata": {},
     "output_type": "execute_result"
    }
   ],
   "source": [
    " # Q1. What is an API? Give an example, where an API is used in real life.\n",
    "\"\"\"An API, or Application Programming Interface, is a set of rules and protocols that allows one \n",
    "    software application to interact with another. It defines the methods and data structures that \n",
    "    developers can use to communicate with the software component, be it operating systems, libraries,\n",
    "    or different services. APIs are used to enable the integration between different software systems.\n",
    "    ex:One of the most common real-life examples of API usage is in the interaction between a mobile \n",
    "    application and a web server\"\"\""
   ]
  },
  {
   "cell_type": "code",
   "execution_count": 3,
   "id": "d4dfac72-87d8-4215-bc4d-594a6349a1a1",
   "metadata": {},
   "outputs": [
    {
     "data": {
      "text/plain": [
       "'Advantage \\n1.Integration and Automation: APIs allow different software systems to communicate with each other, \\nenabling integration and automation of processes.\\n2.Data Accessibility: APIs provide a structured way to access data from remote servers or services, making\\nit easier for developers to pull in data for their applications.\\n\\nDisadvantage\\n1.Limited Control: When using third-party APIs, developers are restricted to the functionality and data\\nthat the API provides. Any changes or updates to the API can impact the dependent applications.\\n2.Dependency: Relying on third-party APIs means that your application is dependent on another service. \\nIf that service goes down or changes, your application might suffer.'"
      ]
     },
     "execution_count": 3,
     "metadata": {},
     "output_type": "execute_result"
    }
   ],
   "source": [
    "# Q2. Give advantages and disadvantages of using API.\n",
    "'''Advantage \n",
    "1.Integration and Automation: APIs allow different software systems to communicate with each other, \n",
    "enabling integration and automation of processes.\n",
    "2.Data Accessibility: APIs provide a structured way to access data from remote servers or services, making\n",
    "it easier for developers to pull in data for their applications.\n",
    "\n",
    "Disadvantage\n",
    "1.Limited Control: When using third-party APIs, developers are restricted to the functionality and data\n",
    "that the API provides. Any changes or updates to the API can impact the dependent applications.\n",
    "2.Dependency: Relying on third-party APIs means that your application is dependent on another service. \n",
    "If that service goes down or changes, your application might suffer.'''"
   ]
  },
  {
   "cell_type": "code",
   "execution_count": 4,
   "id": "80ca8bb5-e29a-4467-8b75-352662f4ef32",
   "metadata": {},
   "outputs": [
    {
     "data": {
      "text/plain": [
       "\"API (Application Programming Interface): It's a broad term that represents any set of protocols or tools \\nallowing different software applications to communicate. An API can be used for communication between\\ndifferent modules of the same software or different software systems altogether. It can exist without the\\nweb, for example, the Java API or the Windows API.\\nWeb API: This is specifically designed for web-based access, meaning it can be accessed over the web using\\nHTTP/HTTPS. Web APIs are a subset of APIs and are intended to be used by web clients like browsers, mobile \\napps, or other external systems.\""
      ]
     },
     "execution_count": 4,
     "metadata": {},
     "output_type": "execute_result"
    }
   ],
   "source": [
    "# Q3. What is a Web API? Differentiate between API and Web API.\n",
    "'''API (Application Programming Interface): It's a broad term that represents any set of protocols or tools \n",
    "allowing different software applications to communicate. An API can be used for communication between\n",
    "different modules of the same software or different software systems altogether. It can exist without the\n",
    "web, for example, the Java API or the Windows API.\n",
    "Web API: This is specifically designed for web-based access, meaning it can be accessed over the web using\n",
    "HTTP/HTTPS. Web APIs are a subset of APIs and are intended to be used by web clients like browsers, mobile \n",
    "apps, or other external systems.'''"
   ]
  },
  {
   "cell_type": "code",
   "execution_count": 5,
   "id": "3933196a-e5fd-4190-8684-c9ae9d2c3154",
   "metadata": {},
   "outputs": [
    {
     "data": {
      "text/plain": [
       "\"REST (Representational State Transfer):\\nREST is an architectural style for distributed systems, particularly web services. It's not a protocol or\\na standard, but a set of constraints.\\nSOAP (Simple Object Access Protocol):\\nSOAP is a protocol for accessing web services. It's a specification that defines the XML format for messages\\n\""
      ]
     },
     "execution_count": 5,
     "metadata": {},
     "output_type": "execute_result"
    }
   ],
   "source": [
    "# Q4. Explain REST and SOAP Architecture. Mention shortcomings of SOAP.\n",
    "'''REST (Representational State Transfer):\n",
    "REST is an architectural style for distributed systems, particularly web services. It's not a protocol or\n",
    "a standard, but a set of constraints.\n",
    "SOAP (Simple Object Access Protocol):\n",
    "SOAP is a protocol for accessing web services. It's a specification that defines the XML format for messages\n",
    "'''"
   ]
  },
  {
   "cell_type": "code",
   "execution_count": 7,
   "id": "1ceba343-aeee-477e-b679-12ecee86d11d",
   "metadata": {},
   "outputs": [
    {
     "data": {
      "text/plain": [
       "\"Defination \\nREST (Representational State Transfer): An architectural style for distributed systems, especially web \\nservices. It defines a set of constraints for creating web services, but isn't a protocol itself.\\nSOAP (Simple Object Access Protocol): A protocol specification for exchanging structured information in web\\nservice communication.\\n2. Message Format:\\nREST: Typically uses JSON, but can also use XML, HTML, or other formats depending on the implementation.\\nSOAP: Uses XML as its message format.\\n3.Performance:\\nREST: Generally faster and consumes fewer resources due to its lightweight nature and the ability to use JSON\\nSOAP: Tends to be more resource-intensive and slower due to its XML message format and additional processing.\\n4.Security:\\nREST: Relies on the underlying transport protocol for security, typically using HTTPS.\\nSOAP: Has built-in security specifications called WS-Security.\""
      ]
     },
     "execution_count": 7,
     "metadata": {},
     "output_type": "execute_result"
    }
   ],
   "source": [
    "# Q5. Differentiate between REST and SOAP.\n",
    "'''Defination \n",
    "REST (Representational State Transfer): An architectural style for distributed systems, especially web \n",
    "services. It defines a set of constraints for creating web services, but isn't a protocol itself.\n",
    "SOAP (Simple Object Access Protocol): A protocol specification for exchanging structured information in web\n",
    "service communication.\n",
    "2. Message Format:\n",
    "REST: Typically uses JSON, but can also use XML, HTML, or other formats depending on the implementation.\n",
    "SOAP: Uses XML as its message format.\n",
    "3.Performance:\n",
    "REST: Generally faster and consumes fewer resources due to its lightweight nature and the ability to use JSON\n",
    "SOAP: Tends to be more resource-intensive and slower due to its XML message format and additional processing.\n",
    "4.Security:\n",
    "REST: Relies on the underlying transport protocol for security, typically using HTTPS.\n",
    "SOAP: Has built-in security specifications called WS-Security.'''"
   ]
  },
  {
   "cell_type": "code",
   "execution_count": null,
   "id": "3f9adff3-622d-408d-aecd-46a9142196b2",
   "metadata": {},
   "outputs": [],
   "source": []
  }
 ],
 "metadata": {
  "kernelspec": {
   "display_name": "Python 3 (ipykernel)",
   "language": "python",
   "name": "python3"
  },
  "language_info": {
   "codemirror_mode": {
    "name": "ipython",
    "version": 3
   },
   "file_extension": ".py",
   "mimetype": "text/x-python",
   "name": "python",
   "nbconvert_exporter": "python",
   "pygments_lexer": "ipython3",
   "version": "3.10.8"
  }
 },
 "nbformat": 4,
 "nbformat_minor": 5
}
