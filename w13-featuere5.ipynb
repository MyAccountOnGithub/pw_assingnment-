{
 "cells": [
  {
   "cell_type": "code",
   "execution_count": null,
   "id": "6189bd7e-6f36-46f8-8f70-55042c7e6f93",
   "metadata": {},
   "outputs": [],
   "source": [
    "#Q1. Pearson correlation coefficient is a measure of the linear relationship between two variables. Suppose you have collected data on the amount of \n",
    "#time students spend studying for an exam and their final exam scores. Calculate the Pearson correlation coefficient between these two variables and\n",
    "#interpret the result.\n",
    "'''The Pearson correlation coefficient, often denoted as r, measures the strength and direction of the linear relationship between two variables. It \n",
    "ranges from -1 to 1.\n",
    "r=1 indicates a perfect positive linear relationship.\n",
    "\n",
    "r=−1 indicates a perfect negative linear relationship.\n",
    "\n",
    "r=0 indicates no linear relationship.'''"
   ]
  },
  {
   "cell_type": "code",
   "execution_count": 1,
   "id": "2a553838-da6b-4288-85ed-280d072a5cfc",
   "metadata": {},
   "outputs": [
    {
     "data": {
      "text/plain": [
       "\"Spearman's rank correlation is a non-parametric measure of the strength and direction of the monotonic relationship between two variables. It\\nassesses how well the relationship between two variables can be described using a monotonic function.\\n1.Rank the Data:\\n\\nSleep (hours): 4, 5, 3, 6, 2\\nJob Satisfaction: 3, 4, 2, 5, 1\\n2.Calculate the Differences in Ranks\\n3.Sum of Squared Differences:\\n∑𝑑𝑖2=1+1+1+1+1=5\\n4.Calculate Spearman's Rank Correlation Coefficient\\n=0.75\\npearman's rank correlation coefficient (\\n𝜌\\nρ): 0.75\\nInterpretation:\\nA \\n𝜌\\nρ value of 0.75 indicates a strong positive monotonic relationship between the amount of sleep individuals get each night and their overall job satisfaction level.\\nThis means that as the amount of sleep increases, the job satisfaction level tends to increase as well, and vice versa.\""
      ]
     },
     "execution_count": 1,
     "metadata": {},
     "output_type": "execute_result"
    }
   ],
   "source": [
    "#Q2. Spearman's rank correlation is a measure of the monotonic relationship between two variables. Suppose you have collected data on the amount of \n",
    "#sleep individuals get each night and their overall job satisfaction level on a scale of 1 to 10. Calculate the Spearman's rank correlation between \n",
    "#these two variables and interpret the result.\n",
    "'''Spearman's rank correlation is a non-parametric measure of the strength and direction of the monotonic relationship between two variables. It\n",
    "assesses how well the relationship between two variables can be described using a monotonic function.\n",
    "1.Rank the Data:\n",
    "\n",
    "Sleep (hours): 4, 5, 3, 6, 2\n",
    "Job Satisfaction: 3, 4, 2, 5, 1\n",
    "2.Calculate the Differences in Ranks\n",
    "3.Sum of Squared Differences:\n",
    "∑𝑑𝑖2=1+1+1+1+1=5\n",
    "4.Calculate Spearman's Rank Correlation Coefficient\n",
    "=0.75\n",
    "pearman's rank correlation coefficient (\n",
    "𝜌\n",
    "ρ): 0.75\n",
    "Interpretation:\n",
    "A \n",
    "𝜌\n",
    "ρ value of 0.75 indicates a strong positive monotonic relationship between the amount of sleep individuals get each night and their overall job satisfaction level.\n",
    "This means that as the amount of sleep increases, the job satisfaction level tends to increase as well, and vice versa.'''\n"
   ]
  },
  {
   "cell_type": "code",
   "execution_count": 2,
   "id": "049262d9-1bee-4c9b-acff-a5561e3bb252",
   "metadata": {},
   "outputs": [
    {
     "data": {
      "text/plain": [
       "\"Pearson Correlation Coefficient:\\n\\nMeasures the linear relationship between hours of exercise and BMI.\\nA value close to 1 or -1 indicates a strong linear relationship, while a value close to 0 indicates no linear relationship.\\nSpearman's Rank Correlation Coefficient:\\n\\nMeasures the monotonic relationship between hours of exercise and BMI.\\nA value close to 1 or -1 indicates a strong monotonic relationship, while a value close to 0 indicates no monotonic relationship.\""
      ]
     },
     "execution_count": 2,
     "metadata": {},
     "output_type": "execute_result"
    }
   ],
   "source": [
    "#Q3. Suppose you are conducting a study to examine the relationship between the number of hours of exercise per week and body mass index (BMI) in a \n",
    "#sample of adults. You collected data on both variables for 50 participants. Calculate the Pearson correlation coefficient and the Spearman's rank \n",
    "#correlation between these two variables and compare the results.\n",
    "'''Pearson Correlation Coefficient:\n",
    "\n",
    "Measures the linear relationship between hours of exercise and BMI.\n",
    "A value close to 1 or -1 indicates a strong linear relationship, while a value close to 0 indicates no linear relationship.\n",
    "Spearman's Rank Correlation Coefficient:\n",
    "\n",
    "Measures the monotonic relationship between hours of exercise and BMI.\n",
    "A value close to 1 or -1 indicates a strong monotonic relationship, while a value close to 0 indicates no monotonic relationship.'''"
   ]
  },
  {
   "cell_type": "code",
   "execution_count": 3,
   "id": "1df336b6-ec24-4ff9-8dc6-76cc3c6b83e8",
   "metadata": {},
   "outputs": [
    {
     "data": {
      "text/plain": [
       "-0.04370003148345625"
      ]
     },
     "execution_count": 3,
     "metadata": {},
     "output_type": "execute_result"
    }
   ],
   "source": [
    "#Q4. A researcher is interested in examining the relationship between the number of hours individuals spend watching television per day and their \n",
    "#level of physical activity. The researcher collected data on both variables from a sample of 50 participants. Calculate the Pearson correlation \n",
    "#coefficient between these two variables.\n",
    "import pandas as pd\n",
    "import numpy as np\n",
    "from scipy.stats import pearsonr\n",
    "\n",
    "# Generate a hypothetical dataset for 50 participants\n",
    "np.random.seed(0)  # For reproducibility\n",
    "data = {\n",
    "    'Hours_TV': np.random.randint(0, 10, 50),  # Random hours of TV watching between 0 and 9\n",
    "    'Physical_Activity_Level': np.random.randint(1, 10, 50)  # Random physical activity level between 1 and 9\n",
    "}\n",
    "df = pd.DataFrame(data)\n",
    "\n",
    "# Calculate Pearson correlation coefficient\n",
    "pearson_corr, _ = pearsonr(df['Hours_TV'], df['Physical_Activity_Level'])\n",
    "\n",
    "pearson_corr\n"
   ]
  },
  {
   "cell_type": "code",
   "execution_count": 4,
   "id": "3621089c-2a7b-48ad-96b6-53e77d292d6b",
   "metadata": {},
   "outputs": [
    {
     "data": {
      "text/plain": [
       "0.8332380897952965"
      ]
     },
     "execution_count": 4,
     "metadata": {},
     "output_type": "execute_result"
    }
   ],
   "source": [
    "#Q5. A survey was conducted to examine the relationship between age and preference for a particular brand of soft drink. The survey results are shown\n",
    "#below:\n",
    "#Age(Years)  Soft drink Preference\n",
    "#25          Coke\n",
    "#42          Pepsi\n",
    "#37          Mountain dew\n",
    "#19          Coke\n",
    "#31          Pepsi\n",
    "#28          Coke\n",
    "\n",
    "\n",
    "import pandas as pd\n",
    "from scipy.stats import spearmanr\n",
    "\n",
    "# Survey data\n",
    "data = {\n",
    "    'Age': [25, 42, 37, 19, 31, 28],\n",
    "    'Soft_Drink': ['Coke', 'Pepsi', 'Mountain Dew', 'Coke', 'Pepsi', 'Coke']\n",
    "}\n",
    "df = pd.DataFrame(data)\n",
    "\n",
    "# Encode soft drink preferences\n",
    "df['Soft_Drink_Encoded'] = df['Soft_Drink'].map({'Coke': 1, 'Pepsi': 2, 'Mountain Dew': 3})\n",
    "\n",
    "# Calculate Spearman's rank correlation coefficient\n",
    "spearman_corr, _ = spearmanr(df['Age'], df['Soft_Drink_Encoded'])\n",
    "\n",
    "spearman_corr\n",
    "\n",
    "\n"
   ]
  },
  {
   "cell_type": "code",
   "execution_count": 5,
   "id": "458a8c7e-cc9b-4449-a038-ebe45d343da1",
   "metadata": {},
   "outputs": [
    {
     "data": {
      "text/plain": [
       "-0.15151181101393188"
      ]
     },
     "execution_count": 5,
     "metadata": {},
     "output_type": "execute_result"
    }
   ],
   "source": [
    "#Q6. A company is interested in examining the relationship between the number of sales calls made per day and the number of sales made per week. The \n",
    "#company collected data on both variables from a sample of 30 sales representatives. Calculate the Pearson correlation coefficient between these two \n",
    "#variables.\n",
    "import pandas as pd\n",
    "import numpy as np\n",
    "from scipy.stats import pearsonr\n",
    "\n",
    "# Generate a hypothetical dataset for 30 sales representatives\n",
    "np.random.seed(0)  # For reproducibility\n",
    "data = {\n",
    "    'Sales_Calls_Per_Day': np.random.randint(10, 30, 30),\n",
    "    'Sales_Per_Week': np.random.randint(5, 25, 30)\n",
    "}\n",
    "df = pd.DataFrame(data)\n",
    "\n",
    "# Calculate Pearson correlation coefficient\n",
    "pearson_corr, _ = pearsonr(df['Sales_Calls_Per_Day'], df['Sales_Per_Week'])\n",
    "\n",
    "pearson_corr\n"
   ]
  },
  {
   "cell_type": "code",
   "execution_count": null,
   "id": "04f13614-22cb-4ae9-988a-ded1653a1259",
   "metadata": {},
   "outputs": [],
   "source": []
  }
 ],
 "metadata": {
  "kernelspec": {
   "display_name": "Python 3 (ipykernel)",
   "language": "python",
   "name": "python3"
  },
  "language_info": {
   "codemirror_mode": {
    "name": "ipython",
    "version": 3
   },
   "file_extension": ".py",
   "mimetype": "text/x-python",
   "name": "python",
   "nbconvert_exporter": "python",
   "pygments_lexer": "ipython3",
   "version": "3.10.8"
  }
 },
 "nbformat": 4,
 "nbformat_minor": 5
}
