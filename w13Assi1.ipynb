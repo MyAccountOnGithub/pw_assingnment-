{
 "cells": [
  {
   "cell_type": "code",
   "execution_count": 1,
   "id": "b28dda19-a5f7-4d4a-90d2-dddfdb5e3b26",
   "metadata": {},
   "outputs": [
    {
     "data": {
      "text/plain": [
       "'1.Artificial intelligence is the overarching term that covers a wide variety of specific approaches and algorithms.AI simulates human intelligence \\nto perform tasks and make decisions.\\nex robot \\n2.ML is a subset of AI that uses algorithms to learn patterns from data\\nex recommender system \\n3.DL is a subset of ML that employs artificial neural networks for complex tasks\\nex image classification'"
      ]
     },
     "execution_count": 1,
     "metadata": {},
     "output_type": "execute_result"
    }
   ],
   "source": [
    "# Explain the following \n",
    "# 1.AI\n",
    "# 2.ML\n",
    "# 3.DL\n",
    "'''1.Artificial intelligence is the overarching term that covers a wide variety of specific approaches and algorithms.AI simulates human intelligence \n",
    "to perform tasks and make decisions.\n",
    "ex robot \n",
    "2.ML is a subset of AI that uses algorithms to learn patterns from data\n",
    "ex recommender system \n",
    "3.DL is a subset of ML that employs artificial neural networks for complex tasks\n",
    "ex image classification'''"
   ]
  },
  {
   "cell_type": "code",
   "execution_count": 2,
   "id": "20e9603b-430a-49cc-a7ba-0c403b28c0cf",
   "metadata": {},
   "outputs": [
    {
     "data": {
      "text/plain": [
       "'Supervised learning is a type of machine learning in which a computer algorithm learns to make predictions or decisions based on labeled data. \\nLabeled data is made up of previously known input variables (also known as features) and output variables (also known as labels). By analyzing \\npatterns and relationships between input and output variables in labeled data, the algorithm learns to make predictions. Image and speech recognition,\\nrecommendation systems, and fraud detection are all examples of how supervised learning is used.'"
      ]
     },
     "execution_count": 2,
     "metadata": {},
     "output_type": "execute_result"
    }
   ],
   "source": [
    "# Q2- What is supervised learning? List some examples of supervised learning.\n",
    "'''Supervised learning is a type of machine learning in which a computer algorithm learns to make predictions or decisions based on labeled data. \n",
    "Labeled data is made up of previously known input variables (also known as features) and output variables (also known as labels). By analyzing \n",
    "patterns and relationships between input and output variables in labeled data, the algorithm learns to make predictions. Image and speech recognition,\n",
    "recommendation systems, and fraud detection are all examples of how supervised learning is used.'''"
   ]
  },
  {
   "cell_type": "code",
   "execution_count": 2,
   "id": "9b3f8cbb-6173-4edf-a7ac-001079f45147",
   "metadata": {},
   "outputs": [
    {
     "data": {
      "text/plain": [
       "'unsupervised learning is a machine learning technique in which models are not supervised using training dataset. Instead, models itself find the \\nhidden patterns and insights from the given data. It can be compared to learning which takes place in the human brain while learning new things.\\nex face recognization system,image classification.'"
      ]
     },
     "execution_count": 2,
     "metadata": {},
     "output_type": "execute_result"
    }
   ],
   "source": [
    "# Q3 What is unsupervised learning? List some examples of unsupervised learning.\n",
    "'''unsupervised learning is a machine learning technique in which models are not supervised using training dataset. Instead, models itself find the \n",
    "hidden patterns and insights from the given data. It can be compared to learning which takes place in the human brain while learning new things.\n",
    "ex face recognization system,image classification.'''"
   ]
  },
  {
   "cell_type": "code",
   "execution_count": 3,
   "id": "f8011177-655e-4f08-b101-73d80e3ab8da",
   "metadata": {},
   "outputs": [
    {
     "data": {
      "text/plain": [
       "'Artificial Intelligence is a vast field and Machine Learning is a subset of Machine Learning and Deep Learning is subset of Machine Learning.\\nand data scine is intersect with AI, ML, DL.'"
      ]
     },
     "execution_count": 3,
     "metadata": {},
     "output_type": "execute_result"
    }
   ],
   "source": [
    "# Q4 What is the difference between AI, ML, DL, and DS?\n",
    "'''Artificial Intelligence is a vast field and Machine Learning is a subset of Machine Learning and Deep Learning is subset of Machine Learning.\n",
    "and data scine is intersect with AI, ML, DL.'''"
   ]
  },
  {
   "cell_type": "code",
   "execution_count": 4,
   "id": "36d2f130-a62d-4192-b98d-914a3a85448c",
   "metadata": {},
   "outputs": [
    {
     "data": {
      "text/plain": [
       "'In supervised technique the data is supervise on input and output both and machine learn from it.In unsupervise in data only input is there \\nso it predict the output and train the machine,In semisupervised combination of both supervised, unsupervised '"
      ]
     },
     "execution_count": 4,
     "metadata": {},
     "output_type": "execute_result"
    }
   ],
   "source": [
    "# Q5 What are the main differences between supervised, unsupervised, and semi-supervised learning?\n",
    "'''In supervised technique the data is supervise on input and output both and machine learn from it.In unsupervise in data only input is there \n",
    "so it predict the output and train the machine,In semisupervised combination of both supervised, unsupervised '''"
   ]
  },
  {
   "cell_type": "code",
   "execution_count": 5,
   "id": "1ecca7c1-3dc7-4108-a389-9964bfe795c1",
   "metadata": {},
   "outputs": [
    {
     "data": {
      "text/plain": [
       "\"Training set: It is important because it is used to train the model's parameters, allowing it to learn patterns and relationships in the data.\\nTest set: It is important because it provides an unbiased evaluation of the model's performance on new, unseen data, helping to estimate how well the\\nmodel will generalize to real-world scenarios.\\nValidation set: It is important because it is used to fine-tune the model's hyperparameters, optimizing its performance on the test set without \\noverfitting to the training data.\""
      ]
     },
     "execution_count": 5,
     "metadata": {},
     "output_type": "execute_result"
    }
   ],
   "source": [
    "# Q6 What is train, test and validation split? Explain the importance of each term.\n",
    "'''Training set: It is important because it is used to train the model's parameters, allowing it to learn patterns and relationships in the data.\n",
    "Test set: It is important because it provides an unbiased evaluation of the model's performance on new, unseen data, helping to estimate how well the\n",
    "model will generalize to real-world scenarios.\n",
    "Validation set: It is important because it is used to fine-tune the model's hyperparameters, optimizing its performance on the test set without \n",
    "overfitting to the training data.'''"
   ]
  },
  {
   "cell_type": "code",
   "execution_count": 6,
   "id": "bcfd7980-238f-44ce-a9fe-fede13eb88ce",
   "metadata": {},
   "outputs": [
    {
     "data": {
      "text/plain": [
       "'Anomaly detection techniques of unsupervised nature assume that normal data points occur considerably more frequently than anomalous data points. \\nThis assumption is used to classify data points that occur less frequently as anomalies. Unsupervised techniques assign each data point a score \\ninstead of a label.'"
      ]
     },
     "execution_count": 6,
     "metadata": {},
     "output_type": "execute_result"
    }
   ],
   "source": [
    "# Q7 How can unsupervised learning be used in anomaly detection?\n",
    "'''Anomaly detection techniques of unsupervised nature assume that normal data points occur considerably more frequently than anomalous data points. \n",
    "This assumption is used to classify data points that occur less frequently as anomalies. Unsupervised techniques assign each data point a score \n",
    "instead of a label.'''"
   ]
  },
  {
   "cell_type": "code",
   "execution_count": null,
   "id": "bc2dd3bb-eb3c-4b33-b2c8-2706a73a2a31",
   "metadata": {},
   "outputs": [],
   "source": [
    "# Q8 List down some commonly used supervised learning algorithms and unsupervised learning algorithms.\n",
    "'''"
   ]
  }
 ],
 "metadata": {
  "kernelspec": {
   "display_name": "Python 3 (ipykernel)",
   "language": "python",
   "name": "python3"
  },
  "language_info": {
   "codemirror_mode": {
    "name": "ipython",
    "version": 3
   },
   "file_extension": ".py",
   "mimetype": "text/x-python",
   "name": "python",
   "nbconvert_exporter": "python",
   "pygments_lexer": "ipython3",
   "version": "3.10.8"
  }
 },
 "nbformat": 4,
 "nbformat_minor": 5
}
