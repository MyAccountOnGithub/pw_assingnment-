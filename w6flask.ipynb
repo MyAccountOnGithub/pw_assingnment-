{
 "cells": [
  {
   "cell_type": "code",
   "execution_count": 1,
   "id": "b42fe56d-f901-40d0-91b6-38d311faf42a",
   "metadata": {},
   "outputs": [
    {
     "data": {
      "text/plain": [
       "'Flask is a micro web framework written in Python. It is designed to make getting started quick and easy,\\nwith the ability to scale up to complex applications. \\nAdvantages:\\n1.Ease of Learning and Use: For newcomers to web development or to Python itself, Flask provides a gentle \\nlearning curve, allowing developers to focus on the application logic rather than framework intricacies.\\n\\n2.RESTful Development: Flask makes it easy to build RESTful services, which is a popular choice for modern\\nweb apps and especially single-page applications (SPAs).\\n\\n3.Scalability: While Flask is often chosen for small projects, it can scale to handle larger applications as\\nwell, with the right architecture and design choices.\\n\\n4.Lightweight: Being a micro framework, Flask is lightweight and has a small core, which makes it faster and\\noften more suitable for simple applications or microservices.'"
      ]
     },
     "execution_count": 1,
     "metadata": {},
     "output_type": "execute_result"
    }
   ],
   "source": [
    "# Q1. What is Flask Framework? What are the advantages of Flask Framework?\n",
    "'''Flask is a micro web framework written in Python. It is designed to make getting started quick and easy,\n",
    "with the ability to scale up to complex applications. \n",
    "Advantages:\n",
    "1.Ease of Learning and Use: For newcomers to web development or to Python itself, Flask provides a gentle \n",
    "learning curve, allowing developers to focus on the application logic rather than framework intricacies.\n",
    "\n",
    "2.RESTful Development: Flask makes it easy to build RESTful services, which is a popular choice for modern\n",
    "web apps and especially single-page applications (SPAs).\n",
    "\n",
    "3.Scalability: While Flask is often chosen for small projects, it can scale to handle larger applications as\n",
    "well, with the right architecture and design choices.\n",
    "\n",
    "4.Lightweight: Being a micro framework, Flask is lightweight and has a small core, which makes it faster and\n",
    "often more suitable for simple applications or microservices.'''\n"
   ]
  },
  {
   "cell_type": "code",
   "execution_count": 2,
   "id": "cb2d0fc8-92fe-4199-922e-a0a7ca3a11d9",
   "metadata": {},
   "outputs": [],
   "source": [
    "# Q2. Create a simple Flask application to display ‘Hello World!!’. Attach the screenshot of the output in\n",
    "# Jupyter Notebook."
   ]
  },
  {
   "cell_type": "code",
   "execution_count": 3,
   "id": "159f6e15-191b-4b21-a529-28a27b25d3a4",
   "metadata": {},
   "outputs": [
    {
     "data": {
      "text/plain": [
       "\"Routing refers to the mechanism by which URLs are mapped to specific functions that handle client request\\n. When a user accesses a particular URL on a Flask web application, the app needs to know which function to\\nexecute in order to generate an appropriate response. This function-to-URL mapping is done using routes\\n\\nUse of flask\\n1.URL-to-Function Mapping: Routes allow developers to specify which function should be executed for a given \\nURLpattern. This provides a clear linkage between the structure of the website and the logic that powers it.\\n2.RESTful Design: Routes in Flask can be easily tailored to create RESTful web services. By mapping \\ndifferent URLs and HTTP methods (like GET, POST) to different functions, developers can design APIs that\\nfollow the principles of REST.\\n3.Flexibility and Modularity: Flask's routing system allows for modular designs using Blueprints. This helps\\nin scaling and organizing larger applications by grouping related routes and functionalities together.\""
      ]
     },
     "execution_count": 3,
     "metadata": {},
     "output_type": "execute_result"
    }
   ],
   "source": [
    "# Q3. What is App routing in Flask? Why do we use app routes?\n",
    "'''Routing refers to the mechanism by which URLs are mapped to specific functions that handle client request\n",
    ". When a user accesses a particular URL on a Flask web application, the app needs to know which function to\n",
    "execute in order to generate an appropriate response. This function-to-URL mapping is done using routes\n",
    "\n",
    "Use of flask\n",
    "1.URL-to-Function Mapping: Routes allow developers to specify which function should be executed for a given \n",
    "URLpattern. This provides a clear linkage between the structure of the website and the logic that powers it.\n",
    "2.RESTful Design: Routes in Flask can be easily tailored to create RESTful web services. By mapping \n",
    "different URLs and HTTP methods (like GET, POST) to different functions, developers can design APIs that\n",
    "follow the principles of REST.\n",
    "3.Flexibility and Modularity: Flask's routing system allows for modular designs using Blueprints. This helps\n",
    "in scaling and organizing larger applications by grouping related routes and functionalities together.'''"
   ]
  },
  {
   "cell_type": "code",
   "execution_count": 4,
   "id": "25344a76-8f59-4386-afbc-4e7a6058a592",
   "metadata": {},
   "outputs": [],
   "source": [
    "#Q4. Create a “/welcome” route to display the welcome message “Welcome to ABC Corporation” and a “/”\n",
    "#route to show the following details:\n",
    "#Company Name: ABC Corporation\n",
    "#Location: India\n",
    "#Contact Detail: 999-999-9999"
   ]
  },
  {
   "cell_type": "code",
   "execution_count": null,
   "id": "7c1c0a1d-0dff-4cd7-a80c-2924c0185a94",
   "metadata": {},
   "outputs": [],
   "source": [
    "# Q5. What function is used in Flask for URL Building? Write a Python code to demonstrate the working of the\n",
    "# url_for() function.\n",
    "'''url_for() function is used for URL building. It generates URLs to views based on their function names, \n",
    "ensuring that even if the URL pattern changes in the future, the URL generation will remain consistent. This\n",
    "can help avoid hardcoded URLs in your application, making your app more maintainable.'''"
   ]
  },
  {
   "cell_type": "code",
   "execution_count": null,
   "id": "1299e2a9-829e-4241-b6c2-38c84c699bc9",
   "metadata": {},
   "outputs": [],
   "source": []
  }
 ],
 "metadata": {
  "kernelspec": {
   "display_name": "Python 3 (ipykernel)",
   "language": "python",
   "name": "python3"
  },
  "language_info": {
   "codemirror_mode": {
    "name": "ipython",
    "version": 3
   },
   "file_extension": ".py",
   "mimetype": "text/x-python",
   "name": "python",
   "nbconvert_exporter": "python",
   "pygments_lexer": "ipython3",
   "version": "3.10.8"
  }
 },
 "nbformat": 4,
 "nbformat_minor": 5
}
