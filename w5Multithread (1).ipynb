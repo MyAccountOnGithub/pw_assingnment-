{
 "cells": [
  {
   "cell_type": "code",
   "execution_count": 2,
   "id": "313535e1-3271-445e-a765-2332e63d20c0",
   "metadata": {},
   "outputs": [
    {
     "data": {
      "text/plain": [
       "' Thread means the small program that run in system when multitasking we want to occur then we use \\nthreading module.Threding module we use for multithreading '"
      ]
     },
     "execution_count": 2,
     "metadata": {},
     "output_type": "execute_result"
    }
   ],
   "source": [
    "# Q1.What is multithreading in python? Why is it used? Name the module used to handle threads in python\n",
    "\"\"\" Thread means the small program that run in system when multitasking we want to occur then we use \n",
    "threading module.Threding module we use for multithreading \"\"\"  "
   ]
  },
  {
   "cell_type": "code",
   "execution_count": 3,
   "id": "e3f238dd-2ef4-4f63-a4e5-8b9c780ee9f6",
   "metadata": {},
   "outputs": [
    {
     "data": {
      "text/plain": [
       "'Q2.Why threading module used? write the use of the following functions\\n( activeCount\\n currentThread\\n enumerate)\\n \\n Threading model is used to better system resorces utilization \\n ==activeCount use to how many active thread are present it write as threading.activeCount()\\n ==currentThread it refer to current thread It is often used to retrieve information about the thread in which\\n the current code is being executed\\n ==enumeration It returns a list of all the currently alive Thread objects. This includes both daemon (low priority)and \\n non-daemon threads(high priority), and threads that have not yet started.\\n '"
      ]
     },
     "execution_count": 3,
     "metadata": {},
     "output_type": "execute_result"
    }
   ],
   "source": [
    "\"\"\"Q2.Why threading module used? write the use of the following functions\n",
    "( activeCount\n",
    " currentThread\n",
    " enumerate)\n",
    " \n",
    " Threading model is used to better system resorces utilization \n",
    " ==activeCount use to how many active thread are present it write as threading.activeCount()\n",
    " ==currentThread it refer to current thread It is often used to retrieve information about the thread in which\n",
    " the current code is being executed\n",
    " ==enumeration It returns a list of all the currently alive Thread objects. This includes both daemon (low priority)and \n",
    " non-daemon threads(high priority), and threads that have not yet started.\n",
    " \"\"\""
   ]
  },
  {
   "cell_type": "code",
   "execution_count": 4,
   "id": "62954110-ea3c-4e79-b113-ac3e0c9a818f",
   "metadata": {},
   "outputs": [
    {
     "data": {
      "text/plain": [
       "'3. Explain the following functions\\n( run\\n start\\n join\\n\\' isAlive)\\nrun: Thread object is created is by run()\\nstart:is called, it returns immediately and the thread becomes one of the active threads in the program.\\njoin:blocks the calling thread until the thread it\\'s called on is complete. If a timeout is provided, \\nit waits for the specified time, and then continues execution whether the thread has finished or not.\\nAlive: This method returns a boolean value indicating whether the thread is still alive. \"Alive\" means\\nthat the thread is started and not yet finished.'"
      ]
     },
     "execution_count": 4,
     "metadata": {},
     "output_type": "execute_result"
    }
   ],
   "source": [
    "\"\"\"3. Explain the following functions\n",
    "( run\n",
    " start\n",
    " join\n",
    "' isAlive)\n",
    "run: Thread object is created is by run()\n",
    "start:is called, it returns immediately and the thread becomes one of the active threads in the program.\n",
    "join:blocks the calling thread until the thread it's called on is complete. If a timeout is provided, \n",
    "it waits for the specified time, and then continues execution whether the thread has finished or not.\n",
    "Alive: This method returns a boolean value indicating whether the thread is still alive. \"Alive\" means\n",
    "that the thread is started and not yet finished.\"\"\"\n"
   ]
  },
  {
   "cell_type": "code",
   "execution_count": 7,
   "id": "6a7c611f-925d-48ac-831a-99f202ef52a4",
   "metadata": {},
   "outputs": [],
   "source": [
    "#Q4. write a python program to create two threads. Thread one must print the list of squares and thread\n",
    "#two must print the list of cubes\n",
    "import threading \n",
    "def square():\n",
    "    return n**2\n",
    "def cube():\n",
    "    return n**3"
   ]
  },
  {
   "cell_type": "code",
   "execution_count": 9,
   "id": "1de22c5a-98de-44c9-8803-5c5f9141fa85",
   "metadata": {},
   "outputs": [
    {
     "data": {
      "text/plain": [
       "'Advantage\\n1.That we run program in same core \\n2.Parallism: Multithreading enable parallism,which can lead to significant performance improvements in \\n  applications that can be divided into smaller, independent tasks.\\n3.Simplified modeling: Some problems can be more naturally modeled using multiple threads. This makes \\n  the program easier to design, understand, and maintain.\\n \\n  Disadvantage \\n1.Complexity: Multithreading adds complexity to the program, making it more difficult to design, implement,\\n  and debug. Developers need to be aware of synchronization, deadlocks, race conditions, and other \\n  concurrency-related issues.\\n2.Hard to predict behavior: Due to the concurrent nature of multithreading, the behavior of the program can\\n  be hard to predict and reproduce, especially when it comes to debugging.\\n3.Context switching: Context switching between threads consumes CPU time and resources, which can lead to \\n  performance degradation if not managed efficiently. '"
      ]
     },
     "execution_count": 9,
     "metadata": {},
     "output_type": "execute_result"
    }
   ],
   "source": [
    "# Q5. State advantages and disadvantages of multithreading\n",
    "'''Advantage\n",
    "1.That we run program in same core \n",
    "2.Parallism: Multithreading enable parallism,which can lead to significant performance improvements in \n",
    "  applications that can be divided into smaller, independent tasks.\n",
    "3.Simplified modeling: Some problems can be more naturally modeled using multiple threads. This makes \n",
    "  the program easier to design, understand, and maintain.\n",
    " \n",
    "  Disadvantage \n",
    "1.Complexity: Multithreading adds complexity to the program, making it more difficult to design, implement,\n",
    "  and debug. Developers need to be aware of synchronization, deadlocks, race conditions, and other \n",
    "  concurrency-related issues.\n",
    "2.Hard to predict behavior: Due to the concurrent nature of multithreading, the behavior of the program can\n",
    "  be hard to predict and reproduce, especially when it comes to debugging.\n",
    "3.Context switching: Context switching between threads consumes CPU time and resources, which can lead to \n",
    "  performance degradation if not managed efficiently. ''' \n",
    "  "
   ]
  },
  {
   "cell_type": "code",
   "execution_count": 10,
   "id": "fe74e685-639f-40a6-9003-132c116d47f6",
   "metadata": {},
   "outputs": [
    {
     "data": {
      "text/plain": [
       "'Deadlock:A deadlock is a situation in concurrent programming where two or more threads are blocked forever, \\neach waiting for the other to release a resource.\\nRace:A race condition is occure when two thread use same variable at a given time. \\n\\n'"
      ]
     },
     "execution_count": 10,
     "metadata": {},
     "output_type": "execute_result"
    }
   ],
   "source": [
    "# Q6. Explain deadlocks and race conditions.\n",
    "'''Deadlock:A deadlock is a situation in concurrent programming where two or more threads are blocked forever, \n",
    "each waiting for the other to release a resource.\n",
    "Race:A race condition is occure when two thread use same variable at a given time. \n",
    "\n",
    "'''"
   ]
  },
  {
   "cell_type": "code",
   "execution_count": null,
   "id": "30b2115a-bbab-4c3c-967a-cdf02d115962",
   "metadata": {},
   "outputs": [],
   "source": []
  }
 ],
 "metadata": {
  "kernelspec": {
   "display_name": "Python 3 (ipykernel)",
   "language": "python",
   "name": "python3"
  },
  "language_info": {
   "codemirror_mode": {
    "name": "ipython",
    "version": 3
   },
   "file_extension": ".py",
   "mimetype": "text/x-python",
   "name": "python",
   "nbconvert_exporter": "python",
   "pygments_lexer": "ipython3",
   "version": "3.10.8"
  }
 },
 "nbformat": 4,
 "nbformat_minor": 5
}
