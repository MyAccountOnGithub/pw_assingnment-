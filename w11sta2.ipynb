{
 "cells": [
  {
   "cell_type": "code",
   "execution_count": 1,
   "id": "4f58a717-ec04-4558-94d4-53e2f9c36a97",
   "metadata": {},
   "outputs": [
    {
     "data": {
      "text/plain": [
       "'PMF is a used for discrete random variables. A discrete random variable can take on a finite (or countably infinite) number of distinct values.\\nPDF is used for continuous random variables. A continuous random variable can take on an infinite number of values in a continuous range.\\nEx:Example of PDF:\\nConsider the continuous random variable X that has a uniform distribution between 0 and 1. This means that the variable is equally likely to take on \\nany value between 0 and 1. The PDF for this distribution is: \\nif 1 then  0≤x≤1\\n0 otherwise\\n\\nThe probability that X falls between 0.2 and 0.5 is the area under the curve of the PDF from 0.2 to 0.5, which is 0.5−0.2=0.3\\n'"
      ]
     },
     "execution_count": 1,
     "metadata": {},
     "output_type": "execute_result"
    }
   ],
   "source": [
    "# Q1: What are the Probability Mass Function (PMF) and Probability Density Function (PDF)? Explain with an example.\n",
    "'''PMF is a used for discrete random variables. A discrete random variable can take on a finite (or countably infinite) number of distinct values.\n",
    "PDF is used for continuous random variables. A continuous random variable can take on an infinite number of values in a continuous range.\n",
    "Ex:Example of PDF:\n",
    "Consider the continuous random variable X that has a uniform distribution between 0 and 1. This means that the variable is equally likely to take on \n",
    "any value between 0 and 1. The PDF for this distribution is: \n",
    "if 1 then  0≤x≤1\n",
    "0 otherwise\n",
    "\n",
    "The probability that X falls between 0.2 and 0.5 is the area under the curve of the PDF from 0.2 to 0.5, which is 0.5−0.2=0.3\n",
    "'''"
   ]
  },
  {
   "cell_type": "code",
   "execution_count": 2,
   "id": "970c9587-be9a-439d-9b5e-142ed3d4f9f0",
   "metadata": {},
   "outputs": [
    {
     "data": {
      "text/plain": [
       "'The Cumulative Distribution Function (CDF) is a fundamental concept associated with random variables, both discrete and continuous. It describes \\nthe probability that a random variable X will take a value less than or equal to x.\\nExa:\\nCalculation of Probabilities: For continuous random variables, probabilities about intervals can be easily found using the CDF. For example, \\nP(a<X≤b)=F(b)−F(a).\\nTransformations and Comparisons: CDFs are useful in comparing different distributions and in obtaining transformations between random variables.'"
      ]
     },
     "execution_count": 2,
     "metadata": {},
     "output_type": "execute_result"
    }
   ],
   "source": [
    "# Q2: What is Cumulative Density Function (CDF)? Explain with an example. Why CDF is used?\n",
    "'''The Cumulative Distribution Function (CDF) is a fundamental concept associated with random variables, both discrete and continuous. It describes \n",
    "the probability that a random variable X will take a value less than or equal to x.\n",
    "Exa:\n",
    "Calculation of Probabilities: For continuous random variables, probabilities about intervals can be easily found using the CDF. For example, \n",
    "P(a<X≤b)=F(b)−F(a).\n",
    "Transformations and Comparisons: CDFs are useful in comparing different distributions and in obtaining transformations between random variables.'''"
   ]
  },
  {
   "cell_type": "code",
   "execution_count": 3,
   "id": "549c890b-3dac-4763-838f-4057835f043d",
   "metadata": {},
   "outputs": [
    {
     "data": {
      "text/plain": [
       "'Example:weight of student in class \\nThe normal distribution is defined by two parameters: the mean μ and the standard deviation σ.These parameters determine the location and shape of the \\nbell curve\\nMean (μ): This is the central value around which the data is distributed.\\nStandard Deviation (σ): This measures the spread or dispersion of the data. In the normal distribution graph:\\n\\nAbout 68% of the data falls within one standard deviation (μ±σ).\\nAbout 95% falls within two standard deviations (μ±2σ).\\nAbout 99.7% falls within three standard deviations (μ±3σ).'"
      ]
     },
     "execution_count": 3,
     "metadata": {},
     "output_type": "execute_result"
    }
   ],
   "source": [
    "# Q3: What are some examples of situations where the normal distribution might be used as a model?Explain how the parameters of the normal distribution\n",
    "# relate to the shape of the distribution.\n",
    "'''Example:weight of student in class \n",
    "The normal distribution is defined by two parameters: the mean μ and the standard deviation σ.These parameters determine the location and shape of the \n",
    "bell curve\n",
    "Mean (μ): This is the central value around which the data is distributed.\n",
    "Standard Deviation (σ): This measures the spread or dispersion of the data. In the normal distribution graph:\n",
    "\n",
    "About 68% of the data falls within one standard deviation (μ±σ).\n",
    "About 95% falls within two standard deviations (μ±2σ).\n",
    "About 99.7% falls within three standard deviations (μ±3σ).'''"
   ]
  },
  {
   "cell_type": "code",
   "execution_count": 5,
   "id": "3316ffcd-1ebf-4828-94e1-bf8043e5d9f7",
   "metadata": {},
   "outputs": [
    {
     "data": {
      "text/plain": [
       "'The normal distribution, often referred to as the bell curve, is one of the most essential and widely studied distributions in statistics\\nand applied mathematics. Its importance arises from both its mathematical properties and its relevance to real-world phenomena. \\nReal life Exa:\\nMany biological measurements, such as blood pressure, cholesterol levels, or body temperature, in a large population tend to be distributed\\nnormally, given a sufficiently large sample also used in n many regression models, the residuals (or errors) are assumed to be normally distributed,\\nwhich is a critical assumption when performing hypothesis testing.'"
      ]
     },
     "execution_count": 5,
     "metadata": {},
     "output_type": "execute_result"
    }
   ],
   "source": [
    "# Q4: Explain the importance of Normal Distribution. Give a few real-life examples of Normal Distribution.\n",
    "'''The normal distribution, often referred to as the bell curve, is one of the most essential and widely studied distributions in statistics\n",
    "and applied mathematics. Its importance arises from both its mathematical properties and its relevance to real-world phenomena. \n",
    "Real life Exa:\n",
    "Many biological measurements, such as blood pressure, cholesterol levels, or body temperature, in a large population tend to be distributed\n",
    "normally, given a sufficiently large sample also used in n many regression models, the residuals (or errors) are assumed to be normally distributed,\n",
    "which is a critical assumption when performing hypothesis testing.''' "
   ]
  },
  {
   "cell_type": "code",
   "execution_count": 6,
   "id": "3b187480-49fe-4d88-9527-4129a79d308a",
   "metadata": {},
   "outputs": [
    {
     "data": {
      "text/plain": [
       "'The Bernoulli distribution is one of the simplest forms of a discrete probability distribution. It represents an experiment where there are only\\ntwo possible outcomes: a success (often represented by 1) and a failure (often represented by 0)\\n*Example of Bernoulli Distribution:**\\nConsider a single flip of a biased coin where the probability of landing heads (success) is 0.7 and tails (failure) is 0.3. If we denote \"Head\" as 1 and \"Tail\" as 0, then:\\n\\\\[ P(X=1) = 0.7 \\\\] (probability of getting a head)\\n\\\\[ P(X=0) = 0.3 \\\\] (probability of getting a tail)\\n**Bernoulli Distribution**: Represents the probability distribution for a single trial.\\nCharacterized by a single parameter \\\\( p \\\\) (probability of success).\\n**Binomial Distribution**: Represents the probability distribution for a fixed number of independent Bernoulli trials.\\nCharacterized by two parameters: \\\\( n \\\\) (number of trials) and \\\\( p \\\\) (probability of success on a given trial).'"
      ]
     },
     "execution_count": 6,
     "metadata": {},
     "output_type": "execute_result"
    }
   ],
   "source": [
    "# Q5: What is Bernaulli Distribution? Give an Example. What is the difference between Bernoulli Distribution and Binomial Distribution?\n",
    "'''The Bernoulli distribution is one of the simplest forms of a discrete probability distribution. It represents an experiment where there are only\n",
    "two possible outcomes: a success (often represented by 1) and a failure (often represented by 0)\n",
    "*Example of Bernoulli Distribution:**\n",
    "Consider a single flip of a biased coin where the probability of landing heads (success) is 0.7 and tails (failure) is 0.3. If we denote \"Head\" as 1 and \"Tail\" as 0, then:\n",
    "\\[ P(X=1) = 0.7 \\] (probability of getting a head)\n",
    "\\[ P(X=0) = 0.3 \\] (probability of getting a tail)\n",
    "**Bernoulli Distribution**: Represents the probability distribution for a single trial.\n",
    "Characterized by a single parameter \\( p \\) (probability of success).\n",
    "**Binomial Distribution**: Represents the probability distribution for a fixed number of independent Bernoulli trials.\n",
    "Characterized by two parameters: \\( n \\) (number of trials) and \\( p \\) (probability of success on a given trial).'''"
   ]
  },
  {
   "cell_type": "code",
   "execution_count": 1,
   "id": "2dff2e06-845d-4837-bf6a-c1176b0bc8f0",
   "metadata": {},
   "outputs": [
    {
     "data": {
      "text/plain": [
       "'To find the probability that a randomly selected observation from a normally distributed dataset is greater than 60, we can use the properties of \\nthe standard normal distribution (also known as the Z-distribution).First, we need to convert the value of 60 into a z-score using the following \\nformula:\\nz= (X−μ)/σ\\nthe standard normal distribution (also known as the Z-distribution).\\nz=60-50/10=1\\nThis means that a score of 60 is 1 standard deviation above the mean.\\nTo find the probability that a randomly selected observation is greater than 60, we need to find the area to the right of z=1 on the standard normal \\ndistribution curve.We refer the standard z table z=1 ia apprximately 0.8413 is the total area under the curve is 1.\\nP(X>60)=1-P(Z<=1)\\n1-0.8413=0.1587\\nSo, the probability that a randomly selected observation from the dataset will be greater than 60 is approximately \\n0.1587 or 15.87%.'"
      ]
     },
     "execution_count": 1,
     "metadata": {},
     "output_type": "execute_result"
    }
   ],
   "source": [
    "# Q6. Consider a dataset with a mean of 50 and a standard deviation of 10. If we assume that the dataset is normally distributed, what is the \n",
    "# probability that a randomly selected observation will be greater than 60? Use the appropriate formula and show your calculations.\n",
    "'''To find the probability that a randomly selected observation from a normally distributed dataset is greater than 60, we can use the properties of \n",
    "the standard normal distribution (also known as the Z-distribution).First, we need to convert the value of 60 into a z-score using the following \n",
    "formula:\n",
    "z= (X−μ)/σ\n",
    "the standard normal distribution (also known as the Z-distribution).\n",
    "z=60-50/10=1\n",
    "This means that a score of 60 is 1 standard deviation above the mean.\n",
    "To find the probability that a randomly selected observation is greater than 60, we need to find the area to the right of z=1 on the standard normal \n",
    "distribution curve.We refer the standard z table z=1 ia apprximately 0.8413 is the total area under the curve is 1.\n",
    "P(X>60)=1-P(Z<=1)\n",
    "1-0.8413=0.1587\n",
    "So, the probability that a randomly selected observation from the dataset will be greater than 60 is approximately \n",
    "0.1587 or 15.87%.'''"
   ]
  },
  {
   "cell_type": "code",
   "execution_count": 2,
   "id": "1a4cb005-9cf1-4f31-a756-35f069e73ab4",
   "metadata": {},
   "outputs": [
    {
     "data": {
      "text/plain": [
       "\"The uniform distribution is a type of probability distribution where all outcomes are equally likely. If you've ever rolled a fair six-sided die,\\nyou've witnessed the uniform distribution in action.\\nThere are two types of uniform distributions: discrete and continuous.\\n1.Discrete Uniform Distribution: When the possible outcomes are discrete (countable) and each one has an equal probability.\\n2.Continuous Uniform Distribution: When the possible outcomes are continuous (uncountable) and any individual probability is zero, but the probability\\nover any interval is proportional to the length of that interval.\""
      ]
     },
     "execution_count": 2,
     "metadata": {},
     "output_type": "execute_result"
    }
   ],
   "source": [
    "# Q7: Explain uniform Distribution with an example.\n",
    "'''The uniform distribution is a type of probability distribution where all outcomes are equally likely. If you've ever rolled a fair six-sided die,\n",
    "you've witnessed the uniform distribution in action.\n",
    "There are two types of uniform distributions: discrete and continuous.\n",
    "1.Discrete Uniform Distribution: When the possible outcomes are discrete (countable) and each one has an equal probability.\n",
    "2.Continuous Uniform Distribution: When the possible outcomes are continuous (uncountable) and any individual probability is zero, but the probability\n",
    "over any interval is proportional to the length of that interval.'''"
   ]
  },
  {
   "cell_type": "code",
   "execution_count": 3,
   "id": "f4c17234-f1f6-46ab-a832-26fbf4008119",
   "metadata": {},
   "outputs": [
    {
     "data": {
      "text/plain": [
       "'The z-score, often referred to as the standard score, measures how many standard deviations away a data point is from the mean of the dataset.\\nImportance:\\nThe z-score allows for the standardization of scores so that they can be compared across\\nComparing to the Normal Distribution: When data follows a normal distribution, the z-score can tell us the probability of observing a certain value.\\nIdentifying Outliers: Data points with z-scores of absolute value greater than 2 or 3 (a common threshold, though the exact value can vary based on \\nthe context) can be considered unusual or outliers. This can be helpful in quality control or error detection.\\nCentral Limit Theorem: Z-scores are instrumental in inferential statistics, especially when employing the Central Limit Theorem. This theorem states\\nthat the sampling distribution of the sample mean approaches a normal distribution, regardless of the population distribution, as the sample size\\nincreases. Thus, z-scores can be used to make inferences about population parameters from sample data.'"
      ]
     },
     "execution_count": 3,
     "metadata": {},
     "output_type": "execute_result"
    }
   ],
   "source": [
    "# Q8: What is the z score? State the importance of the z score.\n",
    "'''The z-score, often referred to as the standard score, measures how many standard deviations away a data point is from the mean of the dataset.\n",
    "Importance:\n",
    "The z-score allows for the standardization of scores so that they can be compared across\n",
    "Comparing to the Normal Distribution: When data follows a normal distribution, the z-score can tell us the probability of observing a certain value.\n",
    "Identifying Outliers: Data points with z-scores of absolute value greater than 2 or 3 (a common threshold, though the exact value can vary based on \n",
    "the context) can be considered unusual or outliers. This can be helpful in quality control or error detection.\n",
    "Central Limit Theorem: Z-scores are instrumental in inferential statistics, especially when employing the Central Limit Theorem. This theorem states\n",
    "that the sampling distribution of the sample mean approaches a normal distribution, regardless of the population distribution, as the sample size\n",
    "increases. Thus, z-scores can be used to make inferences about population parameters from sample data.'''"
   ]
  },
  {
   "cell_type": "code",
   "execution_count": 1,
   "id": "d5c072e3-2976-4668-94cc-af2006b94b0b",
   "metadata": {},
   "outputs": [
    {
     "data": {
      "text/plain": [
       "'For a population with any shape of distribution (whether normal or non-normal) with a known mean μ and a known standard deviation σ, the sampling \\ndistribution of the sample mean will approach a normal distribution as the sample size n increases. This holds true especially when the sample size \\nn is large.\\nIn more straightforward terms, if you were to repeatedly draw large samples from a population (no matter what the distribution of that population \\nlooks like) and calculate their averages, the distribution of those sample averages would be approximately normally distributed.'"
      ]
     },
     "execution_count": 1,
     "metadata": {},
     "output_type": "execute_result"
    }
   ],
   "source": [
    "# Q9: What is Central Limit Theorem? State the significance of the Central Limit Theorem.\n",
    "'''For a population with any shape of distribution (whether normal or non-normal) with a known mean μ and a known standard deviation σ, the sampling \n",
    "distribution of the sample mean will approach a normal distribution as the sample size n increases. This holds true especially when the sample size \n",
    "n is large.\n",
    "In more straightforward terms, if you were to repeatedly draw large samples from a population (no matter what the distribution of that population \n",
    "looks like) and calculate their averages, the distribution of those sample averages would be approximately normally distributed.'''"
   ]
  },
  {
   "cell_type": "code",
   "execution_count": 2,
   "id": "c9d01d05-a910-4a88-8d8d-07cace113956",
   "metadata": {},
   "outputs": [
    {
     "data": {
      "text/plain": [
       "'Random Sampling: Samples must be drawn randomly from the population.\\nSample Size: For non-normally distributed populations, the sample size should typically be at least 30 (n ≥ 30).\\nIndependence: Observations within a sample should be independent. If sampling without replacement, the sample size shouldn\\'t exceed 10% of the \\npopulation (the \"10% rule\").Population Distribution: The more the population\\'s distribution deviates from normality, the larger the required sample \\nsize for the CLT to apply effectively.'"
      ]
     },
     "execution_count": 2,
     "metadata": {},
     "output_type": "execute_result"
    }
   ],
   "source": [
    "# Q10: State the assumptions of the Central Limit Theorem.\n",
    "'''Random Sampling: Samples must be drawn randomly from the population.\n",
    "Sample Size: For non-normally distributed populations, the sample size should typically be at least 30 (n ≥ 30).\n",
    "Independence: Observations within a sample should be independent. If sampling without replacement, the sample size shouldn't exceed 10% of the \n",
    "population (the \"10% rule\").Population Distribution: The more the population's distribution deviates from normality, the larger the required sample \n",
    "size for the CLT to apply effectively.'''\n"
   ]
  },
  {
   "cell_type": "code",
   "execution_count": null,
   "id": "d03759e7-70da-466b-b1ee-0ba916097dfa",
   "metadata": {},
   "outputs": [],
   "source": []
  }
 ],
 "metadata": {
  "kernelspec": {
   "display_name": "Python 3 (ipykernel)",
   "language": "python",
   "name": "python3"
  },
  "language_info": {
   "codemirror_mode": {
    "name": "ipython",
    "version": 3
   },
   "file_extension": ".py",
   "mimetype": "text/x-python",
   "name": "python",
   "nbconvert_exporter": "python",
   "pygments_lexer": "ipython3",
   "version": "3.10.8"
  }
 },
 "nbformat": 4,
 "nbformat_minor": 5
}
