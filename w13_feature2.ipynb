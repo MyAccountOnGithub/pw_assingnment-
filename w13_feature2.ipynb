{
 "cells": [
  {
   "cell_type": "code",
   "execution_count": 1,
   "id": "40555b4a-af53-44aa-9f75-6069c24c7410",
   "metadata": {},
   "outputs": [
    {
     "data": {
      "text/plain": [
       "'Min-Max scaling, also known as normalization, is a data preprocessing technique used to rescale the features of your dataset to a fixed range, \\ntypically [0, 1]. This method ensures that all features contribute equally to the model, preventing features with larger numerical ranges from \\ndominating those with smaller numerical ranges. It is particularly useful when the features have different units or magnitudes.'"
      ]
     },
     "execution_count": 1,
     "metadata": {},
     "output_type": "execute_result"
    }
   ],
   "source": [
    "# Q1. What is Min-Max scaling, and how is it used in data preprocessing? Provide an example to illustrate its application.\n",
    "'''Min-Max scaling, also known as normalization, is a data preprocessing technique used to rescale the features of your dataset to a fixed range, \n",
    "typically [0, 1]. This method ensures that all features contribute equally to the model, preventing features with larger numerical ranges from \n",
    "dominating those with smaller numerical ranges. It is particularly useful when the features have different units or magnitudes.'''"
   ]
  },
  {
   "cell_type": "code",
   "execution_count": 2,
   "id": "7b6cec7e-bf06-4d17-bbf9-bbe17f83961c",
   "metadata": {},
   "outputs": [
    {
     "data": {
      "text/plain": [
       "'The Unit Vector technique, also known as normalization to unit length or vector normalization, scales the features of a dataset so that the Euclidean\\nnorm (L2 norm) of each sample (row) equals 1. This technique is particularly useful when the direction of the data points is more important than their\\nmagnitude, as it transforms the data to lie on the surface of a unit hypersphere.\\n\\nBenefits of Unit Vector Scaling\\nEqual Contribution: Ensures that all features contribute equally to the distance calculations, which is crucial for distance-based algorithms like KNN and SVM.\\nDirection Preservation: Maintains the direction of the data points, making it useful for algorithms sensitive to the direction rather than the magnitude of the\\ndata points.'"
      ]
     },
     "execution_count": 2,
     "metadata": {},
     "output_type": "execute_result"
    }
   ],
   "source": [
    "#Q2. What is the Unit Vector technique in feature scaling, and how does it differ from Min-Max scaling?Provide an example to illustrate its application.\n",
    "'''The Unit Vector technique, also known as normalization to unit length or vector normalization, scales the features of a dataset so that the Euclidean\n",
    "norm (L2 norm) of each sample (row) equals 1. This technique is particularly useful when the direction of the data points is more important than their\n",
    "magnitude, as it transforms the data to lie on the surface of a unit hypersphere.\n",
    "\n",
    "Benefits of Unit Vector Scaling\n",
    "Equal Contribution: Ensures that all features contribute equally to the distance calculations, which is crucial for distance-based algorithms like KNN and SVM.\n",
    "Direction Preservation: Maintains the direction of the data points, making it useful for algorithms sensitive to the direction rather than the magnitude of the\n",
    "data points.'''"
   ]
  },
  {
   "cell_type": "code",
   "execution_count": 3,
   "id": "1d525270-08cd-4621-837f-d5caf8f7f862",
   "metadata": {},
   "outputs": [
    {
     "data": {
      "text/plain": [
       "'How PCA Works\\nStandardize the Data: Standardize the dataset to have a mean of 0 and a standard deviation of 1 for each feature.\\nCompute the Covariance Matrix: Calculate the covariance matrix to understand how the variables in the dataset are varying from the mean with respect to each other.\\nCompute Eigenvalues and Eigenvectors: Calculate the eigenvalues and eigenvectors of the covariance matrix to identify the principal components.\\nSort Eigenvalues and Select Principal Components: Sort the eigenvalues in descending order and select the top k eigenvectors that correspond to the largest eigenvalues. These eigenvectors form the new basis for the transformed dataset.\\nTransform the Data: Project the original data onto the new basis (principal components) to obtain the reduced-dimensionality data.\\n\\nIts plot\\nOriginal Data Plot: Displays the data points in the original 2D feature space.\\nPrincipal Component Plot: Displays the data points projected onto the principal component, showing the reduced-dimensionality representation'"
      ]
     },
     "execution_count": 3,
     "metadata": {},
     "output_type": "execute_result"
    }
   ],
   "source": [
    "#Q3. What is PCA (Principle Component Analysis), and how is it used in dimensionality reduction? Provide an example to illustrate its application.\n",
    "'''How PCA Works\n",
    "Standardize the Data: Standardize the dataset to have a mean of 0 and a standard deviation of 1 for each feature.\n",
    "Compute the Covariance Matrix: Calculate the covariance matrix to understand how the variables in the dataset are varying from the mean with respect to each other.\n",
    "Compute Eigenvalues and Eigenvectors: Calculate the eigenvalues and eigenvectors of the covariance matrix to identify the principal components.\n",
    "Sort Eigenvalues and Select Principal Components: Sort the eigenvalues in descending order and select the top k eigenvectors that correspond to the largest eigenvalues. These eigenvectors form the new basis for the transformed dataset.\n",
    "Transform the Data: Project the original data onto the new basis (principal components) to obtain the reduced-dimensionality data.\n",
    "\n",
    "Its plot\n",
    "Original Data Plot: Displays the data points in the original 2D feature space.\n",
    "Principal Component Plot: Displays the data points projected onto the principal component, showing the reduced-dimensionality representation'''"
   ]
  },
  {
   "cell_type": "code",
   "execution_count": 1,
   "id": "7b0c7f8d-d691-46da-bc6c-33847183b03e",
   "metadata": {},
   "outputs": [
    {
     "data": {
      "text/plain": [
       "'Principal Component Analysis (PCA) and feature extraction are closely related concepts in data preprocessing and dimensionality\\nreduction. Feature extraction involves transforming the original features into a new set of features that are more informative and useful \\nfor the analysis. PCA is one of the most popular techniques for feature extraction because it creates new features (principal components) \\nthat capture the most variance in the data.\\n\\nRealationship between the PCA and feature engineering\\nFeature Extraction: The process of creating new features from the original dataset that represent the data more effectively.\\nPCA as Feature Extraction: PCA transforms the original features into a new set of orthogonal features (principal components). These \\ncomponents are linear combinations of the original features and are ordered by the amount of variance they capture from the data.\\n\\nPCA helps in feature extraction by:\\n\\nReducing Dimensionality: By selecting the top k principal components, PCA reduces the number of features, making the dataset easier to analyze and visualize.\\nRemoving Redundancy: Principal components are uncorrelated, which eliminates redundancy present in the original correlated features.\\nImproving Performance: With fewer, uncorrelated features, models can train faster and potentially perform better, especially when the original dataset has noisy or irrelevant features.'"
      ]
     },
     "execution_count": 1,
     "metadata": {},
     "output_type": "execute_result"
    }
   ],
   "source": [
    "#Q4. What is the relationship between PCA and Feature Extraction, and how can PCA be used for Feature Extraction? Provide an example to\n",
    "#illustrate this concept.\n",
    "'''Principal Component Analysis (PCA) and feature extraction are closely related concepts in data preprocessing and dimensionality\n",
    "reduction. Feature extraction involves transforming the original features into a new set of features that are more informative and useful \n",
    "for the analysis. PCA is one of the most popular techniques for feature extraction because it creates new features (principal components) \n",
    "that capture the most variance in the data.\n",
    "\n",
    "Realationship between the PCA and feature engineering\n",
    "Feature Extraction: The process of creating new features from the original dataset that represent the data more effectively.\n",
    "PCA as Feature Extraction: PCA transforms the original features into a new set of orthogonal features (principal components). These \n",
    "components are linear combinations of the original features and are ordered by the amount of variance they capture from the data.\n",
    "\n",
    "PCA helps in feature extraction by:\n",
    "\n",
    "Reducing Dimensionality: By selecting the top k principal components, PCA reduces the number of features, making the dataset easier to analyze and visualize.\n",
    "Removing Redundancy: Principal components are uncorrelated, which eliminates redundancy present in the original correlated features.\n",
    "Improving Performance: With fewer, uncorrelated features, models can train faster and potentially perform better, especially when the original dataset has noisy or irrelevant features.'''"
   ]
  },
  {
   "cell_type": "code",
   "execution_count": 2,
   "id": "6f26f637-aa84-44f4-9d89-f912f0953dba",
   "metadata": {},
   "outputs": [
    {
     "data": {
      "text/plain": [
       "'Min-Max scaling, also known as normalization, is a technique used to rescale the features of a dataset so that they fall within a specific range,\\ntypically [0, 1].\\n1.Understand the Dataset\\n2.Formulate the Min-Max Scaling Equation\\nX scaled = X−X min/X max−X min\\n3.Steps to Implement Min-Max Scaling\\na. Calculate the Minimum and Maximum Values\\nb. Apply the Scaling Formula\\nc. Update the Dataset'"
      ]
     },
     "execution_count": 2,
     "metadata": {},
     "output_type": "execute_result"
    }
   ],
   "source": [
    "#Q5. You are working on a project to build a recommendation system for a food delivery service. The dataset contains features such as price,\n",
    "#rating, and delivery time. Explain how you would use Min-Max scaling to preprocess the data.\n",
    "'''Min-Max scaling, also known as normalization, is a technique used to rescale the features of a dataset so that they fall within a specific range,\n",
    "typically [0, 1].\n",
    "1.Understand the Dataset\n",
    "2.Formulate the Min-Max Scaling Equation\n",
    "X scaled = X−X min/X max−X min\n",
    "3.Steps to Implement Min-Max Scaling\n",
    "a. Calculate the Minimum and Maximum Values\n",
    "b. Apply the Scaling Formula\n",
    "c. Update the Dataset'''\n",
    "\n",
    "\n"
   ]
  },
  {
   "cell_type": "code",
   "execution_count": 3,
   "id": "5d857c4b-f291-45f0-ad85-3365f316c7e8",
   "metadata": {},
   "outputs": [
    {
     "data": {
      "text/plain": [
       "'Steps to Apply PCA\\n1.Standardize the Data:\\nUse StandardScaler from sklearn.preprocessing for standardization.\\n2.Compute the Covariance Matrix:\\nThe covariance matrix captures the relationship between different features.\\nThis matrix is used to understand how the variables in the dataset vary with respect to each other.\\n3.Compute Eigenvectors and Eigenvalues:\\nEigenvectors and eigenvalues of the covariance matrix are computed to identify the principal components.\\nEigenvalues determine the magnitude of the variance captured by each principal component.\\nEigenvectors determine the direction of the principal component\\n4.Sort Eigenvalues and Select Principal Components:\\nSort the eigenvalues in descending order to identify the most significant principal components.\\n5.Transform the Data:\\nUse the selected eigenvectors to transform the original dataset into a new dataset with reduced dimensions.'"
      ]
     },
     "execution_count": 3,
     "metadata": {},
     "output_type": "execute_result"
    }
   ],
   "source": [
    "#Q6. You are working on a project to build a model to predict stock prices. The dataset contains many features, such as company financial data and \n",
    "# market trends. Explain how you would use PCA to reduce the dimensionality of the dataset.\n",
    "'''Steps to Apply PCA\n",
    "1.Standardize the Data:\n",
    "Use StandardScaler from sklearn.preprocessing for standardization.\n",
    "2.Compute the Covariance Matrix:\n",
    "The covariance matrix captures the relationship between different features.\n",
    "This matrix is used to understand how the variables in the dataset vary with respect to each other.\n",
    "3.Compute Eigenvectors and Eigenvalues:\n",
    "Eigenvectors and eigenvalues of the covariance matrix are computed to identify the principal components.\n",
    "Eigenvalues determine the magnitude of the variance captured by each principal component.\n",
    "Eigenvectors determine the direction of the principal component\n",
    "4.Sort Eigenvalues and Select Principal Components:\n",
    "Sort the eigenvalues in descending order to identify the most significant principal components.\n",
    "5.Transform the Data:\n",
    "Use the selected eigenvectors to transform the original dataset into a new dataset with reduced dimensions.'''"
   ]
  },
  {
   "cell_type": "code",
   "execution_count": 4,
   "id": "0ef5d46b-900b-4f16-93c4-36c959f4d57d",
   "metadata": {},
   "outputs": [
    {
     "data": {
      "text/plain": [
       "'X scaled=( X−X min/X max−X min)×(max scaled−min scaled)+min scaled\\nin these case max scaled value is 1 and min scaled value is -1\\n\\nx scaled=X-1/19*1\\nso the , the scaled dataset is:\\n[−1,−0.579,−0.053,0.474,1]'"
      ]
     },
     "execution_count": 4,
     "metadata": {},
     "output_type": "execute_result"
    }
   ],
   "source": [
    "#Q7. For a dataset containing the following values: [1, 5, 10, 15, 20], perform Min-Max scaling to transform the values to a range of -1 to 1.\n",
    "'''X scaled=( X−X min/X max−X min)×(max scaled−min scaled)+min scaled\n",
    "in these case max scaled value is 1 and min scaled value is -1\n",
    "\n",
    "x scaled=X-1/19*1\n",
    "so the , the scaled dataset is:\n",
    "[−1,−0.579,−0.053,0.474,1]'''"
   ]
  },
  {
   "cell_type": "code",
   "execution_count": 7,
   "id": "4fe6cf60-0966-404a-99a8-8f295cbc1f48",
   "metadata": {},
   "outputs": [
    {
     "data": {
      "image/png": "[encoded data removed]",
      "text/plain": [
       "<Figure size 800x500 with 1 Axes>"
      ]
     },
     "metadata": {},
     "output_type": "display_data"
    },
    {
     "name": "stdout",
     "output_type": "stream",
     "text": [
      "Number of principal components to retain: 2\n"
     ]
    }
   ],
   "source": [
    "#Q8. For a dataset containing the following features: [height, weight, age, gender, blood pressure], perform Feature Extraction using PCA. How many \n",
    "#principal components would you choose to retain, and why?\n",
    "'''we apply the PCA technique'''\n",
    "import numpy as np\n",
    "import pandas as pd\n",
    "from sklearn.preprocessing import StandardScaler\n",
    "from sklearn.decomposition import PCA\n",
    "import matplotlib.pyplot as plt\n",
    "\n",
    "# Example dataset\n",
    "data = {\n",
    "    'height': [170, 160, 180, 175, 165],\n",
    "    'weight': [70, 60, 80, 75, 65],\n",
    "    'age': [30, 25, 35, 40, 20],\n",
    "    'gender': [0, 1, 0, 1, 0],  # 0: male, 1: female\n",
    "    'blood_pressure': [120, 110, 130, 140, 115]\n",
    "}\n",
    "\n",
    "df = pd.DataFrame(data)\n",
    "\n",
    "# Step 1: Standardize the data\n",
    "scaler = StandardScaler()\n",
    "scaled_data = scaler.fit_transform(df)\n",
    "\n",
    "# Step 2: Apply PCA\n",
    "pca = PCA()\n",
    "pca.fit(scaled_data)\n",
    "\n",
    "# Step 3: Determine the number of components to retain\n",
    "explained_variance = pca.explained_variance_ratio_\n",
    "cumulative_explained_variance = explained_variance.cumsum()\n",
    "\n",
    "# Plot the cumulative explained variance\n",
    "plt.figure(figsize=(8, 5))\n",
    "plt.plot(range(1, len(cumulative_explained_variance) + 1), cumulative_explained_variance, marker='o')\n",
    "plt.title('Cumulative Explained Variance by Principal Components')\n",
    "plt.xlabel('Number of Principal Components')\n",
    "plt.ylabel('Cumulative Explained Variance')\n",
    "plt.grid(True)\n",
    "plt.show()\n",
    "\n",
    "# Determine the number of components to retain\n",
    "n_components = np.argmax(cumulative_explained_variance >= 0.95) + 1\n",
    "print(f\"Number of principal components to retain: {n_components}\")\n"
   ]
  },
  {
   "cell_type": "code",
   "execution_count": 8,
   "id": "a2fd7d25-957e-4342-abbe-3de37c313a67",
   "metadata": {},
   "outputs": [
    {
     "data": {
      "text/plain": [
       "'If the cumulative explained variance plot indicates that retaining 2 principal components explains a significant amount of the variance in the \\ndata (e.g., 95%), it means that you can reduce your dataset from 5 original features (height, weight, age, gender, blood pressure) to 2 principal \\ncomponents. These 2 principal components capture most of the important information in the dataset.\\n'"
      ]
     },
     "execution_count": 8,
     "metadata": {},
     "output_type": "execute_result"
    }
   ],
   "source": [
    "'''If the cumulative explained variance plot indicates that retaining 2 principal components explains a significant amount of the variance in the \n",
    "data (e.g., 95%), it means that you can reduce your dataset from 5 original features (height, weight, age, gender, blood pressure) to 2 principal \n",
    "components. These 2 principal components capture most of the important information in the dataset.\n",
    "'''"
   ]
  },
  {
   "cell_type": "code",
   "execution_count": null,
   "id": "2df54298-1a6e-4e71-a404-9921fb4f576d",
   "metadata": {},
   "outputs": [],
   "source": []
  }
 ],
 "metadata": {
  "kernelspec": {
   "display_name": "Python 3 (ipykernel)",
   "language": "python",
   "name": "python3"
  },
  "language_info": {
   "codemirror_mode": {
    "name": "ipython",
    "version": 3
   },
   "file_extension": ".py",
   "mimetype": "text/x-python",
   "name": "python",
   "nbconvert_exporter": "python",
   "pygments_lexer": "ipython3",
   "version": "3.10.8"
  }
 },
 "nbformat": 4,
 "nbformat_minor": 5
}
