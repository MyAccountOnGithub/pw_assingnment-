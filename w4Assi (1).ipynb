{
 "cells": [
  {
   "cell_type": "code",
   "execution_count": 1,
   "id": "4af85c4d-a0e1-4b81-b18c-b012b99b4dab",
   "metadata": {},
   "outputs": [],
   "source": [
    "#Q1. Create a vehicle class with an init method having instance variables as name_of_vehicle, max_speed\n",
    "#and average_of_vehicle.\n",
    "\n",
    "class vehicle:\n",
    "    def __init__(self,name,speed,avg):\n",
    "        self.name=name\n",
    "        self.speed=speed\n",
    "        self.avg=avg\n",
    "    def show():\n",
    "        return self.name,self.speed,self.avg"
   ]
  },
  {
   "cell_type": "code",
   "execution_count": 2,
   "id": "4e3237a0-dbc8-4eac-83ec-7874433aca56",
   "metadata": {},
   "outputs": [],
   "source": [
    "v=vehicle(\"thar\",100,30)"
   ]
  },
  {
   "cell_type": "code",
   "execution_count": 3,
   "id": "27ca42a0-030e-48ea-9faf-44368a9d2a4e",
   "metadata": {},
   "outputs": [
    {
     "data": {
      "text/plain": [
       "'thar'"
      ]
     },
     "execution_count": 3,
     "metadata": {},
     "output_type": "execute_result"
    }
   ],
   "source": [
    "v.name"
   ]
  },
  {
   "cell_type": "code",
   "execution_count": 4,
   "id": "68b6a9a6-782c-43e7-8db0-1ea0b67c4b8d",
   "metadata": {},
   "outputs": [
    {
     "data": {
      "text/plain": [
       "100"
      ]
     },
     "execution_count": 4,
     "metadata": {},
     "output_type": "execute_result"
    }
   ],
   "source": [
    "v.speed"
   ]
  },
  {
   "cell_type": "code",
   "execution_count": 5,
   "id": "4975c428-03dc-4750-b794-025e841a5619",
   "metadata": {},
   "outputs": [
    {
     "data": {
      "text/plain": [
       "30"
      ]
     },
     "execution_count": 5,
     "metadata": {},
     "output_type": "execute_result"
    }
   ],
   "source": [
    "v.avg"
   ]
  },
  {
   "cell_type": "code",
   "execution_count": 6,
   "id": "975d36ef-ac34-416c-9bcd-b2fbdd445dda",
   "metadata": {},
   "outputs": [],
   "source": [
    "# Q2. Create a child class car from the vehicle class created in Que 1, which will inherit the vehicle class.\n",
    "# Create a method named seating_capacity which takes capacity as an argument and returns the name of\n",
    "# the vehicle and its seating capacity.\n",
    "\n",
    "class car(vehicle):\n",
    "    def seating_capacity(self,capacity):\n",
    "        self.capacity=capacity\n",
    "        return capacity,self.name \n",
    "v=vehicle(\"thar\",100,9)    \n",
    "c=car(\"sedan\",140,4)"
   ]
  },
  {
   "cell_type": "code",
   "execution_count": 7,
   "id": "592af3da-f291-4fd8-8e55-dd3bc7ede258",
   "metadata": {},
   "outputs": [
    {
     "data": {
      "text/plain": [
       "(4, 'sedan')"
      ]
     },
     "execution_count": 7,
     "metadata": {},
     "output_type": "execute_result"
    }
   ],
   "source": [
    "c.seating_capacity(4)\n"
   ]
  },
  {
   "cell_type": "code",
   "execution_count": 11,
   "id": "736ad76c-80ea-4ea8-a392-281af82ba8c9",
   "metadata": {},
   "outputs": [],
   "source": [
    "# Q3. What is multiple inheritance? Write a python code to demonstrate multiple inheritance.\n",
    "\"Multiple inheritance means the 1 class is inherit from 2 class \"\n",
    "class A:\n",
    "    def test(a):\n",
    "        return \"A class is call\"\n",
    "    \n",
    "class B:\n",
    "    def test1(self):\n",
    "        return \"B class is call\"\n",
    "    \n",
    "class C(A,B):\n",
    "    def test2(self):\n",
    "        pass\n",
    "    \n",
    "c=C()    \n",
    "    "
   ]
  },
  {
   "cell_type": "code",
   "execution_count": 13,
   "id": "2e0ecae1-395a-43c3-b941-05e421b290d4",
   "metadata": {},
   "outputs": [
    {
     "data": {
      "text/plain": [
       "'B class is call'"
      ]
     },
     "execution_count": 13,
     "metadata": {},
     "output_type": "execute_result"
    }
   ],
   "source": [
    "c.test1()"
   ]
  },
  {
   "cell_type": "code",
   "execution_count": 14,
   "id": "33c4eda8-9583-4a14-b869-eeda23a1f65c",
   "metadata": {},
   "outputs": [
    {
     "data": {
      "text/plain": [
       "'A class is call'"
      ]
     },
     "execution_count": 14,
     "metadata": {},
     "output_type": "execute_result"
    }
   ],
   "source": [
    "c.test()"
   ]
  },
  {
   "cell_type": "code",
   "execution_count": 16,
   "id": "e9c0c2aa-ebe7-491c-80e2-050b0d76731f",
   "metadata": {},
   "outputs": [],
   "source": [
    "c.test2()"
   ]
  },
  {
   "cell_type": "code",
   "execution_count": 15,
   "id": "dfb3f388-8eb4-442c-b8a3-40715ec50858",
   "metadata": {},
   "outputs": [],
   "source": [
    "# Q4. What are getter and setter in python? Create a class and create a getter and a setter method in this\n",
    "# class.\n",
    "'''Getter and Setter are used to access and modify the attributes of class.They encapsulate the data Getter is used to get the data and Setter is used to set the data '''\n",
    "\n",
    "class car:\n",
    "    def __init__(self,year,model,speed):\n",
    "        self.__year=year\n",
    "        self.__model=model\n",
    "        self.__speed=speed\n",
    "        \n",
    "    def set_speed(self,speed): \n",
    "        self.speed=0 if speed<0 else speed\n",
    "        \n",
    "    def get_speed(self):\n",
    "        return self.__speed"
   ]
  },
  {
   "cell_type": "code",
   "execution_count": 16,
   "id": "44d8996e-a7bf-4127-9877-6bde04d16c67",
   "metadata": {},
   "outputs": [],
   "source": [
    "c=car(2023,\"xyz\",50)"
   ]
  },
  {
   "cell_type": "code",
   "execution_count": 19,
   "id": "c5f54fb6-d0c5-47c0-af1f-9afdce764182",
   "metadata": {},
   "outputs": [
    {
     "name": "stdout",
     "output_type": "stream",
     "text": [
      "50\n"
     ]
    }
   ],
   "source": [
    "print(c._car__speed)"
   ]
  },
  {
   "cell_type": "code",
   "execution_count": 5,
   "id": "3ca27978-b4cc-48e5-a5e8-5e54696e87c6",
   "metadata": {},
   "outputs": [],
   "source": [
    "# Q5.What is method overriding in python? Write a python code to demonstrate method overriding.\n",
    "'''It use in inheritance ,In 2 classes their are function having same name and same parameter it acesses by creating object of its class.'''\n",
    "\n",
    "class Vehicle():\n",
    "    def __init__(self,name):\n",
    "        self.name=name\n",
    "        \n",
    "    def start(self):\n",
    "        return \"Vehicle is start\"\n",
    "    def stop(self):\n",
    "        return \"Vehicle is stop\"\n",
    "    \n",
    "class Car(Vehicle): \n",
    "    def start(self):\n",
    "        return \"Car is start\"\n",
    "    def stop(self):\n",
    "        return \"Car is stop\"\n",
    "        "
   ]
  },
  {
   "cell_type": "code",
   "execution_count": 7,
   "id": "96b7cc2c-c372-459c-aa52-5c422434c6e4",
   "metadata": {},
   "outputs": [
    {
     "data": {
      "text/plain": [
       "'Vehicle is start'"
      ]
     },
     "execution_count": 7,
     "metadata": {},
     "output_type": "execute_result"
    }
   ],
   "source": [
    "v_obj=Vehicle(\"Bike\")\n",
    "c_obj=Car(\"sport car\")\n",
    "v_obj.start()"
   ]
  },
  {
   "cell_type": "code",
   "execution_count": 8,
   "id": "13dbd378-aee3-4b3b-9cf2-76619f3f3f0a",
   "metadata": {},
   "outputs": [
    {
     "data": {
      "text/plain": [
       "'Vehicle is stop'"
      ]
     },
     "execution_count": 8,
     "metadata": {},
     "output_type": "execute_result"
    }
   ],
   "source": [
    "v_obj.stop()"
   ]
  },
  {
   "cell_type": "code",
   "execution_count": 9,
   "id": "0499c083-1fab-4c01-a097-44bdbf73b359",
   "metadata": {},
   "outputs": [
    {
     "data": {
      "text/plain": [
       "'Car is start'"
      ]
     },
     "execution_count": 9,
     "metadata": {},
     "output_type": "execute_result"
    }
   ],
   "source": [
    "c_obj.start()"
   ]
  },
  {
   "cell_type": "code",
   "execution_count": 10,
   "id": "945d9181-cdc8-4123-9dba-fd880c90cbcc",
   "metadata": {},
   "outputs": [
    {
     "data": {
      "text/plain": [
       "'Car is stop'"
      ]
     },
     "execution_count": 10,
     "metadata": {},
     "output_type": "execute_result"
    }
   ],
   "source": [
    "c_obj.stop()"
   ]
  },
  {
   "cell_type": "code",
   "execution_count": null,
   "id": "7c3e6005-c7e5-4b5a-8add-f9bfc9ab5abc",
   "metadata": {},
   "outputs": [],
   "source": []
  }
 ],
 "metadata": {
  "kernelspec": {
   "display_name": "Python 3 (ipykernel)",
   "language": "python",
   "name": "python3"
  },
  "language_info": {
   "codemirror_mode": {
    "name": "ipython",
    "version": 3
   },
   "file_extension": ".py",
   "mimetype": "text/x-python",
   "name": "python",
   "nbconvert_exporter": "python",
   "pygments_lexer": "ipython3",
   "version": "3.10.8"
  }
 },
 "nbformat": 4,
 "nbformat_minor": 5
}
