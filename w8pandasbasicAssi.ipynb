{
 "cells": [
  {
   "cell_type": "code",
   "execution_count": 2,
   "id": "4fa865a7-25c4-4ec3-bd3e-9468cd3aa6e7",
   "metadata": {},
   "outputs": [],
   "source": [
    "# Q1. Create a Pandas Series that contains the following data: 4, 8, 15, 16, 23, and 42. Then, print the \n",
    "# series.\n",
    "\n",
    "import pandas as pd\n",
    "data=[4,8,15,16,23,42]\n"
   ]
  },
  {
   "cell_type": "code",
   "execution_count": 3,
   "id": "6ea542d3-6473-4e75-a43d-f25fbfd7f315",
   "metadata": {},
   "outputs": [],
   "source": [
    "ser=pd.Series(data)"
   ]
  },
  {
   "cell_type": "code",
   "execution_count": 4,
   "id": "c620c90a-4bad-4de7-bd53-0770f3b1356c",
   "metadata": {},
   "outputs": [
    {
     "name": "stdout",
     "output_type": "stream",
     "text": [
      "0     4\n",
      "1     8\n",
      "2    15\n",
      "3    16\n",
      "4    23\n",
      "5    42\n",
      "dtype: int64\n"
     ]
    }
   ],
   "source": [
    "print(ser)"
   ]
  },
  {
   "cell_type": "code",
   "execution_count": 5,
   "id": "67a6dff2-0c2f-45fb-be51-996e7ce625a5",
   "metadata": {},
   "outputs": [
    {
     "name": "stdout",
     "output_type": "stream",
     "text": [
      "0     1\n",
      "1     2\n",
      "2     3\n",
      "3     4\n",
      "4     5\n",
      "5     6\n",
      "6     7\n",
      "7     8\n",
      "8     9\n",
      "9    10\n",
      "dtype: int64\n"
     ]
    }
   ],
   "source": [
    "# Q2. Create a variable of list type containing 10 elements in it, and apply pandas.Series function on the\n",
    "# variable print it.\n",
    "var=[1,2,3,4,5,6,7,8,9,10]\n",
    "ser1=pd.Series(var)\n",
    "print(ser1)"
   ]
  },
  {
   "cell_type": "code",
   "execution_count": 17,
   "id": "1b5817aa-3690-4b18-a24b-861634bc1b82",
   "metadata": {},
   "outputs": [],
   "source": [
    "# Q3. Create a Pandas DataFrame that contains the following data:\n",
    "'''Name  Age  Gender \n",
    "    Alice 25   Female \n",
    "    Bob   30   Male \n",
    "    Claire   27   Female \n",
    "    Then print the dataframe'''\n",
    "import pandas as pd\n",
    "data1={'Name':['Alice','Bob','Clarie'],'Age':[25,30,27],'Gender':['Female','Male','Female']}\n",
    "df=pd.DataFrame(data1)"
   ]
  },
  {
   "cell_type": "code",
   "execution_count": 18,
   "id": "ceaf7349-b4f8-4aa3-babe-5134df4ec789",
   "metadata": {},
   "outputs": [
    {
     "data": {
      "text/html": [
       "<div>\n",
       "<style scoped>\n",
       "    .dataframe tbody tr th:only-of-type {\n",
       "        vertical-align: middle;\n",
       "    }\n",
       "\n",
       "    .dataframe tbody tr th {\n",
       "        vertical-align: top;\n",
       "    }\n",
       "\n",
       "    .dataframe thead th {\n",
       "        text-align: right;\n",
       "    }\n",
       "</style>\n",
       "<table border=\"1\" class=\"dataframe\">\n",
       "  <thead>\n",
       "    <tr style=\"text-align: right;\">\n",
       "      <th></th>\n",
       "      <th>Name</th>\n",
       "      <th>Age</th>\n",
       "      <th>Gender</th>\n",
       "    </tr>\n",
       "  </thead>\n",
       "  <tbody>\n",
       "    <tr>\n",
       "      <th>0</th>\n",
       "      <td>Alice</td>\n",
       "      <td>25</td>\n",
       "      <td>Female</td>\n",
       "    </tr>\n",
       "    <tr>\n",
       "      <th>1</th>\n",
       "      <td>Bob</td>\n",
       "      <td>30</td>\n",
       "      <td>Male</td>\n",
       "    </tr>\n",
       "    <tr>\n",
       "      <th>2</th>\n",
       "      <td>Clarie</td>\n",
       "      <td>27</td>\n",
       "      <td>Female</td>\n",
       "    </tr>\n",
       "  </tbody>\n",
       "</table>\n",
       "</div>"
      ],
      "text/plain": [
       "     Name  Age  Gender\n",
       "0   Alice   25  Female\n",
       "1     Bob   30    Male\n",
       "2  Clarie   27  Female"
      ]
     },
     "execution_count": 18,
     "metadata": {},
     "output_type": "execute_result"
    }
   ],
   "source": [
    "df"
   ]
  },
  {
   "cell_type": "code",
   "execution_count": 19,
   "id": "bcda1072-5705-405f-87d9-954aa937eab4",
   "metadata": {},
   "outputs": [
    {
     "data": {
      "text/plain": [
       "\" A DataFrame is a 2-dimensional labeled data structure with columns that can be of different types.It as\\nsimilar to a SQL table, or a dictionary of Series objects.\\nSeries: A Series is a 1-dimensional labeled array. It can hold data of any type (integer, string, float, etc.).\\nIt's essentially a single column of data in a DataFrame \""
      ]
     },
     "execution_count": 19,
     "metadata": {},
     "output_type": "execute_result"
    }
   ],
   "source": [
    "# Q4. What is ‘DataFrame’ in pandas and how is it different from pandas.series? Explain with an example.\n",
    "''' A DataFrame is a 2-dimensional labeled data structure with columns that can be of different types.It as\n",
    "similar to a SQL table, or a dictionary of Series objects.\n",
    "Series: A Series is a 1-dimensional labeled array. It can hold data of any type (integer, string, float, etc.).\n",
    "It's essentially a single column of data in a DataFrame '''\n"
   ]
  },
  {
   "cell_type": "code",
   "execution_count": 1,
   "id": "9f97527d-0207-4bea-b476-00291af83864",
   "metadata": {},
   "outputs": [
    {
     "name": "stdout",
     "output_type": "stream",
     "text": [
      "0     5\n",
      "1    54\n",
      "2     6\n",
      "3     3\n",
      "4     2\n",
      "dtype: int64\n"
     ]
    }
   ],
   "source": [
    "import pandas as pd \n",
    "ser=[5,54,6,3,2]\n",
    "d=pd.Series(ser)\n",
    "print(d)"
   ]
  },
  {
   "cell_type": "code",
   "execution_count": 4,
   "id": "6958c6c4-8787-4c09-b1ca-ef298221f5a4",
   "metadata": {},
   "outputs": [
    {
     "data": {
      "text/html": [
       "<div>\n",
       "<style scoped>\n",
       "    .dataframe tbody tr th:only-of-type {\n",
       "        vertical-align: middle;\n",
       "    }\n",
       "\n",
       "    .dataframe tbody tr th {\n",
       "        vertical-align: top;\n",
       "    }\n",
       "\n",
       "    .dataframe thead th {\n",
       "        text-align: right;\n",
       "    }\n",
       "</style>\n",
       "<table border=\"1\" class=\"dataframe\">\n",
       "  <thead>\n",
       "    <tr style=\"text-align: right;\">\n",
       "      <th></th>\n",
       "      <th>Name</th>\n",
       "      <th>Address</th>\n",
       "    </tr>\n",
       "  </thead>\n",
       "  <tbody>\n",
       "    <tr>\n",
       "      <th>0</th>\n",
       "      <td>sakshi</td>\n",
       "      <td>Anturli</td>\n",
       "    </tr>\n",
       "    <tr>\n",
       "      <th>1</th>\n",
       "      <td>priya</td>\n",
       "      <td>naygoan</td>\n",
       "    </tr>\n",
       "    <tr>\n",
       "      <th>2</th>\n",
       "      <td>Riya</td>\n",
       "      <td>Loni</td>\n",
       "    </tr>\n",
       "  </tbody>\n",
       "</table>\n",
       "</div>"
      ],
      "text/plain": [
       "     Name  Address\n",
       "0  sakshi  Anturli\n",
       "1   priya  naygoan\n",
       "2    Riya     Loni"
      ]
     },
     "execution_count": 4,
     "metadata": {},
     "output_type": "execute_result"
    }
   ],
   "source": [
    "df={'Name':['sakshi','priya','Riya'],'Address':['Anturli','naygoan','Loni']}\n",
    "ser=pd.DataFrame(df) \n",
    "ser"
   ]
  },
  {
   "cell_type": "code",
   "execution_count": 27,
   "id": "9a808fc3-72a6-4df6-aa13-1c8fd248f7d4",
   "metadata": {},
   "outputs": [],
   "source": [
    "# Q5. What are some common functions you can use to manipulate data in a Pandas DataFrame? Can\n",
    "# you give an example of when you might use one of these functions?"
   ]
  },
  {
   "cell_type": "code",
   "execution_count": 6,
   "id": "9e617894-fcdd-4e07-a0b5-b53322d5f2a4",
   "metadata": {},
   "outputs": [
    {
     "data": {
      "text/plain": [
       "'To read the csv file read_csv function is their also to read the exel file read_excel function is their\\nand head function is their it show the first 5 record of data similarly tail function show the last 5\\nrecord in the data.'"
      ]
     },
     "execution_count": 6,
     "metadata": {},
     "output_type": "execute_result"
    }
   ],
   "source": [
    "'''To read the csv file read_csv function is their also to read the exel file read_excel function is their\n",
    "and head function is their it show the first 5 record of data similarly tail function show the last 5\n",
    "record in the data.'''"
   ]
  },
  {
   "cell_type": "code",
   "execution_count": 11,
   "id": "891b5313-73fc-469e-a501-4329619a10b5",
   "metadata": {},
   "outputs": [],
   "source": [
    "import pandas as pd \n",
    "df=pd.read_csv('data.csv')"
   ]
  },
  {
   "cell_type": "code",
   "execution_count": 13,
   "id": "1b74f7d4-840b-408a-b656-8be877f6d6b4",
   "metadata": {},
   "outputs": [
    {
     "data": {
      "text/html": [
       "<div>\n",
       "<style scoped>\n",
       "    .dataframe tbody tr th:only-of-type {\n",
       "        vertical-align: middle;\n",
       "    }\n",
       "\n",
       "    .dataframe tbody tr th {\n",
       "        vertical-align: top;\n",
       "    }\n",
       "\n",
       "    .dataframe thead th {\n",
       "        text-align: right;\n",
       "    }\n",
       "</style>\n",
       "<table border=\"1\" class=\"dataframe\">\n",
       "  <thead>\n",
       "    <tr style=\"text-align: right;\">\n",
       "      <th></th>\n",
       "      <th>name</th>\n",
       "      <th>email</th>\n",
       "      <th>m_no</th>\n",
       "    </tr>\n",
       "  </thead>\n",
       "  <tbody>\n",
       "    <tr>\n",
       "      <th>0</th>\n",
       "      <td>sudh</td>\n",
       "      <td>sudh@gmail.com</td>\n",
       "      <td>934567</td>\n",
       "    </tr>\n",
       "  </tbody>\n",
       "</table>\n",
       "</div>"
      ],
      "text/plain": [
       "   name           email    m_no\n",
       "0  sudh  sudh@gmail.com  934567"
      ]
     },
     "execution_count": 13,
     "metadata": {},
     "output_type": "execute_result"
    }
   ],
   "source": [
    "df.head(1)"
   ]
  },
  {
   "cell_type": "code",
   "execution_count": 14,
   "id": "0dbfc601-7356-4e2f-a4b5-a75cec4c9a0c",
   "metadata": {},
   "outputs": [
    {
     "data": {
      "text/html": [
       "<div>\n",
       "<style scoped>\n",
       "    .dataframe tbody tr th:only-of-type {\n",
       "        vertical-align: middle;\n",
       "    }\n",
       "\n",
       "    .dataframe tbody tr th {\n",
       "        vertical-align: top;\n",
       "    }\n",
       "\n",
       "    .dataframe thead th {\n",
       "        text-align: right;\n",
       "    }\n",
       "</style>\n",
       "<table border=\"1\" class=\"dataframe\">\n",
       "  <thead>\n",
       "    <tr style=\"text-align: right;\">\n",
       "      <th></th>\n",
       "      <th>name</th>\n",
       "      <th>email</th>\n",
       "      <th>m_no</th>\n",
       "    </tr>\n",
       "  </thead>\n",
       "  <tbody>\n",
       "    <tr>\n",
       "      <th>1</th>\n",
       "      <td>krish</td>\n",
       "      <td>krisk@gmail.com</td>\n",
       "      <td>8754396</td>\n",
       "    </tr>\n",
       "  </tbody>\n",
       "</table>\n",
       "</div>"
      ],
      "text/plain": [
       "    name            email     m_no\n",
       "1  krish  krisk@gmail.com  8754396"
      ]
     },
     "execution_count": 14,
     "metadata": {},
     "output_type": "execute_result"
    }
   ],
   "source": [
    "df.tail(1)"
   ]
  },
  {
   "cell_type": "code",
   "execution_count": 15,
   "id": "20d81da1-a3a7-409d-ba19-a64de188960e",
   "metadata": {},
   "outputs": [
    {
     "data": {
      "text/plain": [
       "'Series is a one dimension array is immutable in nature \\n   DataFrame is a two dimension array is mutable in nature \\n   Panel is a three dimension array is also mutable in nature'"
      ]
     },
     "execution_count": 15,
     "metadata": {},
     "output_type": "execute_result"
    }
   ],
   "source": [
    "# Q6. Which of the following is mutable in nature Series, DataFrame, Panel?\n",
    "'''Series is a one dimension array is immutable in nature \n",
    "   DataFrame is a two dimension array is mutable in nature \n",
    "   Panel is a three dimension array is also mutable in nature'''"
   ]
  },
  {
   "cell_type": "code",
   "execution_count": 20,
   "id": "1fbe16a2-e16f-4ea0-ac1f-18e98a87d52e",
   "metadata": {},
   "outputs": [],
   "source": [
    "# Q7. Create a DataFrame using multiple Series. Explain with an example.\n",
    "\n",
    "name=['sakshi','monali','vidya','Dhanshari']\n",
    "id=[1,3,4,7]\n",
    "fav_colour=['balck','white','red','yellow'] \n",
    "Name=pd.Series(name)\n",
    "id=pd.Series(id)\n",
    "Colour=pd.Series(fav_colour)"
   ]
  },
  {
   "cell_type": "code",
   "execution_count": 27,
   "id": "7ee314ed-d5cb-40c9-bb4e-6f3b19acdcf7",
   "metadata": {},
   "outputs": [],
   "source": [
    "df=pd.DataFrame({'Name':Name,'id':id,'fav_Colour':Colour})"
   ]
  },
  {
   "cell_type": "code",
   "execution_count": 28,
   "id": "f66d2316-c788-4c96-9d12-95c635b78227",
   "metadata": {},
   "outputs": [
    {
     "data": {
      "text/html": [
       "<div>\n",
       "<style scoped>\n",
       "    .dataframe tbody tr th:only-of-type {\n",
       "        vertical-align: middle;\n",
       "    }\n",
       "\n",
       "    .dataframe tbody tr th {\n",
       "        vertical-align: top;\n",
       "    }\n",
       "\n",
       "    .dataframe thead th {\n",
       "        text-align: right;\n",
       "    }\n",
       "</style>\n",
       "<table border=\"1\" class=\"dataframe\">\n",
       "  <thead>\n",
       "    <tr style=\"text-align: right;\">\n",
       "      <th></th>\n",
       "      <th>Name</th>\n",
       "      <th>id</th>\n",
       "      <th>fav_Colour</th>\n",
       "    </tr>\n",
       "  </thead>\n",
       "  <tbody>\n",
       "    <tr>\n",
       "      <th>0</th>\n",
       "      <td>sakshi</td>\n",
       "      <td>1</td>\n",
       "      <td>balck</td>\n",
       "    </tr>\n",
       "    <tr>\n",
       "      <th>1</th>\n",
       "      <td>monali</td>\n",
       "      <td>3</td>\n",
       "      <td>white</td>\n",
       "    </tr>\n",
       "    <tr>\n",
       "      <th>2</th>\n",
       "      <td>vidya</td>\n",
       "      <td>4</td>\n",
       "      <td>red</td>\n",
       "    </tr>\n",
       "    <tr>\n",
       "      <th>3</th>\n",
       "      <td>Dhanshari</td>\n",
       "      <td>7</td>\n",
       "      <td>yellow</td>\n",
       "    </tr>\n",
       "  </tbody>\n",
       "</table>\n",
       "</div>"
      ],
      "text/plain": [
       "        Name  id fav_Colour\n",
       "0     sakshi   1      balck\n",
       "1     monali   3      white\n",
       "2      vidya   4        red\n",
       "3  Dhanshari   7     yellow"
      ]
     },
     "execution_count": 28,
     "metadata": {},
     "output_type": "execute_result"
    }
   ],
   "source": [
    "df"
   ]
  },
  {
   "cell_type": "code",
   "execution_count": null,
   "id": "4337267c-5432-48e9-901d-b31e6265eec1",
   "metadata": {},
   "outputs": [],
   "source": []
  }
 ],
 "metadata": {
  "kernelspec": {
   "display_name": "Python 3 (ipykernel)",
   "language": "python",
   "name": "python3"
  },
  "language_info": {
   "codemirror_mode": {
    "name": "ipython",
    "version": 3
   },
   "file_extension": ".py",
   "mimetype": "text/x-python",
   "name": "python",
   "nbconvert_exporter": "python",
   "pygments_lexer": "ipython3",
   "version": "3.10.8"
  }
 },
 "nbformat": 4,
 "nbformat_minor": 5
}
