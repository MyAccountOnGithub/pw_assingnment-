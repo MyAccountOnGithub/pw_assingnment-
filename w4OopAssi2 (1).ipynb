{
 "cells": [
  {
   "cell_type": "code",
   "execution_count": 1,
   "id": "3248844a-b712-41b4-8b46-bb10b6fec1ee",
   "metadata": {},
   "outputs": [
    {
     "name": "stdout",
     "output_type": "stream",
     "text": [
      "Printing PDF document...\n",
      "Printing Word document...\n"
     ]
    }
   ],
   "source": [
    "#Q1. What is Abstraction in OOps? Explain with an example.\n",
    "\"\"\" Abstraction is a that allows us to hide the internal details and show only the functionality to the\n",
    "users. It provides a way to separate the behavior of an object from its implementation. This allows us to \n",
    "change the internal workings of an object without affecting the overall system or the users of that object. \n",
    "\"\"\"\n",
    "from abc import ABC, abstractmethod\n",
    "\n",
    "class AbstractDocument(ABC):  # Abstract Class\n",
    "    @abstractmethod\n",
    "    def print(self):\n",
    "        pass\n",
    "\n",
    "class PDF(AbstractDocument):  # Subclass providing implementation for print method\n",
    "    def print(self):\n",
    "        print(\"Printing PDF document...\")\n",
    "\n",
    "class Word(AbstractDocument):  # Subclass providing implementation for print method\n",
    "    def print(self):\n",
    "        print(\"Printing Word document...\")\n",
    "\n",
    "pdf = PDF()\n",
    "pdf.print()  # Outputs: Printing PDF document...\n",
    "\n",
    "word = Word()\n",
    "word.print()  # Outputs: Printing Word document...\n"
   ]
  },
  {
   "cell_type": "code",
   "execution_count": 13,
   "id": "8c926530-0b4f-4c95-ab37-e7b1d0cd6333",
   "metadata": {},
   "outputs": [],
   "source": [
    "# Q2. Differentiate between Abstraction and Encapsulation. Explain with an example.\n",
    "\"\"\"Abstraction is the process of hiding the internal details and showing only the functionality to the user\n",
    " Encapsulation is the mechanism of hiding data (variables) and methods within a class from the outside world,\n",
    " from the users of that class, and accessing them only in an object-oriented way. In encapsulation, data can\n",
    " be public (accessible from anywhere), protected (accessible from within the class and its subclasses), or\n",
    " private (accessible only within the class itself).\"\"\"\n",
    " \n",
    "class BankAccount:\n",
    "    def __init__(self):\n",
    "        self.__balance=0\n",
    "        \n",
    "    def getbalance(self):\n",
    "        return self.__balance\n",
    "    \n",
    "    def deposit(self,amount):\n",
    "        if amount>0:\n",
    "            self.__balance+=amount\n",
    "            return self.__balance \n",
    "        \n",
    "    def withdraw(self,amount):    \n",
    "        if amount<=self.__balance:\n",
    "            self.__balance -= amount\n",
    "            return amount\n",
    "        else:\n",
    "            return \"Insufficient balance\"\n",
    "        "
   ]
  },
  {
   "cell_type": "code",
   "execution_count": 14,
   "id": "e33f0b17-7cc3-4d0e-9bf0-c15257b190c9",
   "metadata": {},
   "outputs": [
    {
     "name": "stdout",
     "output_type": "stream",
     "text": [
      "0\n",
      "1000\n"
     ]
    }
   ],
   "source": [
    "my_account = BankAccount()\n",
    "print(my_account.getbalance())  # Outputs: 0\n",
    "my_account.deposit(1000)\n",
    "print(my_account.getbalance())  # Outputs: 1000\n"
   ]
  },
  {
   "cell_type": "code",
   "execution_count": null,
   "id": "1f174620-11ef-4852-b4ec-39fe0f03162a",
   "metadata": {},
   "outputs": [],
   "source": [
    "# Q3. What is abc module in python? Why is it used?\n",
    "\"\"\"The abc module in Python stands for \"Abstract Base Class\". Abstract base classes are classes that are \n",
    "designed to be inherited by other classes, but are not meant to be instantiated themselves. They act as a\n",
    "kind of template or blueprint for other classes.\n",
    "It is used to The abc module provides the infrastructure for defining these abstract base classes. The pri\n",
    "mary purpose of this module is to allow you to create methods or properties that must be implemented within\n",
    "any child classes.\n"
   ]
  },
  {
   "cell_type": "code",
   "execution_count": 15,
   "id": "d589bb5a-a0dd-4b25-9f2b-894ccd354492",
   "metadata": {},
   "outputs": [
    {
     "name": "stdout",
     "output_type": "stream",
     "text": [
      "10\n"
     ]
    }
   ],
   "source": [
    "# Q4. How can we achieve data abstraction?\n",
    "\"\"\"1. Abstract Classes and Methods: Abstract classes and methods are those which have method declarations \n",
    "but no implementations. Python provides the abc module to create abstract base classes and methods.\n",
    "    2. Encapsulation: Encapsulation means that the internal representation of an object is generally \n",
    "hidden from the view outside of the object's definition. Basically, encapsulation is hiding the\n",
    "variables or implementation of the method. Python uses double underscore (__) to define private members.\"\"\"\n",
    "class Example:\n",
    "    def __init__(self):\n",
    "        self.__hidden_variable = 10  # Private Member\n",
    "\n",
    "    def get_hidden_variable(self):\n",
    "        return self.__hidden_variable\n",
    "\n",
    "obj = Example()\n",
    "print(obj.get_hidden_variable())  # Outputs: 10\n"
   ]
  },
  {
   "cell_type": "code",
   "execution_count": null,
   "id": "7588d44d-964e-4501-a9fa-0135bf6abe64",
   "metadata": {},
   "outputs": [],
   "source": [
    "#Q5. Can we create an instance of an abstract class? Explain your answer.\n",
    "\"\"\"No, we cannot create an instance of an abstract class.\n",
    "\n",
    "An abstract class is meant to serve as a base class for other classes that are expected to implement the \n",
    "abstract methods defined in it. The purpose of an abstract class is to provide an interface for subclasses.\n",
    "It is not designed to be instantiated itself.\"\"\""
   ]
  }
 ],
 "metadata": {
  "kernelspec": {
   "display_name": "Python 3 (ipykernel)",
   "language": "python",
   "name": "python3"
  },
  "language_info": {
   "codemirror_mode": {
    "name": "ipython",
    "version": 3
   },
   "file_extension": ".py",
   "mimetype": "text/x-python",
   "name": "python",
   "nbconvert_exporter": "python",
   "pygments_lexer": "ipython3",
   "version": "3.10.8"
  }
 },
 "nbformat": 4,
 "nbformat_minor": 5
}
