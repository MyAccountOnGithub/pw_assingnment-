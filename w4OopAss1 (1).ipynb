{
 "cells": [
  {
   "cell_type": "code",
   "execution_count": 3,
   "id": "5121b039-056d-4d62-8b3b-967634d4671b",
   "metadata": {},
   "outputs": [],
   "source": [
    "#Q1. Explain Class and Object with respect to Object-Oriented Programming. Give a suitable example.\n",
    "\n",
    "\"\"\" Class is a blueprint of object in class we can bind the the function.class hold the data \n",
    "member and member function\n",
    "Object that invoke the class \"\"\"\n",
    "class car:\n",
    "    def __init__(self,model,colour):\n",
    "        self.model=model\n",
    "        self.colour=colour\n",
    "    def start(self):\n",
    "        print(\"the car has started\")\n",
    "        \n"
   ]
  },
  {
   "cell_type": "code",
   "execution_count": 4,
   "id": "61c1d35d-afc9-422e-b3d0-a2dab3627858",
   "metadata": {},
   "outputs": [],
   "source": [
    "c=car(\"tesla model 3\",\"black\")"
   ]
  },
  {
   "cell_type": "code",
   "execution_count": 5,
   "id": "d6fcdb1d-e6e6-4f41-bb8c-68837d121aee",
   "metadata": {},
   "outputs": [
    {
     "data": {
      "text/plain": [
       "'tesla model 3'"
      ]
     },
     "execution_count": 5,
     "metadata": {},
     "output_type": "execute_result"
    }
   ],
   "source": [
    "c.model"
   ]
  },
  {
   "cell_type": "code",
   "execution_count": null,
   "id": "fa472b23-72c0-4b41-9e99-d96a7b4a3492",
   "metadata": {},
   "outputs": [],
   "source": [
    "#Q2. Name the four pillars of OOPs.\n",
    "\"\"\"1.Abstraction \n",
    "   2. Encapsulation\n",
    "   3.Inheritance\n",
    "   4.Polymorphism"
   ]
  },
  {
   "cell_type": "code",
   "execution_count": 5,
   "id": "fef52351-2977-46b7-b7e9-65f1ccd301a0",
   "metadata": {},
   "outputs": [],
   "source": [
    "#Q3. Explain why the __init__() function is used. Give a suitable example.\n",
    "\"\"\"The __init__() function in Python is a special method that's automatically called when you create a new instance of a class. \n",
    "It is also known as a constructor. This method is generally used to initialize the attributes of an object. \"\"\"\n",
    "\n",
    "class abc:\n",
    "    def __init__(self,name):\n",
    "        self.name=name\n",
    "        "
   ]
  },
  {
   "cell_type": "code",
   "execution_count": 6,
   "id": "0f4f3e6c-96e2-4ff6-989d-b93aab5e51bf",
   "metadata": {},
   "outputs": [],
   "source": [
    "A=abc(\"sakshi\")"
   ]
  },
  {
   "cell_type": "code",
   "execution_count": 7,
   "id": "3c7610d8-3047-4f88-b1e4-3a0ba6530f23",
   "metadata": {},
   "outputs": [
    {
     "data": {
      "text/plain": [
       "'sakshi'"
      ]
     },
     "execution_count": 7,
     "metadata": {},
     "output_type": "execute_result"
    }
   ],
   "source": [
    "A.name"
   ]
  },
  {
   "cell_type": "code",
   "execution_count": null,
   "id": "d8e86ea0-c758-4c5f-8506-f2c1442d4332",
   "metadata": {},
   "outputs": [],
   "source": [
    "#Q4. Why self is used in OOPs?\n",
    "\"\"\"The self parameter is a reference to the current instance of the class and is used to access variables\n",
    "and methods that belongs to the class. It doesn't have to be named self, you can call it whatever you like, \n",
    "but it has to be the first parameter of any function in the class.\"\"\""
   ]
  },
  {
   "cell_type": "code",
   "execution_count": 6,
   "id": "a37b86d0-a99f-45b5-99e2-055ed82da79b",
   "metadata": {},
   "outputs": [
    {
     "data": {
      "text/plain": [
       "'Inheritance provide the concept of reusuablity.In these inherit the property of other class '"
      ]
     },
     "execution_count": 6,
     "metadata": {},
     "output_type": "execute_result"
    }
   ],
   "source": [
    "# Q5. What is inheritance? Give an example for each type of inheritance.\n",
    "\"\"\"Inheritance provide the concept of reusuablity.In these inherit the property of other class \n",
    "it has 5 type\n",
    "1.Simple Inheritance\n",
    "2.Multiple Inheritance\n",
    "3.Multilevel Inheritance\n",
    "4.Hybrid Inheritance\n",
    "5.Heirarchial Inheritance"
   ]
  },
  {
   "cell_type": "code",
   "execution_count": 17,
   "id": "fc5083a8-a336-459b-a14b-f1efa08e8010",
   "metadata": {},
   "outputs": [],
   "source": [
    "# Simple Inheritance----In single inheritance, a class inherits from a single superclass. This is the simplest form of inheritance.\n",
    "class test1:\n",
    "    def test(self):\n",
    "        print(\"class 1 is call\")\n",
    "class test2(test1):\n",
    "    def  test1(self):\n",
    "        print(\"class 2 is call\")\n",
    "class test3(test2):\n",
    "    def test2(self):\n",
    "        print(\"class 3 is call\")"
   ]
  },
  {
   "cell_type": "code",
   "execution_count": 18,
   "id": "fc480e3c-be36-4b42-9d4f-094c63dc66c0",
   "metadata": {},
   "outputs": [],
   "source": [
    "t=test3()"
   ]
  },
  {
   "cell_type": "code",
   "execution_count": 20,
   "id": "b21b1337-523a-4a2d-ab38-06be2b7a3a3a",
   "metadata": {},
   "outputs": [
    {
     "name": "stdout",
     "output_type": "stream",
     "text": [
      "class 1 is call\n"
     ]
    }
   ],
   "source": [
    "t.test()"
   ]
  },
  {
   "cell_type": "code",
   "execution_count": 21,
   "id": "252ae751-f392-471a-9095-a3ffe9f9aaa2",
   "metadata": {},
   "outputs": [
    {
     "name": "stdout",
     "output_type": "stream",
     "text": [
      "class 2 is call\n"
     ]
    }
   ],
   "source": [
    "t.test1()"
   ]
  },
  {
   "cell_type": "code",
   "execution_count": 22,
   "id": "f8414a1b-4a5b-443d-ae10-990bd914e600",
   "metadata": {},
   "outputs": [
    {
     "name": "stdout",
     "output_type": "stream",
     "text": [
      "class 3 is call\n"
     ]
    }
   ],
   "source": [
    "t.test2()"
   ]
  },
  {
   "cell_type": "code",
   "execution_count": 23,
   "id": "77e9388b-7c53-413d-84a7-a1be1ca22e3d",
   "metadata": {},
   "outputs": [],
   "source": [
    "#Multiple Inheritance: In multiple inheritance, a class can inherit from more than one superclass.\n",
    "class test1:\n",
    "    def test(self):\n",
    "        print(\"class 1 is call\")\n",
    "class test2:\n",
    "    def  test1(self):\n",
    "        print(\"class 2 is call\")\n",
    "class test3(test1,test2):\n",
    "    def test2(self):\n",
    "        print(\"class 3 is call\")"
   ]
  },
  {
   "cell_type": "code",
   "execution_count": 26,
   "id": "5c16b061-c999-4523-9072-0bf1d4af37af",
   "metadata": {},
   "outputs": [],
   "source": [
    "t=test3()"
   ]
  },
  {
   "cell_type": "code",
   "execution_count": 28,
   "id": "ec68ea0a-9b50-4520-9c92-c2b317326f95",
   "metadata": {},
   "outputs": [
    {
     "name": "stdout",
     "output_type": "stream",
     "text": [
      "class 1 is call\n"
     ]
    }
   ],
   "source": [
    "t.test()"
   ]
  },
  {
   "cell_type": "code",
   "execution_count": 29,
   "id": "0cccc43b-cf6f-40ee-8e72-b983f077cbaf",
   "metadata": {},
   "outputs": [
    {
     "name": "stdout",
     "output_type": "stream",
     "text": [
      "class 2 is call\n"
     ]
    }
   ],
   "source": [
    "t.test1()"
   ]
  },
  {
   "cell_type": "code",
   "execution_count": 30,
   "id": "8c9ad074-9323-4819-967b-a8533ce36365",
   "metadata": {},
   "outputs": [
    {
     "name": "stdout",
     "output_type": "stream",
     "text": [
      "class 3 is call\n"
     ]
    }
   ],
   "source": [
    "t.test2()"
   ]
  },
  {
   "cell_type": "code",
   "execution_count": 31,
   "id": "39df15bd-ae4f-47d2-9f8a-68dfc6574acf",
   "metadata": {},
   "outputs": [
    {
     "name": "stdout",
     "output_type": "stream",
     "text": [
      "Eating...\n",
      "Can fly...\n",
      "Chirping...\n"
     ]
    }
   ],
   "source": [
    "# Multilevel Inheritance: In multilevel inheritance, a class can inherit from a subclass, making it a \n",
    "# multilevel inheritance.\n",
    "\n",
    "class Animal:  # Grandparent Class\n",
    "    def eat(self):\n",
    "        print(\"Eating...\")\n",
    "\n",
    "class Bird(Animal):  # Parent Class\n",
    "    def can_fly(self):\n",
    "        print(\"Can fly...\")\n",
    "\n",
    "class Sparrow(Bird):  # Child Class\n",
    "    def chirp(self):\n",
    "        print(\"Chirping...\")\n",
    "\n",
    "my_sparrow = Sparrow()\n",
    "my_sparrow.eat()  # Inherited from Animal class\n",
    "my_sparrow.can_fly()  # Inherited from Bird class\n",
    "my_sparrow.chirp()  # Method of Sparrow class\n"
   ]
  },
  {
   "cell_type": "code",
   "execution_count": 32,
   "id": "d3b16492-d7b1-438e-a430-54461c24dd5b",
   "metadata": {},
   "outputs": [
    {
     "name": "stdout",
     "output_type": "stream",
     "text": [
      "Eating...\n",
      "Barking...\n",
      "Eating...\n",
      "Meowing...\n"
     ]
    }
   ],
   "source": [
    "# Hierarchical Inheritance: In hierarchical inheritance, one class serves as a superclass (base class)\n",
    "# for more than one subclass.\n",
    "class Animal:  # Parent Class\n",
    "    def eat(self):\n",
    "        print(\"Eating...\")\n",
    "\n",
    "class Dog(Animal):  # First Child Class\n",
    "    def bark(self):\n",
    "        print(\"Barking...\")\n",
    "\n",
    "class Cat(Animal):  # Second Child Class\n",
    "    def meow(self):\n",
    "        print(\"Meowing...\")\n",
    "\n",
    "my_dog = Dog()\n",
    "my_dog.eat()  # Inherited from Animal class\n",
    "my_dog.bark()  # Method of Dog class\n",
    "\n",
    "my_cat = Cat()\n",
    "my_cat.eat()  # Inherited from Animal class\n",
    "my_cat.meow()  # Method of Cat class\n"
   ]
  },
  {
   "cell_type": "code",
   "execution_count": 33,
   "id": "e33ea44e-9389-4713-b516-c3766f0ffbf9",
   "metadata": {},
   "outputs": [
    {
     "name": "stdout",
     "output_type": "stream",
     "text": [
      "Eating...\n",
      "Can fly...\n",
      "Can swim...\n",
      "Quacking...\n"
     ]
    }
   ],
   "source": [
    "#Hybrid Inheritance: Hybrid inheritance is a combination of multiple and multilevel inheritance. \n",
    "#It's basically a blend of more than one type of inheritance.\n",
    "class Animal:  # Parent Class\n",
    "    def eat(self):\n",
    "        print(\"Eating...\")\n",
    "\n",
    "class Bird(Animal):  # First Child Class\n",
    "    def can_fly(self):\n",
    "        print(\"Can fly...\")\n",
    "\n",
    "class Swim:  # Another Parent Class\n",
    "    def can_swim(self):\n",
    "        print(\"Can swim...\")\n",
    "\n",
    "class Duck(Bird, Swim):  # Child Class\n",
    "    def quack(self):\n",
    "        print(\"Quacking...\")\n",
    "\n",
    "my_duck = Duck()\n",
    "my_duck.eat()  # Inherited from Animal class\n",
    "my_duck.can_fly()  # Inherited from Bird class\n",
    "my_duck.can_swim()  # Inherited from Swim class\n",
    "my_duck.quack()  # Method of Duck class\n"
   ]
  },
  {
   "cell_type": "code",
   "execution_count": null,
   "id": "ca743733-e6b6-4679-aded-cf30b4cad4ee",
   "metadata": {},
   "outputs": [],
   "source": []
  }
 ],
 "metadata": {
  "kernelspec": {
   "display_name": "Python 3 (ipykernel)",
   "language": "python",
   "name": "python3"
  },
  "language_info": {
   "codemirror_mode": {
    "name": "ipython",
    "version": 3
   },
   "file_extension": ".py",
   "mimetype": "text/x-python",
   "name": "python",
   "nbconvert_exporter": "python",
   "pygments_lexer": "ipython3",
   "version": "3.10.8"
  }
 },
 "nbformat": 4,
 "nbformat_minor": 5
}
