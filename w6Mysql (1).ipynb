{
 "cells": [
  {
   "cell_type": "code",
   "execution_count": 2,
   "id": "972808c1-cdb7-47f5-9514-a1c949946ed3",
   "metadata": {},
   "outputs": [
    {
     "data": {
      "text/plain": [
       "'the organize collection of structure information,or data  typically stored electronically in a computer\\nsystem. \\nsql: structure query language where the data is store in structure or table form \\nnosql: the data is not store in structure form ex:mongo db'"
      ]
     },
     "execution_count": 2,
     "metadata": {},
     "output_type": "execute_result"
    }
   ],
   "source": [
    "# Q1. What is a database? Differentiate between SQL and NoSQL databases.\n",
    "'''the organize collection of structure information,or data  typically stored electronically in a computer\n",
    "system. \n",
    "sql: structure query language where the data is store in structure or table form \n",
    "nosql: the data is not store in structure form ex:mongo db'''"
   ]
  },
  {
   "cell_type": "code",
   "execution_count": 2,
   "id": "53134014-0237-475c-bc19-2d86ab5245f0",
   "metadata": {},
   "outputs": [
    {
     "data": {
      "text/plain": [
       "'DDl means data defination language is used for describing data and its relationships in a database.\\n    create is used to  create a database \\n    ex=CREATE TABLE Students (\\n  StudentID INT PRIMARY KEY,\\n  FirstName VARCHAR(50),\\n  LastName VARCHAR(50),\\n  Age INT\\n);\\ndrop is used to delete the table and database \\nex=DROP TABLE Students;\\nalter is used to modify the table \\nex=ALTER TABLE Students ADD Email VARCHAR(100);\\ntruncate is used to delete the data without removing these structure \\nex=TRUNCATE TABLE Students;\\n\\n'"
      ]
     },
     "execution_count": 2,
     "metadata": {},
     "output_type": "execute_result"
    }
   ],
   "source": [
    "# Q2. What is DDL? Explain why CREATE, DROP, ALTER, and TRUNCATE are used with an example.\n",
    "'''DDl means data defination language is used for describing data and its relationships in a database.\n",
    "    create is used to  create a database \n",
    "    ex=CREATE TABLE Students (\n",
    "  StudentID INT PRIMARY KEY,\n",
    "  FirstName VARCHAR(50),\n",
    "  LastName VARCHAR(50),\n",
    "  Age INT\n",
    ");\n",
    "drop is used to delete the table and database \n",
    "ex=DROP TABLE Students;\n",
    "alter is used to modify the table \n",
    "ex=ALTER TABLE Students ADD Email VARCHAR(100);\n",
    "truncate is used to delete the data without removing these structure \n",
    "ex=TRUNCATE TABLE Students;\n",
    "\n",
    "'''"
   ]
  },
  {
   "cell_type": "code",
   "execution_count": 3,
   "id": "1c520319-9ef5-46c1-84a6-18ee4ac11a9a",
   "metadata": {},
   "outputs": [
    {
     "data": {
      "text/plain": [
       "\"DML means data manipulation language it manipulate the data storage \\ninsert= used to insert the data \\nex=INSERT INTO Students (StudentID, FirstName, LastName, Age) \\nVALUES (1, 'John', 'Doe', 20);\\nupdate used to update the data \\nex=UPDATE Students \\nSET Age = 21 \\nWHERE StudentID = 1;\\ndelete used to delete the data \\nex=DELETE FROM Students \\nWHERE StudentID = 1;\\n\""
      ]
     },
     "execution_count": 3,
     "metadata": {},
     "output_type": "execute_result"
    }
   ],
   "source": [
    "# Q3. What is DML? Explain INSERT, UPDATE, and DELETE with an example.\n",
    "'''DML means data manipulation language it manipulate the data storage \n",
    "insert= used to insert the data \n",
    "ex=INSERT INTO Students (StudentID, FirstName, LastName, Age) \n",
    "VALUES (1, 'John', 'Doe', 20);\n",
    "update used to update the data \n",
    "ex=UPDATE Students \n",
    "SET Age = 21 \n",
    "WHERE StudentID = 1;\n",
    "delete used to delete the data \n",
    "ex=DELETE FROM Students \n",
    "WHERE StudentID = 1;\n",
    "'''"
   ]
  },
  {
   "cell_type": "code",
   "execution_count": 1,
   "id": "857745af-209d-4ed9-8e5e-3b46d4c4e174",
   "metadata": {},
   "outputs": [
    {
     "data": {
      "text/plain": [
       "'DQL stands for Data Query Language. The primary command in DQL is SELECT.\\n\\nSELECT: This command is used to fetch data from a database table. The data returned is stored in a result \\ntable called the result-set.\\nexa:SELECT FirstName, LastName \\nFROM Students;\\n'"
      ]
     },
     "execution_count": 1,
     "metadata": {},
     "output_type": "execute_result"
    }
   ],
   "source": [
    "# Q4. What is DQL? Explain SELECT with an example.\n",
    "'''DQL stands for Data Query Language. The primary command in DQL is SELECT.\n",
    "\n",
    "SELECT: This command is used to fetch data from a database table. The data returned is stored in a result \n",
    "table called the result-set.\n",
    "exa:SELECT FirstName, LastName \n",
    "FROM Students;\n",
    "'''"
   ]
  },
  {
   "cell_type": "code",
   "execution_count": null,
   "id": "0f4be8d0-0663-4b8d-8eeb-ec553eea31d8",
   "metadata": {},
   "outputs": [],
   "source": [
    "# Q5. Explain Primary Key and Foreign Key.\n",
    "'''Primary Key:A primary key is a column (or set of columns )in a table of a relational database that \n",
    "uniquely identifies each row of the table. In other words, there are no two rows in a table with the same \n",
    "primary key value. The primary key plays a crucial role in ensuring the integrity and consistency of the\n",
    "data in the database.  \n",
    "\n",
    "Foreign Key:A foreign key is a column (or set of columns) in one table that references the primary key \n",
    "column in another table. It establishes a link or relationship between the two tables, ensuring referential \n",
    "integrity''' "
   ]
  },
  {
   "cell_type": "code",
   "execution_count": null,
   "id": "196750b1-321f-4d49-97b2-cb572acac366",
   "metadata": {},
   "outputs": [],
   "source": [
    "# Q6. Write a python code to connect MySQL to python. Explain the cursor() and execute() method.\n",
    "'''cursor() method: This method creates a new cursor object using the connection. The cursor object is \n",
    "then used to execute SQL queries and fetch results\n",
    "execute() method: This method is used with the cursor object to execute SQL statements.\n",
    "\n",
    "import mysql.connector\n",
    "# import mysql.connector\n",
    "#create user 'user'@'%' identified by 'password'\n",
    "mydb = mysql.connector.connect(\n",
    "  host=\"localhost\",\n",
    "  user=\"abc\",\n",
    "  password=\"password\"\n",
    ")\n",
    "print(mydb)\n",
    "mycursor = mydb.cursor()\n",
    "mycursor.execute(\"SHOW DATABASES\")\n",
    "for x in mycursor:\n",
    "  print(x)'''"
   ]
  },
  {
   "cell_type": "code",
   "execution_count": null,
   "id": "2583ef5c-1cd2-4371-8944-b2f108e2c461",
   "metadata": {},
   "outputs": [],
   "source": [
    "# Q7. Give the order of execution of SQL clauses in an SQL query.\n",
    "'''1.From :The data source, such as tables and views, is identified first. Joins are also specified in this\n",
    "clause, so tables are combined at this stage.\n",
    "2.where : Filtering occurs after identifying the tables in the FROM clause. Rows that don't satisfy the\n",
    "WHEREcondition are discarded.\n",
    "3.GROUP BY: The remaining rows after the WHERE filtering are then grouped based on columns specified.\n",
    "4.HAVING: Once the rows are grouped, this clause filters the grouped data based on a condition. It’s similar\n",
    "to WHERE, but it operates on grouped records.\n",
    "5.SELECT: Only after all the filtering, grouping, and joining are done are the specific columns listed in \n",
    "the SELECT clause fetched. Calculated columns and aggregate functions (like COUNT, AVG, SUM, etc.) are \n",
    "processed at this stage.\n",
    "6.DISTINCT: If specified, duplicate rows are eliminated at this stage.\n",
    "7.ORDER BY: The final result set is then sorted based on columns specified."
   ]
  },
  {
   "cell_type": "code",
   "execution_count": null,
   "id": "91ee2ec8-51e5-4504-ab90-aea03fa3c45e",
   "metadata": {},
   "outputs": [],
   "source": []
  }
 ],
 "metadata": {
  "kernelspec": {
   "display_name": "Python 3 (ipykernel)",
   "language": "python",
   "name": "python3"
  },
  "language_info": {
   "codemirror_mode": {
    "name": "ipython",
    "version": 3
   },
   "file_extension": ".py",
   "mimetype": "text/x-python",
   "name": "python",
   "nbconvert_exporter": "python",
   "pygments_lexer": "ipython3",
   "version": "3.10.8"
  }
 },
 "nbformat": 4,
 "nbformat_minor": 5
}
