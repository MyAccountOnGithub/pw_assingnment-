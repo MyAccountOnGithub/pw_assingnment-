{
 "cells": [
  {
   "cell_type": "code",
   "execution_count": 1,
   "id": "855ad1c2-0f63-4f96-80e6-8ce0440cbc2d",
   "metadata": {},
   "outputs": [
    {
     "data": {
      "text/plain": [
       "'In python their is built in model is called multiprocessing \\nMultiprocessing that allow creation,synchronization and communication between process'"
      ]
     },
     "execution_count": 1,
     "metadata": {},
     "output_type": "execute_result"
    }
   ],
   "source": [
    "# Q1. What is multiprocessing in python? Why is it useful?\n",
    "'''In python their is built in model is called multiprocessing \n",
    "Multiprocessing that allow creation,synchronization and communication between process'''"
   ]
  },
  {
   "cell_type": "code",
   "execution_count": 6,
   "id": "8d7140ee-ae67-463d-a692-9aa7cd578442",
   "metadata": {},
   "outputs": [
    {
     "data": {
      "text/plain": [
       "'Multithreading refers to the ability of a processor to execute multiple threads concurrently, where \\neach thread runs a process. \\nWhereas multiprocessing refers to the ability of a system to run multiple processors in parallel, \\nwhere each processor can run one or more threads.'"
      ]
     },
     "execution_count": 6,
     "metadata": {},
     "output_type": "execute_result"
    }
   ],
   "source": [
    "# Q2. What are the differences between multiprocessing and multithreading?\n",
    "'''Multithreading refers to the ability of a processor to execute multiple threads concurrently, where \n",
    "each thread runs a process. \n",
    "Whereas multiprocessing refers to the ability of a system to run multiple processors in parallel, \n",
    "where each processor can run one or more threads.'''"
   ]
  },
  {
   "cell_type": "code",
   "execution_count": 7,
   "id": "a401142c-a551-4581-921e-ec1306fc4290",
   "metadata": {},
   "outputs": [],
   "source": [
    "# Q3. Write a python code to create a process using the multiprocessing module.\n",
    "import multiprocessing "
   ]
  },
  {
   "cell_type": "code",
   "execution_count": 8,
   "id": "1fe87390-b5bd-4e58-837d-c9f6b9a87bfc",
   "metadata": {},
   "outputs": [],
   "source": [
    "import multiprocessing \n",
    "def test():\n",
    "    print(\"this is my program of multithreading\")\n",
    "    \n",
    "if __name__ =='main':\n",
    "    m=multiprocesssing.Process(target=test)\n",
    "    m.start()\n",
    "    m.join()"
   ]
  },
  {
   "cell_type": "code",
   "execution_count": 9,
   "id": "fa255f5e-4212-4fa3-bb41-2a73adaf34a6",
   "metadata": {},
   "outputs": [
    {
     "data": {
      "text/plain": [
       "'Parallel execution of a function across multiple input values, distributing the input data across \\nprocessesm is a multiprocessing pool in python.'"
      ]
     },
     "execution_count": 9,
     "metadata": {},
     "output_type": "execute_result"
    }
   ],
   "source": [
    "# Q4. What is a multiprocessing pool in python? Why is it used?\n",
    "'''Parallel execution of a function across multiple input values, distributing the input data across \n",
    "processesm is a multiprocessing pool in python.'''"
   ]
  },
  {
   "cell_type": "code",
   "execution_count": 11,
   "id": "ccd291ff-f918-4d94-ba8d-cb4c2fa3cb36",
   "metadata": {},
   "outputs": [
    {
     "data": {
      "text/plain": [
       "\"we define a function and also main function is their in main we define the worker processes you want to \\ncreate If you don't specify any, it will default to the number of CPU cores available on your machine\""
      ]
     },
     "execution_count": 11,
     "metadata": {},
     "output_type": "execute_result"
    }
   ],
   "source": [
    "# Q5. How can we create a pool of worker processes in python using the multiprocessing module?\n",
    "'''we define a function and also main function is their in main we define the worker processes you want to \n",
    "create If you don't specify any, it will default to the number of CPU cores available on your machine'''"
   ]
  },
  {
   "cell_type": "code",
   "execution_count": 12,
   "id": "4541d74a-526e-4727-b43d-9fbfbd87c329",
   "metadata": {},
   "outputs": [
    {
     "name": "stdout",
     "output_type": "stream",
     "text": [
      "[0, 1, 4, 9, 16, 25, 36, 49, 64, 81]\n"
     ]
    }
   ],
   "source": [
    "# Q6. Write a python program to create 4 processes, each process should print a different number using the\n",
    "# multiprocessing module in python.\n",
    "from multiprocessing import Pool\n",
    "def f(x):\n",
    "    return x*x\n",
    "if __name__ == '__main__':\n",
    "    with Pool(processes=4) as pool:  # create a pool with 4 processes\n",
    "        result = pool.map(f, range(10))\n",
    "        print(result)\n"
   ]
  },
  {
   "cell_type": "code",
   "execution_count": null,
   "id": "4f56c242-f58b-4628-8829-d2bceee69084",
   "metadata": {},
   "outputs": [],
   "source": []
  }
 ],
 "metadata": {
  "kernelspec": {
   "display_name": "Python 3 (ipykernel)",
   "language": "python",
   "name": "python3"
  },
  "language_info": {
   "codemirror_mode": {
    "name": "ipython",
    "version": 3
   },
   "file_extension": ".py",
   "mimetype": "text/x-python",
   "name": "python",
   "nbconvert_exporter": "python",
   "pygments_lexer": "ipython3",
   "version": "3.10.8"
  }
 },
 "nbformat": 4,
 "nbformat_minor": 5
}
