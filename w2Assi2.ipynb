{
 "cells": [
  {
   "cell_type": "code",
   "execution_count": 2,
   "id": "ac511a33-9df2-427f-b945-957cee65c0c7",
   "metadata": {},
   "outputs": [
    {
     "data": {
      "text/plain": [
       "'In Python their are two type of comment\\n1.Single line comment:\\n  is use to comment single line by using # \\n2.Multiple line comment:\\n  is comment the muliple line by using '"
      ]
     },
     "execution_count": 2,
     "metadata": {},
     "output_type": "execute_result"
    }
   ],
   "source": [
    "#Q1. How do you comment code in Python? What are the different types of comments?\n",
    "'''In Python their are two type of comment\n",
    "1.Single line comment:\n",
    "  is use to comment single line by using # \n",
    "2.Multiple line comment:\n",
    "  is comment the muliple line by using '''\n"
   ]
  },
  {
   "cell_type": "code",
   "execution_count": 5,
   "id": "1a4311dd-c43a-4791-880a-d9346af0540c",
   "metadata": {},
   "outputs": [],
   "source": [
    "#Q2. What are variables in Python? How do you declare and assign values to variables?\n",
    "'''Variable store the value and accessed later in the program '''\n",
    "#declaration \n",
    "name=\"john\"\n",
    "a=57"
   ]
  },
  {
   "cell_type": "code",
   "execution_count": 7,
   "id": "31aa74d9-e235-4053-86b4-468f0e20f141",
   "metadata": {},
   "outputs": [
    {
     "data": {
      "text/plain": [
       "str"
      ]
     },
     "execution_count": 7,
     "metadata": {},
     "output_type": "execute_result"
    }
   ],
   "source": [
    "# Q3. How do you convert one data type to another in Python?\n",
    "# By using conversion function or constructor\n",
    "num=str(45) #int convert into str\n",
    "type(num)"
   ]
  },
  {
   "cell_type": "code",
   "execution_count": 8,
   "id": "26ef1707-2bda-4998-8bfc-ca023fa69625",
   "metadata": {},
   "outputs": [
    {
     "data": {
      "text/plain": [
       "'Python3 (file name .py)'"
      ]
     },
     "execution_count": 8,
     "metadata": {},
     "output_type": "execute_result"
    }
   ],
   "source": [
    "# Q4. How do you write and execute a Python script from the command line?\n",
    "'''Python3 (file name .py)'''"
   ]
  },
  {
   "cell_type": "code",
   "execution_count": 14,
   "id": "ff2ec5d4-21a4-463a-97af-3b16ae799336",
   "metadata": {},
   "outputs": [
    {
     "data": {
      "text/plain": [
       "[2, 3]"
      ]
     },
     "execution_count": 14,
     "metadata": {},
     "output_type": "execute_result"
    }
   ],
   "source": [
    "#Q5. Given a list my_list = [1, 2, 3, 4, 5], write the code to slice the list and obtain the sub-list [2, 3].\n",
    "my_list = [1, 2, 3, 4, 5]\n",
    "my_list[1:3]\n"
   ]
  },
  {
   "cell_type": "code",
   "execution_count": 15,
   "id": "6aa0fc7e-69e6-4602-8f47-2ba206071fc3",
   "metadata": {},
   "outputs": [
    {
     "name": "stdout",
     "output_type": "stream",
     "text": [
      "(2+3j)\n"
     ]
    }
   ],
   "source": [
    "#Q6. What is a complex number in mathematics, and how is it represented in Python?\n",
    "'''Complex no is a combination of imaganary and real no it is represent that a+bi where a is a real part and b is a imaganary part.'''\n",
    "z=2+3j\n",
    "print(z)"
   ]
  },
  {
   "cell_type": "code",
   "execution_count": 16,
   "id": "8e25208d-1de8-46f9-9bc6-44b297c779f2",
   "metadata": {},
   "outputs": [],
   "source": [
    "# Q7. What is the correct way to declare a variable named age and assign the value 25 to it?\n",
    "age=25"
   ]
  },
  {
   "cell_type": "code",
   "execution_count": 17,
   "id": "e12421a6-ae23-462b-b29a-5396745e67b1",
   "metadata": {},
   "outputs": [
    {
     "data": {
      "text/plain": [
       "float"
      ]
     },
     "execution_count": 17,
     "metadata": {},
     "output_type": "execute_result"
    }
   ],
   "source": [
    "# Q8. Declare a variable named price and assign the value 9.99 to it. What data type does this variable\n",
    "# belong to?\n",
    "price=9.99\n",
    "type(price)"
   ]
  },
  {
   "cell_type": "code",
   "execution_count": 26,
   "id": "3d9d6d6e-28c0-4a36-89fc-6a83a8258582",
   "metadata": {},
   "outputs": [
    {
     "name": "stdout",
     "output_type": "stream",
     "text": [
      "Sakshi Mahajan\n"
     ]
    }
   ],
   "source": [
    "# Q9. Create a variable named name and assign your full name to it as a string. How would you print the\n",
    "# value of this variable?\n",
    "named=\"Sakshi Mahajan\"\n",
    "print(named)"
   ]
  },
  {
   "cell_type": "code",
   "execution_count": 31,
   "id": "80d830ee-0511-40c4-9a70-1a37ad019f10",
   "metadata": {},
   "outputs": [
    {
     "data": {
      "text/plain": [
       "'World'"
      ]
     },
     "execution_count": 31,
     "metadata": {},
     "output_type": "execute_result"
    }
   ],
   "source": [
    "#Q10. Given the string \"Hello, World!\", extract the substring \"World\".\n",
    "str=\"Hello, World!\"\n",
    "str[7:-1]"
   ]
  },
  {
   "cell_type": "code",
   "execution_count": 33,
   "id": "829d0518-0391-4c1e-b183-0c8520277543",
   "metadata": {},
   "outputs": [
    {
     "name": "stdout",
     "output_type": "stream",
     "text": [
      "It is a student\n"
     ]
    }
   ],
   "source": [
    "# Q11. Create a variable named \"is_student\" and assign it a boolean value indicating whether you are\n",
    "#currently a student or not.\n",
    "is_student=True\n",
    "if(is_student==True):\n",
    "    print(\"It is a student\")\n",
    "else:\n",
    "    print(\"It is not a student\")"
   ]
  },
  {
   "cell_type": "code",
   "execution_count": null,
   "id": "59ccaf5e-b1d4-4cd5-9989-aaf27677180d",
   "metadata": {},
   "outputs": [],
   "source": []
  }
 ],
 "metadata": {
  "kernelspec": {
   "display_name": "Python 3 (ipykernel)",
   "language": "python",
   "name": "python3"
  },
  "language_info": {
   "codemirror_mode": {
    "name": "ipython",
    "version": 3
   },
   "file_extension": ".py",
   "mimetype": "text/x-python",
   "name": "python",
   "nbconvert_exporter": "python",
   "pygments_lexer": "ipython3",
   "version": "3.10.8"
  }
 },
 "nbformat": 4,
 "nbformat_minor": 5
}
