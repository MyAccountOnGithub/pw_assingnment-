{
 "cells": [
  {
   "cell_type": "code",
   "execution_count": 2,
   "id": "02692806-7c21-4852-a010-443e5e351c14",
   "metadata": {},
   "outputs": [
    {
     "data": {
      "text/plain": [
       "\"Label Encoding:\\n\\nPurpose: Converts categorical labels into numerical values.\\nExample: Encoding the colors of a shirt (e.g., 'Red' = 0, 'Green' = 1, 'Blue' = 2).\\n\\nOrdinal Encoding:\\nPurpose: Converts categorical labels into numerical values while preserving the ordinal relationship between categories.\\nExample: Encoding education levels (e.g., 'High School' = 0, 'Bachelor's' = 1, 'Master's' = 2, 'PhD' = 3).\\ntherefore\\nLabel Encoding is used when the categorical feature does not have any order or ranking among its categories\\nOrdinal Encoding is used when the categorical feature has a clear ordering.\""
      ]
     },
     "execution_count": 2,
     "metadata": {},
     "output_type": "execute_result"
    }
   ],
   "source": [
    "# Q1. What is the difference between Ordinal Encoding and Label Encoding? Provide an example of when you might choose one over the other.\n",
    "'''Label Encoding:\n",
    "\n",
    "Purpose: Converts categorical labels into numerical values.\n",
    "Example: Encoding the colors of a shirt (e.g., 'Red' = 0, 'Green' = 1, 'Blue' = 2).\n",
    "\n",
    "Ordinal Encoding:\n",
    "Purpose: Converts categorical labels into numerical values while preserving the ordinal relationship between categories.\n",
    "Example: Encoding education levels (e.g., 'High School' = 0, 'Bachelor's' = 1, 'Master's' = 2, 'PhD' = 3).\n",
    "therefore\n",
    "Label Encoding is used when the categorical feature does not have any order or ranking among its categories\n",
    "Ordinal Encoding is used when the categorical feature has a clear ordering.'''"
   ]
  },
  {
   "cell_type": "code",
   "execution_count": 3,
   "id": "c20ed810-8a9a-48a9-9d48-7ef07bca44c3",
   "metadata": {},
   "outputs": [
    {
     "data": {
      "text/plain": [
       "\"Target Guided Ordinal Encoding is a technique that assigns ordinal values to categories based on their relationship with the target \\nvariable. This method leverages the target variable to create a meaningful order among the categories, often leading to better predictive\\nperformance.\\nExample Use Case\\nConsider a machine learning project predicting customer churn for a subscription service. You have a feature representing customer \\nsubscription type (e.g., 'Basic', 'Standard', 'Premium') and want to encode it in a way that captures its relationship with churn rate\""
      ]
     },
     "execution_count": 3,
     "metadata": {},
     "output_type": "execute_result"
    }
   ],
   "source": [
    "#Q2. Explain how Target Guided Ordinal Encoding works and provide an example of when you might use it in a machine learning project.\n",
    "'''Target Guided Ordinal Encoding is a technique that assigns ordinal values to categories based on their relationship with the target \n",
    "variable. This method leverages the target variable to create a meaningful order among the categories, often leading to better predictive\n",
    "performance.\n",
    "Example Use Case\n",
    "Consider a machine learning project predicting customer churn for a subscription service. You have a feature representing customer \n",
    "subscription type (e.g., 'Basic', 'Standard', 'Premium') and want to encode it in a way that captures its relationship with churn rate'''\n",
    "\n"
   ]
  },
  {
   "cell_type": "code",
   "execution_count": 4,
   "id": "3388c69f-f974-48a1-a623-72d92fb6a844",
   "metadata": {},
   "outputs": [
    {
     "data": {
      "text/plain": [
       "'Covariance is a measure of how much two random variables change together.\\nCovariance helps in understanding the relationship between two variables. It can indicate whether changes in one variable are associated\\nwith changes in another.\\nCov(X,Y)= ∑i=1 to n (Xi−Xˉ)(Yi−Yˉ)/n−1'"
      ]
     },
     "execution_count": 4,
     "metadata": {},
     "output_type": "execute_result"
    }
   ],
   "source": [
    "#Q3. Define covariance and explain why it is important in statistical analysis. How is covariance calculated?\n",
    "'''Covariance is a measure of how much two random variables change together.\n",
    "Covariance helps in understanding the relationship between two variables. It can indicate whether changes in one variable are associated\n",
    "with changes in another.\n",
    "Cov(X,Y)= ∑i=1 to n (Xi−Xˉ)(Yi−Yˉ)/n−1'''"
   ]
  },
  {
   "cell_type": "code",
   "execution_count": 5,
   "id": "76319527-d7e0-47b0-af35-4112ab66fd77",
   "metadata": {},
   "outputs": [
    {
     "name": "stdout",
     "output_type": "stream",
     "text": [
      "Original DataFrame:\n",
      "   Color    Size Material\n",
      "0    red   small     wood\n",
      "1  green  medium    metal\n",
      "2   blue   large  plastic\n",
      "3  green  medium     wood\n",
      "4    red   small    metal\n",
      "5   blue   large  plastic\n",
      "\n",
      "Label Encoded DataFrame:\n",
      "   Color  Size  Material\n",
      "0      2     2         2\n",
      "1      1     1         0\n",
      "2      0     0         1\n",
      "3      1     1         2\n",
      "4      2     2         0\n",
      "5      0     0         1\n"
     ]
    }
   ],
   "source": [
    "#Q4. For a dataset with the following categorical variables: Color (red, green, blue), Size (small, medium,large), and Material (wood,\n",
    "#metal, plastic), perform label encoding using Python's scikit-learn library.Show your code and explain the output.\n",
    "import pandas as pd\n",
    "from sklearn.preprocessing import LabelEncoder\n",
    "\n",
    "# Create a sample DataFrame\n",
    "data = {\n",
    "    'Color': ['red', 'green', 'blue', 'green', 'red', 'blue'],\n",
    "    'Size': ['small', 'medium', 'large', 'medium', 'small', 'large'],\n",
    "    'Material': ['wood', 'metal', 'plastic', 'wood', 'metal', 'plastic']\n",
    "}\n",
    "df = pd.DataFrame(data)\n",
    "print(\"Original DataFrame:\")\n",
    "print(df)\n",
    "\n",
    "# Initialize the LabelEncoder\n",
    "le = LabelEncoder()\n",
    "\n",
    "# Apply LabelEncoder to each column\n",
    "df['Color'] = le.fit_transform(df['Color'])\n",
    "df['Size'] = le.fit_transform(df['Size'])\n",
    "df['Material'] = le.fit_transform(df['Material'])\n",
    "\n",
    "print(\"\\nLabel Encoded DataFrame:\")\n",
    "print(df)\n"
   ]
  },
  {
   "cell_type": "code",
   "execution_count": 6,
   "id": "8a399bc5-f53b-4583-823e-1b1ba9065f03",
   "metadata": {},
   "outputs": [
    {
     "name": "stdout",
     "output_type": "stream",
     "text": [
      "Original DataFrame:\n",
      "   Age  Income  EducationLevel\n",
      "0   25   50000               1\n",
      "1   30   60000               2\n",
      "2   35   70000               3\n",
      "3   40   80000               4\n",
      "4   45   90000               5\n",
      "\n",
      "Covariance Matrix:\n",
      "                     Age       Income  EducationLevel\n",
      "Age                 62.5     125000.0            12.5\n",
      "Income          125000.0  250000000.0         25000.0\n",
      "EducationLevel      12.5      25000.0             2.5\n"
     ]
    }
   ],
   "source": [
    "#Q5. Calculate the covariance matrix for the following variables in a dataset: Age, Income, and Education level. Interpret the results.\n",
    "import numpy as np\n",
    "import pandas as pd\n",
    "\n",
    "# Sample data\n",
    "data = {\n",
    "    'Age': [25, 30, 35, 40, 45],\n",
    "    'Income': [50000, 60000, 70000, 80000, 90000],\n",
    "    'EducationLevel': [1, 2, 3, 4, 5]  # Assume EducationLevel is encoded as 1: High School, 2: Associate Degree, etc.\n",
    "}\n",
    "\n",
    "df = pd.DataFrame(data)\n",
    "print(\"Original DataFrame:\")\n",
    "print(df)\n",
    "\n",
    "# Calculate covariance matrix\n",
    "cov_matrix = df.cov()\n",
    "print(\"\\nCovariance Matrix:\")\n",
    "print(cov_matrix)\n"
   ]
  },
  {
   "cell_type": "code",
   "execution_count": 8,
   "id": "f303016a-54cd-47af-aed6-4d4c90975620",
   "metadata": {},
   "outputs": [
    {
     "name": "stdout",
     "output_type": "stream",
     "text": [
      "   Gender  Gender_Encoded\n",
      "0    Male               1\n",
      "1  Female               0\n",
      "2  Female               0\n",
      "3    Male               1\n"
     ]
    }
   ],
   "source": [
    "#Q6. You are working on a machine learning project with a dataset containing several categorical variables, including \"Gender\" (Male/Female)\n",
    "#, \"Education Level\" (High School/Bachelor's/Master's/PhD),and \"Employment Status\" (Unemployed/Part-Time/Full-Time). Which encoding method\n",
    "#would you use foreach variable, and why?\n",
    "'''1. Gender (Male/Female)\n",
    "Recommended Encoding Method: Binary Encoding (or Label Encoding)\n",
    "\n",
    "Why: The \"Gender\" variable has only two categories (Male and Female), which makes it suitable for binary encoding. This method will convert\n",
    "the categories into 0 and 1, preserving the simplicity and avoiding the creation of unnecessary additional columns.'''\n",
    "import pandas as pd\n",
    "from sklearn.preprocessing import LabelEncoder\n",
    "\n",
    "# Sample data\n",
    "data = {'Gender': ['Male', 'Female', 'Female', 'Male']}\n",
    "df = pd.DataFrame(data)\n",
    "\n",
    "# Label Encoding\n",
    "le = LabelEncoder()\n",
    "df['Gender_Encoded'] = le.fit_transform(df['Gender'])\n",
    "print(df)\n"
   ]
  },
  {
   "cell_type": "code",
   "execution_count": 9,
   "id": "e0efedf2-b940-4542-8d8e-8cf14247785c",
   "metadata": {},
   "outputs": [
    {
     "name": "stdout",
     "output_type": "stream",
     "text": [
      "  Education Level  Education_Level_Encoded\n",
      "0     High School                      0.0\n",
      "1      Bachelor's                      1.0\n",
      "2        Master's                      2.0\n",
      "3             PhD                      3.0\n"
     ]
    }
   ],
   "source": [
    "'''2. Education Level (High School/Bachelor's/Master's/PhD)\n",
    "Recommended Encoding Method: Ordinal Encoding\n",
    "\n",
    "Why: The \"Education Level\" variable has an inherent order or hierarchy (High School < Bachelor's < Master's < PhD). Ordinal encoding will \n",
    "capture this order by assigning incremental integer values to the categories.'''\n",
    "from sklearn.preprocessing import OrdinalEncoder\n",
    "\n",
    "# Sample data\n",
    "data = {'Education Level': ['High School', 'Bachelor\\'s', 'Master\\'s', 'PhD']}\n",
    "df = pd.DataFrame(data)\n",
    "\n",
    "# Define the order\n",
    "education_order = ['High School', 'Bachelor\\'s', 'Master\\'s', 'PhD']\n",
    "\n",
    "# Ordinal Encoding\n",
    "oe = OrdinalEncoder(categories=[education_order])\n",
    "df['Education_Level_Encoded'] = oe.fit_transform(df[['Education Level']])\n",
    "print(df)\n"
   ]
  },
  {
   "cell_type": "code",
   "execution_count": 10,
   "id": "69b7f81f-04e7-4e2d-ba2e-2ed3390105ac",
   "metadata": {},
   "outputs": [
    {
     "name": "stdout",
     "output_type": "stream",
     "text": [
      "  Employment Status  Employment Status_Full-Time  Employment Status_Part-Time  \\\n",
      "0        Unemployed                          0.0                          0.0   \n",
      "1         Part-Time                          0.0                          1.0   \n",
      "2         Full-Time                          1.0                          0.0   \n",
      "3         Part-Time                          0.0                          1.0   \n",
      "\n",
      "   Employment Status_Unemployed  \n",
      "0                           1.0  \n",
      "1                           0.0  \n",
      "2                           0.0  \n",
      "3                           0.0  \n"
     ]
    },
    {
     "name": "stderr",
     "output_type": "stream",
     "text": [
      "/opt/conda/lib/python3.10/site-packages/sklearn/preprocessing/_encoders.py:808: FutureWarning: `sparse` was renamed to `sparse_output` in version 1.2 and will be removed in 1.4. `sparse_output` is ignored unless you leave `sparse` to its default value.\n",
      "  warnings.warn(\n"
     ]
    }
   ],
   "source": [
    "'''3. Employment Status (Unemployed/Part-Time/Full-Time)\n",
    "Recommended Encoding Method: One-Hot Encoding\n",
    "\n",
    "Why: The \"Employment Status\" variable does not have a natural order and has more than two categories. One-hot encoding will create separate\n",
    "binary columns for each category, ensuring no ordinal relationship is implied.'''\n",
    "from sklearn.preprocessing import OneHotEncoder\n",
    "\n",
    "# Sample data\n",
    "data = {'Employment Status': ['Unemployed', 'Part-Time', 'Full-Time', 'Part-Time']}\n",
    "df = pd.DataFrame(data)\n",
    "\n",
    "# One-Hot Encoding\n",
    "ohe = OneHotEncoder(sparse=False)\n",
    "employment_encoded = ohe.fit_transform(df[['Employment Status']])\n",
    "\n",
    "# Create a DataFrame with the encoded columns\n",
    "employment_encoded_df = pd.DataFrame(employment_encoded, columns=ohe.get_feature_names_out(['Employment Status']))\n",
    "df = pd.concat([df, employment_encoded_df], axis=1)\n",
    "print(df)\n"
   ]
  },
  {
   "cell_type": "code",
   "execution_count": 11,
   "id": "bb8906ae-f3df-4669-b0e9-003bd0978c28",
   "metadata": {},
   "outputs": [
    {
     "name": "stdout",
     "output_type": "stream",
     "text": [
      "Original DataFrame:\n",
      "   Temperature  Humidity Weather Condition Wind Direction\n",
      "0           30        70             Sunny          North\n",
      "1           25        65            Cloudy          South\n",
      "2           27        80             Rainy           East\n",
      "3           22        75             Sunny           West\n",
      "4           35        60            Cloudy          North\n",
      "\n",
      "Encoded DataFrame:\n",
      "   Temperature  Humidity  Weather Condition  Wind Direction\n",
      "0           30        70                  2               1\n",
      "1           25        65                  0               2\n",
      "2           27        80                  1               0\n",
      "3           22        75                  2               3\n",
      "4           35        60                  0               1\n",
      "\n",
      "Covariance Matrix:\n",
      "                   Temperature  Humidity  Weather Condition  Wind Direction\n",
      "Temperature              24.70    -23.75              -2.00           -3.40\n",
      "Humidity                -23.75     62.50               5.00           -1.25\n",
      "Weather Condition        -2.00      5.00               1.00            0.25\n",
      "Wind Direction           -3.40     -1.25               0.25            1.30\n"
     ]
    }
   ],
   "source": [
    "#Q7. You are analyzing a dataset with two continuous variables, \"Temperature\" and \"Humidity\", and two categorical variables, \"Weather \n",
    "#Condition\" (Sunny/Cloudy/Rainy) and \"Wind Direction\" (North/South/East/West). Calculate the covariance between each pair of variables and\n",
    "#interpret the results.\n",
    "import pandas as pd\n",
    "import numpy as np\n",
    "from sklearn.preprocessing import LabelEncoder\n",
    "\n",
    "# Sample data\n",
    "data = {\n",
    "    'Temperature': [30, 25, 27, 22, 35],\n",
    "    'Humidity': [70, 65, 80, 75, 60],\n",
    "    'Weather Condition': ['Sunny', 'Cloudy', 'Rainy', 'Sunny', 'Cloudy'],\n",
    "    'Wind Direction': ['North', 'South', 'East', 'West', 'North']\n",
    "}\n",
    "df = pd.DataFrame(data)\n",
    "print(\"Original DataFrame:\")\n",
    "print(df)\n",
    "\n",
    "# Initialize the LabelEncoder\n",
    "le = LabelEncoder()\n",
    "\n",
    "# Encode categorical variables\n",
    "df['Weather Condition'] = le.fit_transform(df['Weather Condition'])\n",
    "df['Wind Direction'] = le.fit_transform(df['Wind Direction'])\n",
    "print(\"\\nEncoded DataFrame:\")\n",
    "print(df)\n",
    "\n",
    "# Calculate covariance matrix\n",
    "cov_matrix = df.cov()\n",
    "print(\"\\nCovariance Matrix:\")\n",
    "print(cov_matrix)\n"
   ]
  },
  {
   "cell_type": "code",
   "execution_count": null,
   "id": "9e110c23-71f1-4c26-a921-49413ccea798",
   "metadata": {},
   "outputs": [],
   "source": []
  }
 ],
 "metadata": {
  "kernelspec": {
   "display_name": "Python 3 (ipykernel)",
   "language": "python",
   "name": "python3"
  },
  "language_info": {
   "codemirror_mode": {
    "name": "ipython",
    "version": 3
   },
   "file_extension": ".py",
   "mimetype": "text/x-python",
   "name": "python",
   "nbconvert_exporter": "python",
   "pygments_lexer": "ipython3",
   "version": "3.10.8"
  }
 },
 "nbformat": 4,
 "nbformat_minor": 5
}
